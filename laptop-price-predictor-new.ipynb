{
 "cells": [
  {
   "cell_type": "code",
   "execution_count": 1,
   "id": "82edeb04",
   "metadata": {},
   "outputs": [],
   "source": [
    "import numpy as np\n",
    "import pandas as pd\n",
    "import matplotlib.pyplot as plt"
   ]
  },
  {
   "cell_type": "code",
   "execution_count": 2,
   "id": "203583d9",
   "metadata": {},
   "outputs": [],
   "source": [
    "df = pd.read_csv('laptop_dataset.csv')"
   ]
  },
  {
   "cell_type": "code",
   "execution_count": 3,
   "id": "5106314a",
   "metadata": {},
   "outputs": [
    {
     "data": {
      "text/html": [
       "<div>\n",
       "<style scoped>\n",
       "    .dataframe tbody tr th:only-of-type {\n",
       "        vertical-align: middle;\n",
       "    }\n",
       "\n",
       "    .dataframe tbody tr th {\n",
       "        vertical-align: top;\n",
       "    }\n",
       "\n",
       "    .dataframe thead th {\n",
       "        text-align: right;\n",
       "    }\n",
       "</style>\n",
       "<table border=\"1\" class=\"dataframe\">\n",
       "  <thead>\n",
       "    <tr style=\"text-align: right;\">\n",
       "      <th></th>\n",
       "      <th>Unnamed: 0</th>\n",
       "      <th>Company</th>\n",
       "      <th>TypeName</th>\n",
       "      <th>Inches</th>\n",
       "      <th>ScreenResolution</th>\n",
       "      <th>Cpu</th>\n",
       "      <th>Ram</th>\n",
       "      <th>Memory</th>\n",
       "      <th>Gpu</th>\n",
       "      <th>OpSys</th>\n",
       "      <th>Weight</th>\n",
       "      <th>Price</th>\n",
       "    </tr>\n",
       "  </thead>\n",
       "  <tbody>\n",
       "    <tr>\n",
       "      <th>0</th>\n",
       "      <td>0</td>\n",
       "      <td>Apple</td>\n",
       "      <td>Ultrabook</td>\n",
       "      <td>13.3</td>\n",
       "      <td>IPS Panel Retina Display 2560x1600</td>\n",
       "      <td>Intel Core i5 2.3GHz</td>\n",
       "      <td>8GB</td>\n",
       "      <td>128GB SSD</td>\n",
       "      <td>Intel Iris Plus Graphics 640</td>\n",
       "      <td>macOS</td>\n",
       "      <td>1.37kg</td>\n",
       "      <td>71378.6832</td>\n",
       "    </tr>\n",
       "    <tr>\n",
       "      <th>1</th>\n",
       "      <td>1</td>\n",
       "      <td>Apple</td>\n",
       "      <td>Ultrabook</td>\n",
       "      <td>13.3</td>\n",
       "      <td>1440x900</td>\n",
       "      <td>Intel Core i5 1.8GHz</td>\n",
       "      <td>8GB</td>\n",
       "      <td>128GB Flash Storage</td>\n",
       "      <td>Intel HD Graphics 6000</td>\n",
       "      <td>macOS</td>\n",
       "      <td>1.34kg</td>\n",
       "      <td>47895.5232</td>\n",
       "    </tr>\n",
       "    <tr>\n",
       "      <th>2</th>\n",
       "      <td>2</td>\n",
       "      <td>HP</td>\n",
       "      <td>Notebook</td>\n",
       "      <td>15.6</td>\n",
       "      <td>Full HD 1920x1080</td>\n",
       "      <td>Intel Core i5 7200U 2.5GHz</td>\n",
       "      <td>8GB</td>\n",
       "      <td>256GB SSD</td>\n",
       "      <td>Intel HD Graphics 620</td>\n",
       "      <td>No OS</td>\n",
       "      <td>1.86kg</td>\n",
       "      <td>30636.0000</td>\n",
       "    </tr>\n",
       "    <tr>\n",
       "      <th>3</th>\n",
       "      <td>3</td>\n",
       "      <td>Apple</td>\n",
       "      <td>Ultrabook</td>\n",
       "      <td>15.4</td>\n",
       "      <td>IPS Panel Retina Display 2880x1800</td>\n",
       "      <td>Intel Core i7 2.7GHz</td>\n",
       "      <td>16GB</td>\n",
       "      <td>512GB SSD</td>\n",
       "      <td>AMD Radeon Pro 455</td>\n",
       "      <td>macOS</td>\n",
       "      <td>1.83kg</td>\n",
       "      <td>135195.3360</td>\n",
       "    </tr>\n",
       "    <tr>\n",
       "      <th>4</th>\n",
       "      <td>4</td>\n",
       "      <td>Apple</td>\n",
       "      <td>Ultrabook</td>\n",
       "      <td>13.3</td>\n",
       "      <td>IPS Panel Retina Display 2560x1600</td>\n",
       "      <td>Intel Core i5 3.1GHz</td>\n",
       "      <td>8GB</td>\n",
       "      <td>256GB SSD</td>\n",
       "      <td>Intel Iris Plus Graphics 650</td>\n",
       "      <td>macOS</td>\n",
       "      <td>1.37kg</td>\n",
       "      <td>96095.8080</td>\n",
       "    </tr>\n",
       "  </tbody>\n",
       "</table>\n",
       "</div>"
      ],
      "text/plain": [
       "   Unnamed: 0 Company   TypeName  Inches                    ScreenResolution  \\\n",
       "0           0   Apple  Ultrabook    13.3  IPS Panel Retina Display 2560x1600   \n",
       "1           1   Apple  Ultrabook    13.3                            1440x900   \n",
       "2           2      HP   Notebook    15.6                   Full HD 1920x1080   \n",
       "3           3   Apple  Ultrabook    15.4  IPS Panel Retina Display 2880x1800   \n",
       "4           4   Apple  Ultrabook    13.3  IPS Panel Retina Display 2560x1600   \n",
       "\n",
       "                          Cpu   Ram               Memory  \\\n",
       "0        Intel Core i5 2.3GHz   8GB            128GB SSD   \n",
       "1        Intel Core i5 1.8GHz   8GB  128GB Flash Storage   \n",
       "2  Intel Core i5 7200U 2.5GHz   8GB            256GB SSD   \n",
       "3        Intel Core i7 2.7GHz  16GB            512GB SSD   \n",
       "4        Intel Core i5 3.1GHz   8GB            256GB SSD   \n",
       "\n",
       "                            Gpu  OpSys  Weight        Price  \n",
       "0  Intel Iris Plus Graphics 640  macOS  1.37kg   71378.6832  \n",
       "1        Intel HD Graphics 6000  macOS  1.34kg   47895.5232  \n",
       "2         Intel HD Graphics 620  No OS  1.86kg   30636.0000  \n",
       "3            AMD Radeon Pro 455  macOS  1.83kg  135195.3360  \n",
       "4  Intel Iris Plus Graphics 650  macOS  1.37kg   96095.8080  "
      ]
     },
     "execution_count": 3,
     "metadata": {},
     "output_type": "execute_result"
    }
   ],
   "source": [
    "df.head()"
   ]
  },
  {
   "cell_type": "code",
   "execution_count": 4,
   "id": "5df0e810",
   "metadata": {},
   "outputs": [
    {
     "data": {
      "text/plain": [
       "(1303, 12)"
      ]
     },
     "execution_count": 4,
     "metadata": {},
     "output_type": "execute_result"
    }
   ],
   "source": [
    "df.shape"
   ]
  },
  {
   "cell_type": "code",
   "execution_count": 5,
   "id": "2721be49",
   "metadata": {},
   "outputs": [
    {
     "name": "stdout",
     "output_type": "stream",
     "text": [
      "<class 'pandas.core.frame.DataFrame'>\n",
      "RangeIndex: 1303 entries, 0 to 1302\n",
      "Data columns (total 12 columns):\n",
      " #   Column            Non-Null Count  Dtype  \n",
      "---  ------            --------------  -----  \n",
      " 0   Unnamed: 0        1303 non-null   int64  \n",
      " 1   Company           1303 non-null   object \n",
      " 2   TypeName          1303 non-null   object \n",
      " 3   Inches            1303 non-null   float64\n",
      " 4   ScreenResolution  1303 non-null   object \n",
      " 5   Cpu               1303 non-null   object \n",
      " 6   Ram               1303 non-null   object \n",
      " 7   Memory            1303 non-null   object \n",
      " 8   Gpu               1303 non-null   object \n",
      " 9   OpSys             1303 non-null   object \n",
      " 10  Weight            1303 non-null   object \n",
      " 11  Price             1303 non-null   float64\n",
      "dtypes: float64(2), int64(1), object(9)\n",
      "memory usage: 122.3+ KB\n"
     ]
    }
   ],
   "source": [
    "df.info()"
   ]
  },
  {
   "cell_type": "code",
   "execution_count": 6,
   "id": "d623a6c1",
   "metadata": {},
   "outputs": [
    {
     "data": {
      "text/plain": [
       "0"
      ]
     },
     "execution_count": 6,
     "metadata": {},
     "output_type": "execute_result"
    }
   ],
   "source": [
    "df.duplicated().sum()"
   ]
  },
  {
   "cell_type": "code",
   "execution_count": 7,
   "id": "a3e5e8f5",
   "metadata": {},
   "outputs": [
    {
     "data": {
      "text/plain": [
       "Unnamed: 0          0\n",
       "Company             0\n",
       "TypeName            0\n",
       "Inches              0\n",
       "ScreenResolution    0\n",
       "Cpu                 0\n",
       "Ram                 0\n",
       "Memory              0\n",
       "Gpu                 0\n",
       "OpSys               0\n",
       "Weight              0\n",
       "Price               0\n",
       "dtype: int64"
      ]
     },
     "execution_count": 7,
     "metadata": {},
     "output_type": "execute_result"
    }
   ],
   "source": [
    "df.isnull().sum()"
   ]
  },
  {
   "cell_type": "code",
   "execution_count": 8,
   "id": "7da78c39",
   "metadata": {},
   "outputs": [],
   "source": [
    "df.drop(columns=['Unnamed: 0'],inplace=True)"
   ]
  },
  {
   "cell_type": "code",
   "execution_count": 9,
   "id": "533fe856",
   "metadata": {},
   "outputs": [
    {
     "data": {
      "text/html": [
       "<div>\n",
       "<style scoped>\n",
       "    .dataframe tbody tr th:only-of-type {\n",
       "        vertical-align: middle;\n",
       "    }\n",
       "\n",
       "    .dataframe tbody tr th {\n",
       "        vertical-align: top;\n",
       "    }\n",
       "\n",
       "    .dataframe thead th {\n",
       "        text-align: right;\n",
       "    }\n",
       "</style>\n",
       "<table border=\"1\" class=\"dataframe\">\n",
       "  <thead>\n",
       "    <tr style=\"text-align: right;\">\n",
       "      <th></th>\n",
       "      <th>Company</th>\n",
       "      <th>TypeName</th>\n",
       "      <th>Inches</th>\n",
       "      <th>ScreenResolution</th>\n",
       "      <th>Cpu</th>\n",
       "      <th>Ram</th>\n",
       "      <th>Memory</th>\n",
       "      <th>Gpu</th>\n",
       "      <th>OpSys</th>\n",
       "      <th>Weight</th>\n",
       "      <th>Price</th>\n",
       "    </tr>\n",
       "  </thead>\n",
       "  <tbody>\n",
       "    <tr>\n",
       "      <th>0</th>\n",
       "      <td>Apple</td>\n",
       "      <td>Ultrabook</td>\n",
       "      <td>13.3</td>\n",
       "      <td>IPS Panel Retina Display 2560x1600</td>\n",
       "      <td>Intel Core i5 2.3GHz</td>\n",
       "      <td>8GB</td>\n",
       "      <td>128GB SSD</td>\n",
       "      <td>Intel Iris Plus Graphics 640</td>\n",
       "      <td>macOS</td>\n",
       "      <td>1.37kg</td>\n",
       "      <td>71378.6832</td>\n",
       "    </tr>\n",
       "    <tr>\n",
       "      <th>1</th>\n",
       "      <td>Apple</td>\n",
       "      <td>Ultrabook</td>\n",
       "      <td>13.3</td>\n",
       "      <td>1440x900</td>\n",
       "      <td>Intel Core i5 1.8GHz</td>\n",
       "      <td>8GB</td>\n",
       "      <td>128GB Flash Storage</td>\n",
       "      <td>Intel HD Graphics 6000</td>\n",
       "      <td>macOS</td>\n",
       "      <td>1.34kg</td>\n",
       "      <td>47895.5232</td>\n",
       "    </tr>\n",
       "    <tr>\n",
       "      <th>2</th>\n",
       "      <td>HP</td>\n",
       "      <td>Notebook</td>\n",
       "      <td>15.6</td>\n",
       "      <td>Full HD 1920x1080</td>\n",
       "      <td>Intel Core i5 7200U 2.5GHz</td>\n",
       "      <td>8GB</td>\n",
       "      <td>256GB SSD</td>\n",
       "      <td>Intel HD Graphics 620</td>\n",
       "      <td>No OS</td>\n",
       "      <td>1.86kg</td>\n",
       "      <td>30636.0000</td>\n",
       "    </tr>\n",
       "    <tr>\n",
       "      <th>3</th>\n",
       "      <td>Apple</td>\n",
       "      <td>Ultrabook</td>\n",
       "      <td>15.4</td>\n",
       "      <td>IPS Panel Retina Display 2880x1800</td>\n",
       "      <td>Intel Core i7 2.7GHz</td>\n",
       "      <td>16GB</td>\n",
       "      <td>512GB SSD</td>\n",
       "      <td>AMD Radeon Pro 455</td>\n",
       "      <td>macOS</td>\n",
       "      <td>1.83kg</td>\n",
       "      <td>135195.3360</td>\n",
       "    </tr>\n",
       "    <tr>\n",
       "      <th>4</th>\n",
       "      <td>Apple</td>\n",
       "      <td>Ultrabook</td>\n",
       "      <td>13.3</td>\n",
       "      <td>IPS Panel Retina Display 2560x1600</td>\n",
       "      <td>Intel Core i5 3.1GHz</td>\n",
       "      <td>8GB</td>\n",
       "      <td>256GB SSD</td>\n",
       "      <td>Intel Iris Plus Graphics 650</td>\n",
       "      <td>macOS</td>\n",
       "      <td>1.37kg</td>\n",
       "      <td>96095.8080</td>\n",
       "    </tr>\n",
       "  </tbody>\n",
       "</table>\n",
       "</div>"
      ],
      "text/plain": [
       "  Company   TypeName  Inches                    ScreenResolution  \\\n",
       "0   Apple  Ultrabook    13.3  IPS Panel Retina Display 2560x1600   \n",
       "1   Apple  Ultrabook    13.3                            1440x900   \n",
       "2      HP   Notebook    15.6                   Full HD 1920x1080   \n",
       "3   Apple  Ultrabook    15.4  IPS Panel Retina Display 2880x1800   \n",
       "4   Apple  Ultrabook    13.3  IPS Panel Retina Display 2560x1600   \n",
       "\n",
       "                          Cpu   Ram               Memory  \\\n",
       "0        Intel Core i5 2.3GHz   8GB            128GB SSD   \n",
       "1        Intel Core i5 1.8GHz   8GB  128GB Flash Storage   \n",
       "2  Intel Core i5 7200U 2.5GHz   8GB            256GB SSD   \n",
       "3        Intel Core i7 2.7GHz  16GB            512GB SSD   \n",
       "4        Intel Core i5 3.1GHz   8GB            256GB SSD   \n",
       "\n",
       "                            Gpu  OpSys  Weight        Price  \n",
       "0  Intel Iris Plus Graphics 640  macOS  1.37kg   71378.6832  \n",
       "1        Intel HD Graphics 6000  macOS  1.34kg   47895.5232  \n",
       "2         Intel HD Graphics 620  No OS  1.86kg   30636.0000  \n",
       "3            AMD Radeon Pro 455  macOS  1.83kg  135195.3360  \n",
       "4  Intel Iris Plus Graphics 650  macOS  1.37kg   96095.8080  "
      ]
     },
     "execution_count": 9,
     "metadata": {},
     "output_type": "execute_result"
    }
   ],
   "source": [
    "df.head()"
   ]
  },
  {
   "cell_type": "code",
   "execution_count": 10,
   "id": "b0c543e1",
   "metadata": {},
   "outputs": [],
   "source": [
    "df['Ram'] = df['Ram'].str.replace('GB','')\n",
    "df['Weight'] = df['Weight'].str.replace('kg','')"
   ]
  },
  {
   "cell_type": "code",
   "execution_count": 11,
   "id": "291e2927",
   "metadata": {},
   "outputs": [
    {
     "data": {
      "text/html": [
       "<div>\n",
       "<style scoped>\n",
       "    .dataframe tbody tr th:only-of-type {\n",
       "        vertical-align: middle;\n",
       "    }\n",
       "\n",
       "    .dataframe tbody tr th {\n",
       "        vertical-align: top;\n",
       "    }\n",
       "\n",
       "    .dataframe thead th {\n",
       "        text-align: right;\n",
       "    }\n",
       "</style>\n",
       "<table border=\"1\" class=\"dataframe\">\n",
       "  <thead>\n",
       "    <tr style=\"text-align: right;\">\n",
       "      <th></th>\n",
       "      <th>Company</th>\n",
       "      <th>TypeName</th>\n",
       "      <th>Inches</th>\n",
       "      <th>ScreenResolution</th>\n",
       "      <th>Cpu</th>\n",
       "      <th>Ram</th>\n",
       "      <th>Memory</th>\n",
       "      <th>Gpu</th>\n",
       "      <th>OpSys</th>\n",
       "      <th>Weight</th>\n",
       "      <th>Price</th>\n",
       "    </tr>\n",
       "  </thead>\n",
       "  <tbody>\n",
       "    <tr>\n",
       "      <th>0</th>\n",
       "      <td>Apple</td>\n",
       "      <td>Ultrabook</td>\n",
       "      <td>13.3</td>\n",
       "      <td>IPS Panel Retina Display 2560x1600</td>\n",
       "      <td>Intel Core i5 2.3GHz</td>\n",
       "      <td>8</td>\n",
       "      <td>128GB SSD</td>\n",
       "      <td>Intel Iris Plus Graphics 640</td>\n",
       "      <td>macOS</td>\n",
       "      <td>1.37</td>\n",
       "      <td>71378.6832</td>\n",
       "    </tr>\n",
       "    <tr>\n",
       "      <th>1</th>\n",
       "      <td>Apple</td>\n",
       "      <td>Ultrabook</td>\n",
       "      <td>13.3</td>\n",
       "      <td>1440x900</td>\n",
       "      <td>Intel Core i5 1.8GHz</td>\n",
       "      <td>8</td>\n",
       "      <td>128GB Flash Storage</td>\n",
       "      <td>Intel HD Graphics 6000</td>\n",
       "      <td>macOS</td>\n",
       "      <td>1.34</td>\n",
       "      <td>47895.5232</td>\n",
       "    </tr>\n",
       "    <tr>\n",
       "      <th>2</th>\n",
       "      <td>HP</td>\n",
       "      <td>Notebook</td>\n",
       "      <td>15.6</td>\n",
       "      <td>Full HD 1920x1080</td>\n",
       "      <td>Intel Core i5 7200U 2.5GHz</td>\n",
       "      <td>8</td>\n",
       "      <td>256GB SSD</td>\n",
       "      <td>Intel HD Graphics 620</td>\n",
       "      <td>No OS</td>\n",
       "      <td>1.86</td>\n",
       "      <td>30636.0000</td>\n",
       "    </tr>\n",
       "    <tr>\n",
       "      <th>3</th>\n",
       "      <td>Apple</td>\n",
       "      <td>Ultrabook</td>\n",
       "      <td>15.4</td>\n",
       "      <td>IPS Panel Retina Display 2880x1800</td>\n",
       "      <td>Intel Core i7 2.7GHz</td>\n",
       "      <td>16</td>\n",
       "      <td>512GB SSD</td>\n",
       "      <td>AMD Radeon Pro 455</td>\n",
       "      <td>macOS</td>\n",
       "      <td>1.83</td>\n",
       "      <td>135195.3360</td>\n",
       "    </tr>\n",
       "    <tr>\n",
       "      <th>4</th>\n",
       "      <td>Apple</td>\n",
       "      <td>Ultrabook</td>\n",
       "      <td>13.3</td>\n",
       "      <td>IPS Panel Retina Display 2560x1600</td>\n",
       "      <td>Intel Core i5 3.1GHz</td>\n",
       "      <td>8</td>\n",
       "      <td>256GB SSD</td>\n",
       "      <td>Intel Iris Plus Graphics 650</td>\n",
       "      <td>macOS</td>\n",
       "      <td>1.37</td>\n",
       "      <td>96095.8080</td>\n",
       "    </tr>\n",
       "  </tbody>\n",
       "</table>\n",
       "</div>"
      ],
      "text/plain": [
       "  Company   TypeName  Inches                    ScreenResolution  \\\n",
       "0   Apple  Ultrabook    13.3  IPS Panel Retina Display 2560x1600   \n",
       "1   Apple  Ultrabook    13.3                            1440x900   \n",
       "2      HP   Notebook    15.6                   Full HD 1920x1080   \n",
       "3   Apple  Ultrabook    15.4  IPS Panel Retina Display 2880x1800   \n",
       "4   Apple  Ultrabook    13.3  IPS Panel Retina Display 2560x1600   \n",
       "\n",
       "                          Cpu Ram               Memory  \\\n",
       "0        Intel Core i5 2.3GHz   8            128GB SSD   \n",
       "1        Intel Core i5 1.8GHz   8  128GB Flash Storage   \n",
       "2  Intel Core i5 7200U 2.5GHz   8            256GB SSD   \n",
       "3        Intel Core i7 2.7GHz  16            512GB SSD   \n",
       "4        Intel Core i5 3.1GHz   8            256GB SSD   \n",
       "\n",
       "                            Gpu  OpSys Weight        Price  \n",
       "0  Intel Iris Plus Graphics 640  macOS   1.37   71378.6832  \n",
       "1        Intel HD Graphics 6000  macOS   1.34   47895.5232  \n",
       "2         Intel HD Graphics 620  No OS   1.86   30636.0000  \n",
       "3            AMD Radeon Pro 455  macOS   1.83  135195.3360  \n",
       "4  Intel Iris Plus Graphics 650  macOS   1.37   96095.8080  "
      ]
     },
     "execution_count": 11,
     "metadata": {},
     "output_type": "execute_result"
    }
   ],
   "source": [
    "df.head()"
   ]
  },
  {
   "cell_type": "code",
   "execution_count": 12,
   "id": "9d4c27a5",
   "metadata": {},
   "outputs": [],
   "source": [
    "df['Ram'] = df['Ram'].astype('int32')\n",
    "df['Weight'] = df['Weight'].astype('float32')"
   ]
  },
  {
   "cell_type": "code",
   "execution_count": 13,
   "id": "356bdba8",
   "metadata": {},
   "outputs": [
    {
     "name": "stdout",
     "output_type": "stream",
     "text": [
      "<class 'pandas.core.frame.DataFrame'>\n",
      "RangeIndex: 1303 entries, 0 to 1302\n",
      "Data columns (total 11 columns):\n",
      " #   Column            Non-Null Count  Dtype  \n",
      "---  ------            --------------  -----  \n",
      " 0   Company           1303 non-null   object \n",
      " 1   TypeName          1303 non-null   object \n",
      " 2   Inches            1303 non-null   float64\n",
      " 3   ScreenResolution  1303 non-null   object \n",
      " 4   Cpu               1303 non-null   object \n",
      " 5   Ram               1303 non-null   int32  \n",
      " 6   Memory            1303 non-null   object \n",
      " 7   Gpu               1303 non-null   object \n",
      " 8   OpSys             1303 non-null   object \n",
      " 9   Weight            1303 non-null   float32\n",
      " 10  Price             1303 non-null   float64\n",
      "dtypes: float32(1), float64(2), int32(1), object(7)\n",
      "memory usage: 101.9+ KB\n"
     ]
    }
   ],
   "source": [
    "df.info()"
   ]
  },
  {
   "cell_type": "code",
   "execution_count": 14,
   "id": "51e9c4c5",
   "metadata": {},
   "outputs": [],
   "source": [
    "import seaborn as sns"
   ]
  },
  {
   "cell_type": "code",
   "execution_count": 15,
   "id": "37e41400",
   "metadata": {},
   "outputs": [
    {
     "name": "stderr",
     "output_type": "stream",
     "text": [
      "/var/folders/jm/l7z1pz590c340yqzvk57pbw00000gn/T/ipykernel_74347/834922981.py:1: UserWarning: \n",
      "\n",
      "`distplot` is a deprecated function and will be removed in seaborn v0.14.0.\n",
      "\n",
      "Please adapt your code to use either `displot` (a figure-level function with\n",
      "similar flexibility) or `histplot` (an axes-level function for histograms).\n",
      "\n",
      "For a guide to updating your code to use the new functions, please see\n",
      "https://gist.github.com/mwaskom/de44147ed2974457ad6372750bbe5751\n",
      "\n",
      "  sns.distplot(df['Price'])\n"
     ]
    },
    {
     "data": {
      "text/plain": [
       "<Axes: xlabel='Price', ylabel='Density'>"
      ]
     },
     "execution_count": 15,
     "metadata": {},
     "output_type": "execute_result"
    },
    {
     "data": {
      "image/png": "[encoded data removed]",
      "text/plain": [
       "<Figure size 640x480 with 1 Axes>"
      ]
     },
     "metadata": {},
     "output_type": "display_data"
    }
   ],
   "source": [
    "sns.distplot(df['Price'])"
   ]
  },
  {
   "cell_type": "code",
   "execution_count": 16,
   "id": "505d0590",
   "metadata": {},
   "outputs": [
    {
     "data": {
      "text/plain": [
       "<Axes: xlabel='Company'>"
      ]
     },
     "execution_count": 16,
     "metadata": {},
     "output_type": "execute_result"
    },
    {
     "data": {
      "image/png": "[encoded data removed]",
      "text/plain": [
       "<Figure size 640x480 with 1 Axes>"
      ]
     },
     "metadata": {},
     "output_type": "display_data"
    }
   ],
   "source": [
    "df['Company'].value_counts().plot(kind='bar')"
   ]
  },
  {
   "cell_type": "code",
   "execution_count": 17,
   "id": "894b0057",
   "metadata": {},
   "outputs": [
    {
     "data": {
      "image/png": "[encoded data removed]",
      "text/plain": [
       "<Figure size 640x480 with 1 Axes>"
      ]
     },
     "metadata": {},
     "output_type": "display_data"
    }
   ],
   "source": [
    "sns.barplot(x=df['Company'],y=df['Price'])\n",
    "plt.xticks(rotation='vertical')\n",
    "plt.show()"
   ]
  },
  {
   "cell_type": "code",
   "execution_count": 18,
   "id": "b2f90ba1",
   "metadata": {},
   "outputs": [
    {
     "data": {
      "text/plain": [
       "<Axes: xlabel='TypeName'>"
      ]
     },
     "execution_count": 18,
     "metadata": {},
     "output_type": "execute_result"
    },
    {
     "data": {
      "image/png": "[encoded data removed]",
      "text/plain": [
       "<Figure size 640x480 with 1 Axes>"
      ]
     },
     "metadata": {},
     "output_type": "display_data"
    }
   ],
   "source": [
    "df['TypeName'].value_counts().plot(kind='bar')"
   ]
  },
  {
   "cell_type": "code",
   "execution_count": 19,
   "id": "110dbb85",
   "metadata": {},
   "outputs": [
    {
     "data": {
      "image/png": "[encoded data removed]",
      "text/plain": [
       "<Figure size 640x480 with 1 Axes>"
      ]
     },
     "metadata": {},
     "output_type": "display_data"
    }
   ],
   "source": [
    "sns.barplot(x=df['TypeName'],y=df['Price'])\n",
    "plt.xticks(rotation='vertical')\n",
    "plt.show()"
   ]
  },
  {
   "cell_type": "code",
   "execution_count": 20,
   "id": "8ba1598a",
   "metadata": {},
   "outputs": [
    {
     "name": "stderr",
     "output_type": "stream",
     "text": [
      "/var/folders/jm/l7z1pz590c340yqzvk57pbw00000gn/T/ipykernel_74347/1439577752.py:1: UserWarning: \n",
      "\n",
      "`distplot` is a deprecated function and will be removed in seaborn v0.14.0.\n",
      "\n",
      "Please adapt your code to use either `displot` (a figure-level function with\n",
      "similar flexibility) or `histplot` (an axes-level function for histograms).\n",
      "\n",
      "For a guide to updating your code to use the new functions, please see\n",
      "https://gist.github.com/mwaskom/de44147ed2974457ad6372750bbe5751\n",
      "\n",
      "  sns.distplot(df['Inches'])\n"
     ]
    },
    {
     "data": {
      "text/plain": [
       "<Axes: xlabel='Inches', ylabel='Density'>"
      ]
     },
     "execution_count": 20,
     "metadata": {},
     "output_type": "execute_result"
    },
    {
     "data": {
      "image/png": "[encoded data removed]",
      "text/plain": [
       "<Figure size 640x480 with 1 Axes>"
      ]
     },
     "metadata": {},
     "output_type": "display_data"
    }
   ],
   "source": [
    "sns.distplot(df['Inches'])"
   ]
  },
  {
   "cell_type": "code",
   "execution_count": 21,
   "id": "114dabbf",
   "metadata": {},
   "outputs": [
    {
     "data": {
      "text/plain": [
       "<Axes: xlabel='Inches', ylabel='Price'>"
      ]
     },
     "execution_count": 21,
     "metadata": {},
     "output_type": "execute_result"
    },
    {
     "data": {
      "image/png": "[encoded data removed]",
      "text/plain": [
       "<Figure size 640x480 with 1 Axes>"
      ]
     },
     "metadata": {},
     "output_type": "display_data"
    }
   ],
   "source": [
    "sns.scatterplot(x=df['Inches'],y=df['Price'])"
   ]
  },
  {
   "cell_type": "code",
   "execution_count": 22,
   "id": "46a2daff",
   "metadata": {},
   "outputs": [
    {
     "data": {
      "text/plain": [
       "ScreenResolution\n",
       "Full HD 1920x1080                                507\n",
       "1366x768                                         281\n",
       "IPS Panel Full HD 1920x1080                      230\n",
       "IPS Panel Full HD / Touchscreen 1920x1080         53\n",
       "Full HD / Touchscreen 1920x1080                   47\n",
       "1600x900                                          23\n",
       "Touchscreen 1366x768                              16\n",
       "Quad HD+ / Touchscreen 3200x1800                  15\n",
       "IPS Panel 4K Ultra HD 3840x2160                   12\n",
       "IPS Panel 4K Ultra HD / Touchscreen 3840x2160     11\n",
       "4K Ultra HD / Touchscreen 3840x2160               10\n",
       "4K Ultra HD 3840x2160                              7\n",
       "Touchscreen 2560x1440                              7\n",
       "IPS Panel 1366x768                                 7\n",
       "IPS Panel Quad HD+ / Touchscreen 3200x1800         6\n",
       "IPS Panel Retina Display 2560x1600                 6\n",
       "IPS Panel Retina Display 2304x1440                 6\n",
       "Touchscreen 2256x1504                              6\n",
       "IPS Panel Touchscreen 2560x1440                    5\n",
       "IPS Panel Retina Display 2880x1800                 4\n",
       "IPS Panel Touchscreen 1920x1200                    4\n",
       "1440x900                                           4\n",
       "IPS Panel 2560x1440                                4\n",
       "IPS Panel Quad HD+ 2560x1440                       3\n",
       "Quad HD+ 3200x1800                                 3\n",
       "1920x1080                                          3\n",
       "Touchscreen 2400x1600                              3\n",
       "2560x1440                                          3\n",
       "IPS Panel Touchscreen 1366x768                     3\n",
       "IPS Panel Touchscreen / 4K Ultra HD 3840x2160      2\n",
       "IPS Panel Full HD 2160x1440                        2\n",
       "IPS Panel Quad HD+ 3200x1800                       2\n",
       "IPS Panel Retina Display 2736x1824                 1\n",
       "IPS Panel Full HD 1920x1200                        1\n",
       "IPS Panel Full HD 2560x1440                        1\n",
       "IPS Panel Full HD 1366x768                         1\n",
       "Touchscreen / Full HD 1920x1080                    1\n",
       "Touchscreen / Quad HD+ 3200x1800                   1\n",
       "Touchscreen / 4K Ultra HD 3840x2160                1\n",
       "IPS Panel Touchscreen 2400x1600                    1\n",
       "Name: count, dtype: int64"
      ]
     },
     "execution_count": 22,
     "metadata": {},
     "output_type": "execute_result"
    }
   ],
   "source": [
    "df['ScreenResolution'].value_counts()"
   ]
  },
  {
   "cell_type": "code",
   "execution_count": 23,
   "id": "4e4f26f5",
   "metadata": {},
   "outputs": [],
   "source": [
    "df['Touchscreen'] = df['ScreenResolution'].apply(lambda x:1 if 'Touchscreen' in x else 0)"
   ]
  },
  {
   "cell_type": "code",
   "execution_count": 24,
   "id": "07992d2e",
   "metadata": {},
   "outputs": [
    {
     "data": {
      "text/html": [
       "<div>\n",
       "<style scoped>\n",
       "    .dataframe tbody tr th:only-of-type {\n",
       "        vertical-align: middle;\n",
       "    }\n",
       "\n",
       "    .dataframe tbody tr th {\n",
       "        vertical-align: top;\n",
       "    }\n",
       "\n",
       "    .dataframe thead th {\n",
       "        text-align: right;\n",
       "    }\n",
       "</style>\n",
       "<table border=\"1\" class=\"dataframe\">\n",
       "  <thead>\n",
       "    <tr style=\"text-align: right;\">\n",
       "      <th></th>\n",
       "      <th>Company</th>\n",
       "      <th>TypeName</th>\n",
       "      <th>Inches</th>\n",
       "      <th>ScreenResolution</th>\n",
       "      <th>Cpu</th>\n",
       "      <th>Ram</th>\n",
       "      <th>Memory</th>\n",
       "      <th>Gpu</th>\n",
       "      <th>OpSys</th>\n",
       "      <th>Weight</th>\n",
       "      <th>Price</th>\n",
       "      <th>Touchscreen</th>\n",
       "    </tr>\n",
       "  </thead>\n",
       "  <tbody>\n",
       "    <tr>\n",
       "      <th>554</th>\n",
       "      <td>HP</td>\n",
       "      <td>Notebook</td>\n",
       "      <td>17.3</td>\n",
       "      <td>Full HD 1920x1080</td>\n",
       "      <td>Intel Core i7 7500U 2.7GHz</td>\n",
       "      <td>8</td>\n",
       "      <td>1TB HDD</td>\n",
       "      <td>Nvidia GeForce 930MX</td>\n",
       "      <td>Windows 10</td>\n",
       "      <td>2.63</td>\n",
       "      <td>68198.40</td>\n",
       "      <td>0</td>\n",
       "    </tr>\n",
       "    <tr>\n",
       "      <th>1081</th>\n",
       "      <td>Lenovo</td>\n",
       "      <td>Gaming</td>\n",
       "      <td>17.3</td>\n",
       "      <td>IPS Panel Full HD 1920x1080</td>\n",
       "      <td>Intel Core i7 6820HK 2.7GHz</td>\n",
       "      <td>32</td>\n",
       "      <td>512GB SSD +  1.0TB Hybrid</td>\n",
       "      <td>Nvidia GeForce GTX 980M</td>\n",
       "      <td>Windows 10</td>\n",
       "      <td>4.60</td>\n",
       "      <td>172627.20</td>\n",
       "      <td>0</td>\n",
       "    </tr>\n",
       "    <tr>\n",
       "      <th>58</th>\n",
       "      <td>MSI</td>\n",
       "      <td>Gaming</td>\n",
       "      <td>17.3</td>\n",
       "      <td>Full HD 1920x1080</td>\n",
       "      <td>Intel Core i7 7700HQ 2.8GHz</td>\n",
       "      <td>16</td>\n",
       "      <td>256GB SSD +  2TB HDD</td>\n",
       "      <td>Nvidia GeForce GTX 1070</td>\n",
       "      <td>Windows 10</td>\n",
       "      <td>2.43</td>\n",
       "      <td>130482.72</td>\n",
       "      <td>0</td>\n",
       "    </tr>\n",
       "    <tr>\n",
       "      <th>266</th>\n",
       "      <td>Asus</td>\n",
       "      <td>2 in 1 Convertible</td>\n",
       "      <td>13.3</td>\n",
       "      <td>Full HD / Touchscreen 1920x1080</td>\n",
       "      <td>Intel Core i7 8550U 1.8GHz</td>\n",
       "      <td>8</td>\n",
       "      <td>512GB SSD +  512GB SSD</td>\n",
       "      <td>Intel UHD Graphics 620</td>\n",
       "      <td>Windows 10</td>\n",
       "      <td>1.10</td>\n",
       "      <td>79866.72</td>\n",
       "      <td>1</td>\n",
       "    </tr>\n",
       "    <tr>\n",
       "      <th>399</th>\n",
       "      <td>Lenovo</td>\n",
       "      <td>Ultrabook</td>\n",
       "      <td>14.0</td>\n",
       "      <td>IPS Panel 2560x1440</td>\n",
       "      <td>Intel Core i7 7500U 2.7GHz</td>\n",
       "      <td>16</td>\n",
       "      <td>1TB SSD</td>\n",
       "      <td>Intel HD Graphics 620</td>\n",
       "      <td>Windows 10</td>\n",
       "      <td>1.13</td>\n",
       "      <td>139860.00</td>\n",
       "      <td>0</td>\n",
       "    </tr>\n",
       "  </tbody>\n",
       "</table>\n",
       "</div>"
      ],
      "text/plain": [
       "     Company            TypeName  Inches                 ScreenResolution  \\\n",
       "554       HP            Notebook    17.3                Full HD 1920x1080   \n",
       "1081  Lenovo              Gaming    17.3      IPS Panel Full HD 1920x1080   \n",
       "58       MSI              Gaming    17.3                Full HD 1920x1080   \n",
       "266     Asus  2 in 1 Convertible    13.3  Full HD / Touchscreen 1920x1080   \n",
       "399   Lenovo           Ultrabook    14.0              IPS Panel 2560x1440   \n",
       "\n",
       "                              Cpu  Ram                     Memory  \\\n",
       "554    Intel Core i7 7500U 2.7GHz    8                    1TB HDD   \n",
       "1081  Intel Core i7 6820HK 2.7GHz   32  512GB SSD +  1.0TB Hybrid   \n",
       "58    Intel Core i7 7700HQ 2.8GHz   16       256GB SSD +  2TB HDD   \n",
       "266    Intel Core i7 8550U 1.8GHz    8     512GB SSD +  512GB SSD   \n",
       "399    Intel Core i7 7500U 2.7GHz   16                    1TB SSD   \n",
       "\n",
       "                          Gpu       OpSys  Weight      Price  Touchscreen  \n",
       "554      Nvidia GeForce 930MX  Windows 10    2.63   68198.40            0  \n",
       "1081  Nvidia GeForce GTX 980M  Windows 10    4.60  172627.20            0  \n",
       "58    Nvidia GeForce GTX 1070  Windows 10    2.43  130482.72            0  \n",
       "266    Intel UHD Graphics 620  Windows 10    1.10   79866.72            1  \n",
       "399     Intel HD Graphics 620  Windows 10    1.13  139860.00            0  "
      ]
     },
     "execution_count": 24,
     "metadata": {},
     "output_type": "execute_result"
    }
   ],
   "source": [
    "df.sample(5)"
   ]
  },
  {
   "cell_type": "code",
   "execution_count": 25,
   "id": "2fa50fd6",
   "metadata": {},
   "outputs": [
    {
     "data": {
      "text/plain": [
       "<Axes: xlabel='Touchscreen'>"
      ]
     },
     "execution_count": 25,
     "metadata": {},
     "output_type": "execute_result"
    },
    {
     "data": {
      "image/png": "[encoded data removed]",
      "text/plain": [
       "<Figure size 640x480 with 1 Axes>"
      ]
     },
     "metadata": {},
     "output_type": "display_data"
    }
   ],
   "source": [
    "df['Touchscreen'].value_counts().plot(kind='bar')"
   ]
  },
  {
   "cell_type": "code",
   "execution_count": 26,
   "id": "d1b428b4",
   "metadata": {},
   "outputs": [
    {
     "data": {
      "text/plain": [
       "<Axes: xlabel='Touchscreen', ylabel='Price'>"
      ]
     },
     "execution_count": 26,
     "metadata": {},
     "output_type": "execute_result"
    },
    {
     "data": {
      "image/png": "[encoded data removed]",
      "text/plain": [
       "<Figure size 640x480 with 1 Axes>"
      ]
     },
     "metadata": {},
     "output_type": "display_data"
    }
   ],
   "source": [
    "sns.barplot(x=df['Touchscreen'],y=df['Price'])"
   ]
  },
  {
   "cell_type": "code",
   "execution_count": 27,
   "id": "8580c689",
   "metadata": {},
   "outputs": [],
   "source": [
    "df['Ips'] = df['ScreenResolution'].apply(lambda x:1 if 'IPS' in x else 0)"
   ]
  },
  {
   "cell_type": "code",
   "execution_count": 28,
   "id": "4fb51139",
   "metadata": {},
   "outputs": [
    {
     "data": {
      "text/html": [
       "<div>\n",
       "<style scoped>\n",
       "    .dataframe tbody tr th:only-of-type {\n",
       "        vertical-align: middle;\n",
       "    }\n",
       "\n",
       "    .dataframe tbody tr th {\n",
       "        vertical-align: top;\n",
       "    }\n",
       "\n",
       "    .dataframe thead th {\n",
       "        text-align: right;\n",
       "    }\n",
       "</style>\n",
       "<table border=\"1\" class=\"dataframe\">\n",
       "  <thead>\n",
       "    <tr style=\"text-align: right;\">\n",
       "      <th></th>\n",
       "      <th>Company</th>\n",
       "      <th>TypeName</th>\n",
       "      <th>Inches</th>\n",
       "      <th>ScreenResolution</th>\n",
       "      <th>Cpu</th>\n",
       "      <th>Ram</th>\n",
       "      <th>Memory</th>\n",
       "      <th>Gpu</th>\n",
       "      <th>OpSys</th>\n",
       "      <th>Weight</th>\n",
       "      <th>Price</th>\n",
       "      <th>Touchscreen</th>\n",
       "      <th>Ips</th>\n",
       "    </tr>\n",
       "  </thead>\n",
       "  <tbody>\n",
       "    <tr>\n",
       "      <th>0</th>\n",
       "      <td>Apple</td>\n",
       "      <td>Ultrabook</td>\n",
       "      <td>13.3</td>\n",
       "      <td>IPS Panel Retina Display 2560x1600</td>\n",
       "      <td>Intel Core i5 2.3GHz</td>\n",
       "      <td>8</td>\n",
       "      <td>128GB SSD</td>\n",
       "      <td>Intel Iris Plus Graphics 640</td>\n",
       "      <td>macOS</td>\n",
       "      <td>1.37</td>\n",
       "      <td>71378.6832</td>\n",
       "      <td>0</td>\n",
       "      <td>1</td>\n",
       "    </tr>\n",
       "    <tr>\n",
       "      <th>1</th>\n",
       "      <td>Apple</td>\n",
       "      <td>Ultrabook</td>\n",
       "      <td>13.3</td>\n",
       "      <td>1440x900</td>\n",
       "      <td>Intel Core i5 1.8GHz</td>\n",
       "      <td>8</td>\n",
       "      <td>128GB Flash Storage</td>\n",
       "      <td>Intel HD Graphics 6000</td>\n",
       "      <td>macOS</td>\n",
       "      <td>1.34</td>\n",
       "      <td>47895.5232</td>\n",
       "      <td>0</td>\n",
       "      <td>0</td>\n",
       "    </tr>\n",
       "    <tr>\n",
       "      <th>2</th>\n",
       "      <td>HP</td>\n",
       "      <td>Notebook</td>\n",
       "      <td>15.6</td>\n",
       "      <td>Full HD 1920x1080</td>\n",
       "      <td>Intel Core i5 7200U 2.5GHz</td>\n",
       "      <td>8</td>\n",
       "      <td>256GB SSD</td>\n",
       "      <td>Intel HD Graphics 620</td>\n",
       "      <td>No OS</td>\n",
       "      <td>1.86</td>\n",
       "      <td>30636.0000</td>\n",
       "      <td>0</td>\n",
       "      <td>0</td>\n",
       "    </tr>\n",
       "    <tr>\n",
       "      <th>3</th>\n",
       "      <td>Apple</td>\n",
       "      <td>Ultrabook</td>\n",
       "      <td>15.4</td>\n",
       "      <td>IPS Panel Retina Display 2880x1800</td>\n",
       "      <td>Intel Core i7 2.7GHz</td>\n",
       "      <td>16</td>\n",
       "      <td>512GB SSD</td>\n",
       "      <td>AMD Radeon Pro 455</td>\n",
       "      <td>macOS</td>\n",
       "      <td>1.83</td>\n",
       "      <td>135195.3360</td>\n",
       "      <td>0</td>\n",
       "      <td>1</td>\n",
       "    </tr>\n",
       "    <tr>\n",
       "      <th>4</th>\n",
       "      <td>Apple</td>\n",
       "      <td>Ultrabook</td>\n",
       "      <td>13.3</td>\n",
       "      <td>IPS Panel Retina Display 2560x1600</td>\n",
       "      <td>Intel Core i5 3.1GHz</td>\n",
       "      <td>8</td>\n",
       "      <td>256GB SSD</td>\n",
       "      <td>Intel Iris Plus Graphics 650</td>\n",
       "      <td>macOS</td>\n",
       "      <td>1.37</td>\n",
       "      <td>96095.8080</td>\n",
       "      <td>0</td>\n",
       "      <td>1</td>\n",
       "    </tr>\n",
       "  </tbody>\n",
       "</table>\n",
       "</div>"
      ],
      "text/plain": [
       "  Company   TypeName  Inches                    ScreenResolution  \\\n",
       "0   Apple  Ultrabook    13.3  IPS Panel Retina Display 2560x1600   \n",
       "1   Apple  Ultrabook    13.3                            1440x900   \n",
       "2      HP   Notebook    15.6                   Full HD 1920x1080   \n",
       "3   Apple  Ultrabook    15.4  IPS Panel Retina Display 2880x1800   \n",
       "4   Apple  Ultrabook    13.3  IPS Panel Retina Display 2560x1600   \n",
       "\n",
       "                          Cpu  Ram               Memory  \\\n",
       "0        Intel Core i5 2.3GHz    8            128GB SSD   \n",
       "1        Intel Core i5 1.8GHz    8  128GB Flash Storage   \n",
       "2  Intel Core i5 7200U 2.5GHz    8            256GB SSD   \n",
       "3        Intel Core i7 2.7GHz   16            512GB SSD   \n",
       "4        Intel Core i5 3.1GHz    8            256GB SSD   \n",
       "\n",
       "                            Gpu  OpSys  Weight        Price  Touchscreen  Ips  \n",
       "0  Intel Iris Plus Graphics 640  macOS    1.37   71378.6832            0    1  \n",
       "1        Intel HD Graphics 6000  macOS    1.34   47895.5232            0    0  \n",
       "2         Intel HD Graphics 620  No OS    1.86   30636.0000            0    0  \n",
       "3            AMD Radeon Pro 455  macOS    1.83  135195.3360            0    1  \n",
       "4  Intel Iris Plus Graphics 650  macOS    1.37   96095.8080            0    1  "
      ]
     },
     "execution_count": 28,
     "metadata": {},
     "output_type": "execute_result"
    }
   ],
   "source": [
    "df.head()"
   ]
  },
  {
   "cell_type": "code",
   "execution_count": 29,
   "id": "44ef7296",
   "metadata": {},
   "outputs": [
    {
     "data": {
      "text/plain": [
       "<Axes: xlabel='Ips'>"
      ]
     },
     "execution_count": 29,
     "metadata": {},
     "output_type": "execute_result"
    },
    {
     "data": {
      "image/png": "[encoded data removed]",
      "text/plain": [
       "<Figure size 640x480 with 1 Axes>"
      ]
     },
     "metadata": {},
     "output_type": "display_data"
    }
   ],
   "source": [
    "df['Ips'].value_counts().plot(kind='bar')"
   ]
  },
  {
   "cell_type": "code",
   "execution_count": 30,
   "id": "b8fd50ed",
   "metadata": {},
   "outputs": [
    {
     "data": {
      "text/plain": [
       "<Axes: xlabel='Ips', ylabel='Price'>"
      ]
     },
     "execution_count": 30,
     "metadata": {},
     "output_type": "execute_result"
    },
    {
     "data": {
      "image/png": "[encoded data removed]",
      "text/plain": [
       "<Figure size 640x480 with 1 Axes>"
      ]
     },
     "metadata": {},
     "output_type": "display_data"
    }
   ],
   "source": [
    "sns.barplot(x=df['Ips'],y=df['Price'])"
   ]
  },
  {
   "cell_type": "code",
   "execution_count": 31,
   "id": "b0cee465",
   "metadata": {},
   "outputs": [],
   "source": [
    "new = df['ScreenResolution'].str.split('x',n=1,expand=True)"
   ]
  },
  {
   "cell_type": "code",
   "execution_count": 32,
   "id": "a84439f0",
   "metadata": {},
   "outputs": [],
   "source": [
    "df['X_res'] = new[0]\n",
    "df['Y_res'] = new[1]"
   ]
  },
  {
   "cell_type": "code",
   "execution_count": 33,
   "id": "8a36d2c6",
   "metadata": {},
   "outputs": [
    {
     "data": {
      "text/html": [
       "<div>\n",
       "<style scoped>\n",
       "    .dataframe tbody tr th:only-of-type {\n",
       "        vertical-align: middle;\n",
       "    }\n",
       "\n",
       "    .dataframe tbody tr th {\n",
       "        vertical-align: top;\n",
       "    }\n",
       "\n",
       "    .dataframe thead th {\n",
       "        text-align: right;\n",
       "    }\n",
       "</style>\n",
       "<table border=\"1\" class=\"dataframe\">\n",
       "  <thead>\n",
       "    <tr style=\"text-align: right;\">\n",
       "      <th></th>\n",
       "      <th>Company</th>\n",
       "      <th>TypeName</th>\n",
       "      <th>Inches</th>\n",
       "      <th>ScreenResolution</th>\n",
       "      <th>Cpu</th>\n",
       "      <th>Ram</th>\n",
       "      <th>Memory</th>\n",
       "      <th>Gpu</th>\n",
       "      <th>OpSys</th>\n",
       "      <th>Weight</th>\n",
       "      <th>Price</th>\n",
       "      <th>Touchscreen</th>\n",
       "      <th>Ips</th>\n",
       "      <th>X_res</th>\n",
       "      <th>Y_res</th>\n",
       "    </tr>\n",
       "  </thead>\n",
       "  <tbody>\n",
       "    <tr>\n",
       "      <th>232</th>\n",
       "      <td>Lenovo</td>\n",
       "      <td>Gaming</td>\n",
       "      <td>15.6</td>\n",
       "      <td>IPS Panel Full HD 1920x1080</td>\n",
       "      <td>Intel Core i7 7700HQ 2.8GHz</td>\n",
       "      <td>16</td>\n",
       "      <td>256GB SSD +  1TB HDD</td>\n",
       "      <td>Nvidia GeForce GTX 1060</td>\n",
       "      <td>Windows 10</td>\n",
       "      <td>3.20</td>\n",
       "      <td>79866.72</td>\n",
       "      <td>0</td>\n",
       "      <td>1</td>\n",
       "      <td>IPS Panel Full HD 1920</td>\n",
       "      <td>1080</td>\n",
       "    </tr>\n",
       "    <tr>\n",
       "      <th>1004</th>\n",
       "      <td>Toshiba</td>\n",
       "      <td>Notebook</td>\n",
       "      <td>13.3</td>\n",
       "      <td>Full HD 1920x1080</td>\n",
       "      <td>Intel Core i5 6200U 2.3GHz</td>\n",
       "      <td>4</td>\n",
       "      <td>128GB SSD</td>\n",
       "      <td>Intel HD Graphics 520</td>\n",
       "      <td>Windows 10</td>\n",
       "      <td>1.20</td>\n",
       "      <td>63669.60</td>\n",
       "      <td>0</td>\n",
       "      <td>0</td>\n",
       "      <td>Full HD 1920</td>\n",
       "      <td>1080</td>\n",
       "    </tr>\n",
       "    <tr>\n",
       "      <th>204</th>\n",
       "      <td>Dell</td>\n",
       "      <td>Workstation</td>\n",
       "      <td>15.6</td>\n",
       "      <td>4K Ultra HD 3840x2160</td>\n",
       "      <td>Intel Xeon E3-1505M V6 3GHz</td>\n",
       "      <td>16</td>\n",
       "      <td>256GB SSD +  1TB HDD</td>\n",
       "      <td>Nvidia Quadro M1200</td>\n",
       "      <td>Windows 10</td>\n",
       "      <td>2.80</td>\n",
       "      <td>162770.40</td>\n",
       "      <td>0</td>\n",
       "      <td>0</td>\n",
       "      <td>4K Ultra HD 3840</td>\n",
       "      <td>2160</td>\n",
       "    </tr>\n",
       "    <tr>\n",
       "      <th>328</th>\n",
       "      <td>HP</td>\n",
       "      <td>Ultrabook</td>\n",
       "      <td>12.5</td>\n",
       "      <td>Full HD 1920x1080</td>\n",
       "      <td>Intel Core i7 7500U 2.7GHz</td>\n",
       "      <td>8</td>\n",
       "      <td>256GB SSD</td>\n",
       "      <td>Intel HD Graphics 620</td>\n",
       "      <td>Windows 10</td>\n",
       "      <td>1.26</td>\n",
       "      <td>71128.80</td>\n",
       "      <td>0</td>\n",
       "      <td>0</td>\n",
       "      <td>Full HD 1920</td>\n",
       "      <td>1080</td>\n",
       "    </tr>\n",
       "    <tr>\n",
       "      <th>945</th>\n",
       "      <td>Lenovo</td>\n",
       "      <td>Gaming</td>\n",
       "      <td>15.6</td>\n",
       "      <td>IPS Panel Full HD 1920x1080</td>\n",
       "      <td>AMD FX 8800P 2.1GHz</td>\n",
       "      <td>16</td>\n",
       "      <td>512GB SSD +  1TB HDD</td>\n",
       "      <td>AMD Radeon R9 M385</td>\n",
       "      <td>Windows 10</td>\n",
       "      <td>2.50</td>\n",
       "      <td>53226.72</td>\n",
       "      <td>0</td>\n",
       "      <td>1</td>\n",
       "      <td>IPS Panel Full HD 1920</td>\n",
       "      <td>1080</td>\n",
       "    </tr>\n",
       "  </tbody>\n",
       "</table>\n",
       "</div>"
      ],
      "text/plain": [
       "      Company     TypeName  Inches             ScreenResolution  \\\n",
       "232    Lenovo       Gaming    15.6  IPS Panel Full HD 1920x1080   \n",
       "1004  Toshiba     Notebook    13.3            Full HD 1920x1080   \n",
       "204      Dell  Workstation    15.6        4K Ultra HD 3840x2160   \n",
       "328        HP    Ultrabook    12.5            Full HD 1920x1080   \n",
       "945    Lenovo       Gaming    15.6  IPS Panel Full HD 1920x1080   \n",
       "\n",
       "                              Cpu  Ram                Memory  \\\n",
       "232   Intel Core i7 7700HQ 2.8GHz   16  256GB SSD +  1TB HDD   \n",
       "1004   Intel Core i5 6200U 2.3GHz    4             128GB SSD   \n",
       "204   Intel Xeon E3-1505M V6 3GHz   16  256GB SSD +  1TB HDD   \n",
       "328    Intel Core i7 7500U 2.7GHz    8             256GB SSD   \n",
       "945           AMD FX 8800P 2.1GHz   16  512GB SSD +  1TB HDD   \n",
       "\n",
       "                          Gpu       OpSys  Weight      Price  Touchscreen  \\\n",
       "232   Nvidia GeForce GTX 1060  Windows 10    3.20   79866.72            0   \n",
       "1004    Intel HD Graphics 520  Windows 10    1.20   63669.60            0   \n",
       "204       Nvidia Quadro M1200  Windows 10    2.80  162770.40            0   \n",
       "328     Intel HD Graphics 620  Windows 10    1.26   71128.80            0   \n",
       "945        AMD Radeon R9 M385  Windows 10    2.50   53226.72            0   \n",
       "\n",
       "      Ips                   X_res Y_res  \n",
       "232     1  IPS Panel Full HD 1920  1080  \n",
       "1004    0            Full HD 1920  1080  \n",
       "204     0        4K Ultra HD 3840  2160  \n",
       "328     0            Full HD 1920  1080  \n",
       "945     1  IPS Panel Full HD 1920  1080  "
      ]
     },
     "execution_count": 33,
     "metadata": {},
     "output_type": "execute_result"
    }
   ],
   "source": [
    "df.sample(5)"
   ]
  },
  {
   "cell_type": "code",
   "execution_count": 34,
   "id": "7e34b4df",
   "metadata": {},
   "outputs": [],
   "source": [
    "df['X_res'] = df['X_res'].str.replace(',','').str.findall(r'(\\d+\\.?\\d+)').apply(lambda x:x[0])"
   ]
  },
  {
   "cell_type": "code",
   "execution_count": 35,
   "id": "ea8467a9",
   "metadata": {},
   "outputs": [
    {
     "data": {
      "text/html": [
       "<div>\n",
       "<style scoped>\n",
       "    .dataframe tbody tr th:only-of-type {\n",
       "        vertical-align: middle;\n",
       "    }\n",
       "\n",
       "    .dataframe tbody tr th {\n",
       "        vertical-align: top;\n",
       "    }\n",
       "\n",
       "    .dataframe thead th {\n",
       "        text-align: right;\n",
       "    }\n",
       "</style>\n",
       "<table border=\"1\" class=\"dataframe\">\n",
       "  <thead>\n",
       "    <tr style=\"text-align: right;\">\n",
       "      <th></th>\n",
       "      <th>Company</th>\n",
       "      <th>TypeName</th>\n",
       "      <th>Inches</th>\n",
       "      <th>ScreenResolution</th>\n",
       "      <th>Cpu</th>\n",
       "      <th>Ram</th>\n",
       "      <th>Memory</th>\n",
       "      <th>Gpu</th>\n",
       "      <th>OpSys</th>\n",
       "      <th>Weight</th>\n",
       "      <th>Price</th>\n",
       "      <th>Touchscreen</th>\n",
       "      <th>Ips</th>\n",
       "      <th>X_res</th>\n",
       "      <th>Y_res</th>\n",
       "    </tr>\n",
       "  </thead>\n",
       "  <tbody>\n",
       "    <tr>\n",
       "      <th>0</th>\n",
       "      <td>Apple</td>\n",
       "      <td>Ultrabook</td>\n",
       "      <td>13.3</td>\n",
       "      <td>IPS Panel Retina Display 2560x1600</td>\n",
       "      <td>Intel Core i5 2.3GHz</td>\n",
       "      <td>8</td>\n",
       "      <td>128GB SSD</td>\n",
       "      <td>Intel Iris Plus Graphics 640</td>\n",
       "      <td>macOS</td>\n",
       "      <td>1.37</td>\n",
       "      <td>71378.6832</td>\n",
       "      <td>0</td>\n",
       "      <td>1</td>\n",
       "      <td>2560</td>\n",
       "      <td>1600</td>\n",
       "    </tr>\n",
       "    <tr>\n",
       "      <th>1</th>\n",
       "      <td>Apple</td>\n",
       "      <td>Ultrabook</td>\n",
       "      <td>13.3</td>\n",
       "      <td>1440x900</td>\n",
       "      <td>Intel Core i5 1.8GHz</td>\n",
       "      <td>8</td>\n",
       "      <td>128GB Flash Storage</td>\n",
       "      <td>Intel HD Graphics 6000</td>\n",
       "      <td>macOS</td>\n",
       "      <td>1.34</td>\n",
       "      <td>47895.5232</td>\n",
       "      <td>0</td>\n",
       "      <td>0</td>\n",
       "      <td>1440</td>\n",
       "      <td>900</td>\n",
       "    </tr>\n",
       "    <tr>\n",
       "      <th>2</th>\n",
       "      <td>HP</td>\n",
       "      <td>Notebook</td>\n",
       "      <td>15.6</td>\n",
       "      <td>Full HD 1920x1080</td>\n",
       "      <td>Intel Core i5 7200U 2.5GHz</td>\n",
       "      <td>8</td>\n",
       "      <td>256GB SSD</td>\n",
       "      <td>Intel HD Graphics 620</td>\n",
       "      <td>No OS</td>\n",
       "      <td>1.86</td>\n",
       "      <td>30636.0000</td>\n",
       "      <td>0</td>\n",
       "      <td>0</td>\n",
       "      <td>1920</td>\n",
       "      <td>1080</td>\n",
       "    </tr>\n",
       "    <tr>\n",
       "      <th>3</th>\n",
       "      <td>Apple</td>\n",
       "      <td>Ultrabook</td>\n",
       "      <td>15.4</td>\n",
       "      <td>IPS Panel Retina Display 2880x1800</td>\n",
       "      <td>Intel Core i7 2.7GHz</td>\n",
       "      <td>16</td>\n",
       "      <td>512GB SSD</td>\n",
       "      <td>AMD Radeon Pro 455</td>\n",
       "      <td>macOS</td>\n",
       "      <td>1.83</td>\n",
       "      <td>135195.3360</td>\n",
       "      <td>0</td>\n",
       "      <td>1</td>\n",
       "      <td>2880</td>\n",
       "      <td>1800</td>\n",
       "    </tr>\n",
       "    <tr>\n",
       "      <th>4</th>\n",
       "      <td>Apple</td>\n",
       "      <td>Ultrabook</td>\n",
       "      <td>13.3</td>\n",
       "      <td>IPS Panel Retina Display 2560x1600</td>\n",
       "      <td>Intel Core i5 3.1GHz</td>\n",
       "      <td>8</td>\n",
       "      <td>256GB SSD</td>\n",
       "      <td>Intel Iris Plus Graphics 650</td>\n",
       "      <td>macOS</td>\n",
       "      <td>1.37</td>\n",
       "      <td>96095.8080</td>\n",
       "      <td>0</td>\n",
       "      <td>1</td>\n",
       "      <td>2560</td>\n",
       "      <td>1600</td>\n",
       "    </tr>\n",
       "  </tbody>\n",
       "</table>\n",
       "</div>"
      ],
      "text/plain": [
       "  Company   TypeName  Inches                    ScreenResolution  \\\n",
       "0   Apple  Ultrabook    13.3  IPS Panel Retina Display 2560x1600   \n",
       "1   Apple  Ultrabook    13.3                            1440x900   \n",
       "2      HP   Notebook    15.6                   Full HD 1920x1080   \n",
       "3   Apple  Ultrabook    15.4  IPS Panel Retina Display 2880x1800   \n",
       "4   Apple  Ultrabook    13.3  IPS Panel Retina Display 2560x1600   \n",
       "\n",
       "                          Cpu  Ram               Memory  \\\n",
       "0        Intel Core i5 2.3GHz    8            128GB SSD   \n",
       "1        Intel Core i5 1.8GHz    8  128GB Flash Storage   \n",
       "2  Intel Core i5 7200U 2.5GHz    8            256GB SSD   \n",
       "3        Intel Core i7 2.7GHz   16            512GB SSD   \n",
       "4        Intel Core i5 3.1GHz    8            256GB SSD   \n",
       "\n",
       "                            Gpu  OpSys  Weight        Price  Touchscreen  Ips  \\\n",
       "0  Intel Iris Plus Graphics 640  macOS    1.37   71378.6832            0    1   \n",
       "1        Intel HD Graphics 6000  macOS    1.34   47895.5232            0    0   \n",
       "2         Intel HD Graphics 620  No OS    1.86   30636.0000            0    0   \n",
       "3            AMD Radeon Pro 455  macOS    1.83  135195.3360            0    1   \n",
       "4  Intel Iris Plus Graphics 650  macOS    1.37   96095.8080            0    1   \n",
       "\n",
       "  X_res Y_res  \n",
       "0  2560  1600  \n",
       "1  1440   900  \n",
       "2  1920  1080  \n",
       "3  2880  1800  \n",
       "4  2560  1600  "
      ]
     },
     "execution_count": 35,
     "metadata": {},
     "output_type": "execute_result"
    }
   ],
   "source": [
    "df.head()"
   ]
  },
  {
   "cell_type": "code",
   "execution_count": 36,
   "id": "dcb9da28",
   "metadata": {},
   "outputs": [],
   "source": [
    "df['X_res'] = df['X_res'].astype('int')\n",
    "df['Y_res'] = df['Y_res'].astype('int')"
   ]
  },
  {
   "cell_type": "code",
   "execution_count": 37,
   "id": "e9020c73",
   "metadata": {},
   "outputs": [
    {
     "name": "stdout",
     "output_type": "stream",
     "text": [
      "<class 'pandas.core.frame.DataFrame'>\n",
      "RangeIndex: 1303 entries, 0 to 1302\n",
      "Data columns (total 15 columns):\n",
      " #   Column            Non-Null Count  Dtype  \n",
      "---  ------            --------------  -----  \n",
      " 0   Company           1303 non-null   object \n",
      " 1   TypeName          1303 non-null   object \n",
      " 2   Inches            1303 non-null   float64\n",
      " 3   ScreenResolution  1303 non-null   object \n",
      " 4   Cpu               1303 non-null   object \n",
      " 5   Ram               1303 non-null   int32  \n",
      " 6   Memory            1303 non-null   object \n",
      " 7   Gpu               1303 non-null   object \n",
      " 8   OpSys             1303 non-null   object \n",
      " 9   Weight            1303 non-null   float32\n",
      " 10  Price             1303 non-null   float64\n",
      " 11  Touchscreen       1303 non-null   int64  \n",
      " 12  Ips               1303 non-null   int64  \n",
      " 13  X_res             1303 non-null   int64  \n",
      " 14  Y_res             1303 non-null   int64  \n",
      "dtypes: float32(1), float64(2), int32(1), int64(4), object(7)\n",
      "memory usage: 142.6+ KB\n"
     ]
    }
   ],
   "source": [
    "df.info()"
   ]
  },
  {
   "cell_type": "code",
   "execution_count": 38,
   "id": "f7e12f23",
   "metadata": {},
   "outputs": [
    {
     "data": {
      "text/plain": [
       "Inches         0.068197\n",
       "Ram            0.743007\n",
       "Weight         0.210370\n",
       "Price          1.000000\n",
       "Touchscreen    0.191226\n",
       "Ips            0.252208\n",
       "X_res          0.556529\n",
       "Y_res          0.552809\n",
       "Name: Price, dtype: float64"
      ]
     },
     "execution_count": 38,
     "metadata": {},
     "output_type": "execute_result"
    }
   ],
   "source": [
    "df.corr(numeric_only=True)['Price']"
   ]
  },
  {
   "cell_type": "code",
   "execution_count": 39,
   "id": "dbd95a94",
   "metadata": {},
   "outputs": [],
   "source": [
    "df['ppi'] = (((df['X_res']**2) + (df['Y_res']**2))**0.5/df['Inches']).astype('float')"
   ]
  },
  {
   "cell_type": "code",
   "execution_count": 40,
   "id": "98975041",
   "metadata": {},
   "outputs": [
    {
     "data": {
      "text/plain": [
       "Inches         0.068197\n",
       "Ram            0.743007\n",
       "Weight         0.210370\n",
       "Price          1.000000\n",
       "Touchscreen    0.191226\n",
       "Ips            0.252208\n",
       "X_res          0.556529\n",
       "Y_res          0.552809\n",
       "ppi            0.473487\n",
       "Name: Price, dtype: float64"
      ]
     },
     "execution_count": 40,
     "metadata": {},
     "output_type": "execute_result"
    }
   ],
   "source": [
    "df.corr(numeric_only=True)['Price']"
   ]
  },
  {
   "cell_type": "code",
   "execution_count": 41,
   "id": "43a9d35d",
   "metadata": {},
   "outputs": [],
   "source": [
    "df.drop(columns=['ScreenResolution'],inplace=True)"
   ]
  },
  {
   "cell_type": "code",
   "execution_count": 42,
   "id": "5a9b5380",
   "metadata": {},
   "outputs": [
    {
     "data": {
      "text/html": [
       "<div>\n",
       "<style scoped>\n",
       "    .dataframe tbody tr th:only-of-type {\n",
       "        vertical-align: middle;\n",
       "    }\n",
       "\n",
       "    .dataframe tbody tr th {\n",
       "        vertical-align: top;\n",
       "    }\n",
       "\n",
       "    .dataframe thead th {\n",
       "        text-align: right;\n",
       "    }\n",
       "</style>\n",
       "<table border=\"1\" class=\"dataframe\">\n",
       "  <thead>\n",
       "    <tr style=\"text-align: right;\">\n",
       "      <th></th>\n",
       "      <th>Company</th>\n",
       "      <th>TypeName</th>\n",
       "      <th>Inches</th>\n",
       "      <th>Cpu</th>\n",
       "      <th>Ram</th>\n",
       "      <th>Memory</th>\n",
       "      <th>Gpu</th>\n",
       "      <th>OpSys</th>\n",
       "      <th>Weight</th>\n",
       "      <th>Price</th>\n",
       "      <th>Touchscreen</th>\n",
       "      <th>Ips</th>\n",
       "      <th>X_res</th>\n",
       "      <th>Y_res</th>\n",
       "      <th>ppi</th>\n",
       "    </tr>\n",
       "  </thead>\n",
       "  <tbody>\n",
       "    <tr>\n",
       "      <th>0</th>\n",
       "      <td>Apple</td>\n",
       "      <td>Ultrabook</td>\n",
       "      <td>13.3</td>\n",
       "      <td>Intel Core i5 2.3GHz</td>\n",
       "      <td>8</td>\n",
       "      <td>128GB SSD</td>\n",
       "      <td>Intel Iris Plus Graphics 640</td>\n",
       "      <td>macOS</td>\n",
       "      <td>1.37</td>\n",
       "      <td>71378.6832</td>\n",
       "      <td>0</td>\n",
       "      <td>1</td>\n",
       "      <td>2560</td>\n",
       "      <td>1600</td>\n",
       "      <td>226.983005</td>\n",
       "    </tr>\n",
       "    <tr>\n",
       "      <th>1</th>\n",
       "      <td>Apple</td>\n",
       "      <td>Ultrabook</td>\n",
       "      <td>13.3</td>\n",
       "      <td>Intel Core i5 1.8GHz</td>\n",
       "      <td>8</td>\n",
       "      <td>128GB Flash Storage</td>\n",
       "      <td>Intel HD Graphics 6000</td>\n",
       "      <td>macOS</td>\n",
       "      <td>1.34</td>\n",
       "      <td>47895.5232</td>\n",
       "      <td>0</td>\n",
       "      <td>0</td>\n",
       "      <td>1440</td>\n",
       "      <td>900</td>\n",
       "      <td>127.677940</td>\n",
       "    </tr>\n",
       "    <tr>\n",
       "      <th>2</th>\n",
       "      <td>HP</td>\n",
       "      <td>Notebook</td>\n",
       "      <td>15.6</td>\n",
       "      <td>Intel Core i5 7200U 2.5GHz</td>\n",
       "      <td>8</td>\n",
       "      <td>256GB SSD</td>\n",
       "      <td>Intel HD Graphics 620</td>\n",
       "      <td>No OS</td>\n",
       "      <td>1.86</td>\n",
       "      <td>30636.0000</td>\n",
       "      <td>0</td>\n",
       "      <td>0</td>\n",
       "      <td>1920</td>\n",
       "      <td>1080</td>\n",
       "      <td>141.211998</td>\n",
       "    </tr>\n",
       "    <tr>\n",
       "      <th>3</th>\n",
       "      <td>Apple</td>\n",
       "      <td>Ultrabook</td>\n",
       "      <td>15.4</td>\n",
       "      <td>Intel Core i7 2.7GHz</td>\n",
       "      <td>16</td>\n",
       "      <td>512GB SSD</td>\n",
       "      <td>AMD Radeon Pro 455</td>\n",
       "      <td>macOS</td>\n",
       "      <td>1.83</td>\n",
       "      <td>135195.3360</td>\n",
       "      <td>0</td>\n",
       "      <td>1</td>\n",
       "      <td>2880</td>\n",
       "      <td>1800</td>\n",
       "      <td>220.534624</td>\n",
       "    </tr>\n",
       "    <tr>\n",
       "      <th>4</th>\n",
       "      <td>Apple</td>\n",
       "      <td>Ultrabook</td>\n",
       "      <td>13.3</td>\n",
       "      <td>Intel Core i5 3.1GHz</td>\n",
       "      <td>8</td>\n",
       "      <td>256GB SSD</td>\n",
       "      <td>Intel Iris Plus Graphics 650</td>\n",
       "      <td>macOS</td>\n",
       "      <td>1.37</td>\n",
       "      <td>96095.8080</td>\n",
       "      <td>0</td>\n",
       "      <td>1</td>\n",
       "      <td>2560</td>\n",
       "      <td>1600</td>\n",
       "      <td>226.983005</td>\n",
       "    </tr>\n",
       "  </tbody>\n",
       "</table>\n",
       "</div>"
      ],
      "text/plain": [
       "  Company   TypeName  Inches                         Cpu  Ram  \\\n",
       "0   Apple  Ultrabook    13.3        Intel Core i5 2.3GHz    8   \n",
       "1   Apple  Ultrabook    13.3        Intel Core i5 1.8GHz    8   \n",
       "2      HP   Notebook    15.6  Intel Core i5 7200U 2.5GHz    8   \n",
       "3   Apple  Ultrabook    15.4        Intel Core i7 2.7GHz   16   \n",
       "4   Apple  Ultrabook    13.3        Intel Core i5 3.1GHz    8   \n",
       "\n",
       "                Memory                           Gpu  OpSys  Weight  \\\n",
       "0            128GB SSD  Intel Iris Plus Graphics 640  macOS    1.37   \n",
       "1  128GB Flash Storage        Intel HD Graphics 6000  macOS    1.34   \n",
       "2            256GB SSD         Intel HD Graphics 620  No OS    1.86   \n",
       "3            512GB SSD            AMD Radeon Pro 455  macOS    1.83   \n",
       "4            256GB SSD  Intel Iris Plus Graphics 650  macOS    1.37   \n",
       "\n",
       "         Price  Touchscreen  Ips  X_res  Y_res         ppi  \n",
       "0   71378.6832            0    1   2560   1600  226.983005  \n",
       "1   47895.5232            0    0   1440    900  127.677940  \n",
       "2   30636.0000            0    0   1920   1080  141.211998  \n",
       "3  135195.3360            0    1   2880   1800  220.534624  \n",
       "4   96095.8080            0    1   2560   1600  226.983005  "
      ]
     },
     "execution_count": 42,
     "metadata": {},
     "output_type": "execute_result"
    }
   ],
   "source": [
    "df.head()"
   ]
  },
  {
   "cell_type": "code",
   "execution_count": 43,
   "id": "ef361f90",
   "metadata": {},
   "outputs": [],
   "source": [
    "df.drop(columns=['Inches','X_res','Y_res'],inplace=True)"
   ]
  },
  {
   "cell_type": "code",
   "execution_count": 44,
   "id": "2d327aa0",
   "metadata": {},
   "outputs": [
    {
     "data": {
      "text/html": [
       "<div>\n",
       "<style scoped>\n",
       "    .dataframe tbody tr th:only-of-type {\n",
       "        vertical-align: middle;\n",
       "    }\n",
       "\n",
       "    .dataframe tbody tr th {\n",
       "        vertical-align: top;\n",
       "    }\n",
       "\n",
       "    .dataframe thead th {\n",
       "        text-align: right;\n",
       "    }\n",
       "</style>\n",
       "<table border=\"1\" class=\"dataframe\">\n",
       "  <thead>\n",
       "    <tr style=\"text-align: right;\">\n",
       "      <th></th>\n",
       "      <th>Company</th>\n",
       "      <th>TypeName</th>\n",
       "      <th>Cpu</th>\n",
       "      <th>Ram</th>\n",
       "      <th>Memory</th>\n",
       "      <th>Gpu</th>\n",
       "      <th>OpSys</th>\n",
       "      <th>Weight</th>\n",
       "      <th>Price</th>\n",
       "      <th>Touchscreen</th>\n",
       "      <th>Ips</th>\n",
       "      <th>ppi</th>\n",
       "    </tr>\n",
       "  </thead>\n",
       "  <tbody>\n",
       "    <tr>\n",
       "      <th>0</th>\n",
       "      <td>Apple</td>\n",
       "      <td>Ultrabook</td>\n",
       "      <td>Intel Core i5 2.3GHz</td>\n",
       "      <td>8</td>\n",
       "      <td>128GB SSD</td>\n",
       "      <td>Intel Iris Plus Graphics 640</td>\n",
       "      <td>macOS</td>\n",
       "      <td>1.37</td>\n",
       "      <td>71378.6832</td>\n",
       "      <td>0</td>\n",
       "      <td>1</td>\n",
       "      <td>226.983005</td>\n",
       "    </tr>\n",
       "    <tr>\n",
       "      <th>1</th>\n",
       "      <td>Apple</td>\n",
       "      <td>Ultrabook</td>\n",
       "      <td>Intel Core i5 1.8GHz</td>\n",
       "      <td>8</td>\n",
       "      <td>128GB Flash Storage</td>\n",
       "      <td>Intel HD Graphics 6000</td>\n",
       "      <td>macOS</td>\n",
       "      <td>1.34</td>\n",
       "      <td>47895.5232</td>\n",
       "      <td>0</td>\n",
       "      <td>0</td>\n",
       "      <td>127.677940</td>\n",
       "    </tr>\n",
       "    <tr>\n",
       "      <th>2</th>\n",
       "      <td>HP</td>\n",
       "      <td>Notebook</td>\n",
       "      <td>Intel Core i5 7200U 2.5GHz</td>\n",
       "      <td>8</td>\n",
       "      <td>256GB SSD</td>\n",
       "      <td>Intel HD Graphics 620</td>\n",
       "      <td>No OS</td>\n",
       "      <td>1.86</td>\n",
       "      <td>30636.0000</td>\n",
       "      <td>0</td>\n",
       "      <td>0</td>\n",
       "      <td>141.211998</td>\n",
       "    </tr>\n",
       "    <tr>\n",
       "      <th>3</th>\n",
       "      <td>Apple</td>\n",
       "      <td>Ultrabook</td>\n",
       "      <td>Intel Core i7 2.7GHz</td>\n",
       "      <td>16</td>\n",
       "      <td>512GB SSD</td>\n",
       "      <td>AMD Radeon Pro 455</td>\n",
       "      <td>macOS</td>\n",
       "      <td>1.83</td>\n",
       "      <td>135195.3360</td>\n",
       "      <td>0</td>\n",
       "      <td>1</td>\n",
       "      <td>220.534624</td>\n",
       "    </tr>\n",
       "    <tr>\n",
       "      <th>4</th>\n",
       "      <td>Apple</td>\n",
       "      <td>Ultrabook</td>\n",
       "      <td>Intel Core i5 3.1GHz</td>\n",
       "      <td>8</td>\n",
       "      <td>256GB SSD</td>\n",
       "      <td>Intel Iris Plus Graphics 650</td>\n",
       "      <td>macOS</td>\n",
       "      <td>1.37</td>\n",
       "      <td>96095.8080</td>\n",
       "      <td>0</td>\n",
       "      <td>1</td>\n",
       "      <td>226.983005</td>\n",
       "    </tr>\n",
       "  </tbody>\n",
       "</table>\n",
       "</div>"
      ],
      "text/plain": [
       "  Company   TypeName                         Cpu  Ram               Memory  \\\n",
       "0   Apple  Ultrabook        Intel Core i5 2.3GHz    8            128GB SSD   \n",
       "1   Apple  Ultrabook        Intel Core i5 1.8GHz    8  128GB Flash Storage   \n",
       "2      HP   Notebook  Intel Core i5 7200U 2.5GHz    8            256GB SSD   \n",
       "3   Apple  Ultrabook        Intel Core i7 2.7GHz   16            512GB SSD   \n",
       "4   Apple  Ultrabook        Intel Core i5 3.1GHz    8            256GB SSD   \n",
       "\n",
       "                            Gpu  OpSys  Weight        Price  Touchscreen  Ips  \\\n",
       "0  Intel Iris Plus Graphics 640  macOS    1.37   71378.6832            0    1   \n",
       "1        Intel HD Graphics 6000  macOS    1.34   47895.5232            0    0   \n",
       "2         Intel HD Graphics 620  No OS    1.86   30636.0000            0    0   \n",
       "3            AMD Radeon Pro 455  macOS    1.83  135195.3360            0    1   \n",
       "4  Intel Iris Plus Graphics 650  macOS    1.37   96095.8080            0    1   \n",
       "\n",
       "          ppi  \n",
       "0  226.983005  \n",
       "1  127.677940  \n",
       "2  141.211998  \n",
       "3  220.534624  \n",
       "4  226.983005  "
      ]
     },
     "execution_count": 44,
     "metadata": {},
     "output_type": "execute_result"
    }
   ],
   "source": [
    "df.head()"
   ]
  },
  {
   "cell_type": "code",
   "execution_count": 45,
   "id": "81f9ec40",
   "metadata": {},
   "outputs": [
    {
     "data": {
      "text/plain": [
       "Cpu\n",
       "Intel Core i5 7200U 2.5GHz       190\n",
       "Intel Core i7 7700HQ 2.8GHz      146\n",
       "Intel Core i7 7500U 2.7GHz       134\n",
       "Intel Core i7 8550U 1.8GHz        73\n",
       "Intel Core i5 8250U 1.6GHz        72\n",
       "                                ... \n",
       "Intel Core M M3-6Y30 0.9GHz        1\n",
       "AMD A9-Series 9420 2.9GHz          1\n",
       "Intel Core i3 6006U 2.2GHz         1\n",
       "AMD A6-Series 7310 2GHz            1\n",
       "Intel Xeon E3-1535M v6 3.1GHz      1\n",
       "Name: count, Length: 118, dtype: int64"
      ]
     },
     "execution_count": 45,
     "metadata": {},
     "output_type": "execute_result"
    }
   ],
   "source": [
    "df['Cpu'].value_counts()"
   ]
  },
  {
   "cell_type": "code",
   "execution_count": 46,
   "id": "34ce8f2c",
   "metadata": {},
   "outputs": [],
   "source": [
    "df['Cpu Name'] = df['Cpu'].apply(lambda x:\" \".join(x.split()[0:3]))"
   ]
  },
  {
   "cell_type": "code",
   "execution_count": 47,
   "id": "8928f81c",
   "metadata": {},
   "outputs": [
    {
     "data": {
      "text/html": [
       "<div>\n",
       "<style scoped>\n",
       "    .dataframe tbody tr th:only-of-type {\n",
       "        vertical-align: middle;\n",
       "    }\n",
       "\n",
       "    .dataframe tbody tr th {\n",
       "        vertical-align: top;\n",
       "    }\n",
       "\n",
       "    .dataframe thead th {\n",
       "        text-align: right;\n",
       "    }\n",
       "</style>\n",
       "<table border=\"1\" class=\"dataframe\">\n",
       "  <thead>\n",
       "    <tr style=\"text-align: right;\">\n",
       "      <th></th>\n",
       "      <th>Company</th>\n",
       "      <th>TypeName</th>\n",
       "      <th>Cpu</th>\n",
       "      <th>Ram</th>\n",
       "      <th>Memory</th>\n",
       "      <th>Gpu</th>\n",
       "      <th>OpSys</th>\n",
       "      <th>Weight</th>\n",
       "      <th>Price</th>\n",
       "      <th>Touchscreen</th>\n",
       "      <th>Ips</th>\n",
       "      <th>ppi</th>\n",
       "      <th>Cpu Name</th>\n",
       "    </tr>\n",
       "  </thead>\n",
       "  <tbody>\n",
       "    <tr>\n",
       "      <th>0</th>\n",
       "      <td>Apple</td>\n",
       "      <td>Ultrabook</td>\n",
       "      <td>Intel Core i5 2.3GHz</td>\n",
       "      <td>8</td>\n",
       "      <td>128GB SSD</td>\n",
       "      <td>Intel Iris Plus Graphics 640</td>\n",
       "      <td>macOS</td>\n",
       "      <td>1.37</td>\n",
       "      <td>71378.6832</td>\n",
       "      <td>0</td>\n",
       "      <td>1</td>\n",
       "      <td>226.983005</td>\n",
       "      <td>Intel Core i5</td>\n",
       "    </tr>\n",
       "    <tr>\n",
       "      <th>1</th>\n",
       "      <td>Apple</td>\n",
       "      <td>Ultrabook</td>\n",
       "      <td>Intel Core i5 1.8GHz</td>\n",
       "      <td>8</td>\n",
       "      <td>128GB Flash Storage</td>\n",
       "      <td>Intel HD Graphics 6000</td>\n",
       "      <td>macOS</td>\n",
       "      <td>1.34</td>\n",
       "      <td>47895.5232</td>\n",
       "      <td>0</td>\n",
       "      <td>0</td>\n",
       "      <td>127.677940</td>\n",
       "      <td>Intel Core i5</td>\n",
       "    </tr>\n",
       "    <tr>\n",
       "      <th>2</th>\n",
       "      <td>HP</td>\n",
       "      <td>Notebook</td>\n",
       "      <td>Intel Core i5 7200U 2.5GHz</td>\n",
       "      <td>8</td>\n",
       "      <td>256GB SSD</td>\n",
       "      <td>Intel HD Graphics 620</td>\n",
       "      <td>No OS</td>\n",
       "      <td>1.86</td>\n",
       "      <td>30636.0000</td>\n",
       "      <td>0</td>\n",
       "      <td>0</td>\n",
       "      <td>141.211998</td>\n",
       "      <td>Intel Core i5</td>\n",
       "    </tr>\n",
       "    <tr>\n",
       "      <th>3</th>\n",
       "      <td>Apple</td>\n",
       "      <td>Ultrabook</td>\n",
       "      <td>Intel Core i7 2.7GHz</td>\n",
       "      <td>16</td>\n",
       "      <td>512GB SSD</td>\n",
       "      <td>AMD Radeon Pro 455</td>\n",
       "      <td>macOS</td>\n",
       "      <td>1.83</td>\n",
       "      <td>135195.3360</td>\n",
       "      <td>0</td>\n",
       "      <td>1</td>\n",
       "      <td>220.534624</td>\n",
       "      <td>Intel Core i7</td>\n",
       "    </tr>\n",
       "    <tr>\n",
       "      <th>4</th>\n",
       "      <td>Apple</td>\n",
       "      <td>Ultrabook</td>\n",
       "      <td>Intel Core i5 3.1GHz</td>\n",
       "      <td>8</td>\n",
       "      <td>256GB SSD</td>\n",
       "      <td>Intel Iris Plus Graphics 650</td>\n",
       "      <td>macOS</td>\n",
       "      <td>1.37</td>\n",
       "      <td>96095.8080</td>\n",
       "      <td>0</td>\n",
       "      <td>1</td>\n",
       "      <td>226.983005</td>\n",
       "      <td>Intel Core i5</td>\n",
       "    </tr>\n",
       "  </tbody>\n",
       "</table>\n",
       "</div>"
      ],
      "text/plain": [
       "  Company   TypeName                         Cpu  Ram               Memory  \\\n",
       "0   Apple  Ultrabook        Intel Core i5 2.3GHz    8            128GB SSD   \n",
       "1   Apple  Ultrabook        Intel Core i5 1.8GHz    8  128GB Flash Storage   \n",
       "2      HP   Notebook  Intel Core i5 7200U 2.5GHz    8            256GB SSD   \n",
       "3   Apple  Ultrabook        Intel Core i7 2.7GHz   16            512GB SSD   \n",
       "4   Apple  Ultrabook        Intel Core i5 3.1GHz    8            256GB SSD   \n",
       "\n",
       "                            Gpu  OpSys  Weight        Price  Touchscreen  Ips  \\\n",
       "0  Intel Iris Plus Graphics 640  macOS    1.37   71378.6832            0    1   \n",
       "1        Intel HD Graphics 6000  macOS    1.34   47895.5232            0    0   \n",
       "2         Intel HD Graphics 620  No OS    1.86   30636.0000            0    0   \n",
       "3            AMD Radeon Pro 455  macOS    1.83  135195.3360            0    1   \n",
       "4  Intel Iris Plus Graphics 650  macOS    1.37   96095.8080            0    1   \n",
       "\n",
       "          ppi       Cpu Name  \n",
       "0  226.983005  Intel Core i5  \n",
       "1  127.677940  Intel Core i5  \n",
       "2  141.211998  Intel Core i5  \n",
       "3  220.534624  Intel Core i7  \n",
       "4  226.983005  Intel Core i5  "
      ]
     },
     "execution_count": 47,
     "metadata": {},
     "output_type": "execute_result"
    }
   ],
   "source": [
    "df.head()"
   ]
  },
  {
   "cell_type": "code",
   "execution_count": 48,
   "id": "5a23ed7d",
   "metadata": {},
   "outputs": [],
   "source": [
    "def fetch_processor(text):\n",
    "    if text == 'Intel Core i7' or text == 'Intel Core i5' or text == 'Intel Core i3':\n",
    "        return text\n",
    "    else:\n",
    "        if text.split()[0] == 'Intel':\n",
    "            return 'Other Intel Processor'\n",
    "        else:\n",
    "            return 'AMD Processor'"
   ]
  },
  {
   "cell_type": "code",
   "execution_count": 49,
   "id": "224c21db",
   "metadata": {},
   "outputs": [],
   "source": [
    "df['Cpu brand'] = df['Cpu Name'].apply(fetch_processor)"
   ]
  },
  {
   "cell_type": "code",
   "execution_count": 50,
   "id": "c3c72072",
   "metadata": {},
   "outputs": [
    {
     "data": {
      "text/html": [
       "<div>\n",
       "<style scoped>\n",
       "    .dataframe tbody tr th:only-of-type {\n",
       "        vertical-align: middle;\n",
       "    }\n",
       "\n",
       "    .dataframe tbody tr th {\n",
       "        vertical-align: top;\n",
       "    }\n",
       "\n",
       "    .dataframe thead th {\n",
       "        text-align: right;\n",
       "    }\n",
       "</style>\n",
       "<table border=\"1\" class=\"dataframe\">\n",
       "  <thead>\n",
       "    <tr style=\"text-align: right;\">\n",
       "      <th></th>\n",
       "      <th>Company</th>\n",
       "      <th>TypeName</th>\n",
       "      <th>Cpu</th>\n",
       "      <th>Ram</th>\n",
       "      <th>Memory</th>\n",
       "      <th>Gpu</th>\n",
       "      <th>OpSys</th>\n",
       "      <th>Weight</th>\n",
       "      <th>Price</th>\n",
       "      <th>Touchscreen</th>\n",
       "      <th>Ips</th>\n",
       "      <th>ppi</th>\n",
       "      <th>Cpu Name</th>\n",
       "      <th>Cpu brand</th>\n",
       "    </tr>\n",
       "  </thead>\n",
       "  <tbody>\n",
       "    <tr>\n",
       "      <th>0</th>\n",
       "      <td>Apple</td>\n",
       "      <td>Ultrabook</td>\n",
       "      <td>Intel Core i5 2.3GHz</td>\n",
       "      <td>8</td>\n",
       "      <td>128GB SSD</td>\n",
       "      <td>Intel Iris Plus Graphics 640</td>\n",
       "      <td>macOS</td>\n",
       "      <td>1.37</td>\n",
       "      <td>71378.6832</td>\n",
       "      <td>0</td>\n",
       "      <td>1</td>\n",
       "      <td>226.983005</td>\n",
       "      <td>Intel Core i5</td>\n",
       "      <td>Intel Core i5</td>\n",
       "    </tr>\n",
       "    <tr>\n",
       "      <th>1</th>\n",
       "      <td>Apple</td>\n",
       "      <td>Ultrabook</td>\n",
       "      <td>Intel Core i5 1.8GHz</td>\n",
       "      <td>8</td>\n",
       "      <td>128GB Flash Storage</td>\n",
       "      <td>Intel HD Graphics 6000</td>\n",
       "      <td>macOS</td>\n",
       "      <td>1.34</td>\n",
       "      <td>47895.5232</td>\n",
       "      <td>0</td>\n",
       "      <td>0</td>\n",
       "      <td>127.677940</td>\n",
       "      <td>Intel Core i5</td>\n",
       "      <td>Intel Core i5</td>\n",
       "    </tr>\n",
       "    <tr>\n",
       "      <th>2</th>\n",
       "      <td>HP</td>\n",
       "      <td>Notebook</td>\n",
       "      <td>Intel Core i5 7200U 2.5GHz</td>\n",
       "      <td>8</td>\n",
       "      <td>256GB SSD</td>\n",
       "      <td>Intel HD Graphics 620</td>\n",
       "      <td>No OS</td>\n",
       "      <td>1.86</td>\n",
       "      <td>30636.0000</td>\n",
       "      <td>0</td>\n",
       "      <td>0</td>\n",
       "      <td>141.211998</td>\n",
       "      <td>Intel Core i5</td>\n",
       "      <td>Intel Core i5</td>\n",
       "    </tr>\n",
       "    <tr>\n",
       "      <th>3</th>\n",
       "      <td>Apple</td>\n",
       "      <td>Ultrabook</td>\n",
       "      <td>Intel Core i7 2.7GHz</td>\n",
       "      <td>16</td>\n",
       "      <td>512GB SSD</td>\n",
       "      <td>AMD Radeon Pro 455</td>\n",
       "      <td>macOS</td>\n",
       "      <td>1.83</td>\n",
       "      <td>135195.3360</td>\n",
       "      <td>0</td>\n",
       "      <td>1</td>\n",
       "      <td>220.534624</td>\n",
       "      <td>Intel Core i7</td>\n",
       "      <td>Intel Core i7</td>\n",
       "    </tr>\n",
       "    <tr>\n",
       "      <th>4</th>\n",
       "      <td>Apple</td>\n",
       "      <td>Ultrabook</td>\n",
       "      <td>Intel Core i5 3.1GHz</td>\n",
       "      <td>8</td>\n",
       "      <td>256GB SSD</td>\n",
       "      <td>Intel Iris Plus Graphics 650</td>\n",
       "      <td>macOS</td>\n",
       "      <td>1.37</td>\n",
       "      <td>96095.8080</td>\n",
       "      <td>0</td>\n",
       "      <td>1</td>\n",
       "      <td>226.983005</td>\n",
       "      <td>Intel Core i5</td>\n",
       "      <td>Intel Core i5</td>\n",
       "    </tr>\n",
       "  </tbody>\n",
       "</table>\n",
       "</div>"
      ],
      "text/plain": [
       "  Company   TypeName                         Cpu  Ram               Memory  \\\n",
       "0   Apple  Ultrabook        Intel Core i5 2.3GHz    8            128GB SSD   \n",
       "1   Apple  Ultrabook        Intel Core i5 1.8GHz    8  128GB Flash Storage   \n",
       "2      HP   Notebook  Intel Core i5 7200U 2.5GHz    8            256GB SSD   \n",
       "3   Apple  Ultrabook        Intel Core i7 2.7GHz   16            512GB SSD   \n",
       "4   Apple  Ultrabook        Intel Core i5 3.1GHz    8            256GB SSD   \n",
       "\n",
       "                            Gpu  OpSys  Weight        Price  Touchscreen  Ips  \\\n",
       "0  Intel Iris Plus Graphics 640  macOS    1.37   71378.6832            0    1   \n",
       "1        Intel HD Graphics 6000  macOS    1.34   47895.5232            0    0   \n",
       "2         Intel HD Graphics 620  No OS    1.86   30636.0000            0    0   \n",
       "3            AMD Radeon Pro 455  macOS    1.83  135195.3360            0    1   \n",
       "4  Intel Iris Plus Graphics 650  macOS    1.37   96095.8080            0    1   \n",
       "\n",
       "          ppi       Cpu Name      Cpu brand  \n",
       "0  226.983005  Intel Core i5  Intel Core i5  \n",
       "1  127.677940  Intel Core i5  Intel Core i5  \n",
       "2  141.211998  Intel Core i5  Intel Core i5  \n",
       "3  220.534624  Intel Core i7  Intel Core i7  \n",
       "4  226.983005  Intel Core i5  Intel Core i5  "
      ]
     },
     "execution_count": 50,
     "metadata": {},
     "output_type": "execute_result"
    }
   ],
   "source": [
    "df.head()"
   ]
  },
  {
   "cell_type": "code",
   "execution_count": 51,
   "id": "bdc8ec9f",
   "metadata": {},
   "outputs": [
    {
     "data": {
      "text/plain": [
       "<Axes: xlabel='Cpu brand'>"
      ]
     },
     "execution_count": 51,
     "metadata": {},
     "output_type": "execute_result"
    },
    {
     "data": {
      "image/png": "[encoded data removed]",
      "text/plain": [
       "<Figure size 640x480 with 1 Axes>"
      ]
     },
     "metadata": {},
     "output_type": "display_data"
    }
   ],
   "source": [
    "df['Cpu brand'].value_counts().plot(kind='bar')"
   ]
  },
  {
   "cell_type": "code",
   "execution_count": 52,
   "id": "1a8350f0",
   "metadata": {},
   "outputs": [
    {
     "data": {
      "image/png": "[encoded data removed]",
      "text/plain": [
       "<Figure size 640x480 with 1 Axes>"
      ]
     },
     "metadata": {},
     "output_type": "display_data"
    }
   ],
   "source": [
    "sns.barplot(x=df['Cpu brand'],y=df['Price'])\n",
    "plt.xticks(rotation='vertical')\n",
    "plt.show()"
   ]
  },
  {
   "cell_type": "code",
   "execution_count": 53,
   "id": "fc54795b",
   "metadata": {},
   "outputs": [],
   "source": [
    "df.drop(columns=['Cpu','Cpu Name'],inplace=True)"
   ]
  },
  {
   "cell_type": "code",
   "execution_count": 54,
   "id": "367e9992",
   "metadata": {},
   "outputs": [
    {
     "data": {
      "text/html": [
       "<div>\n",
       "<style scoped>\n",
       "    .dataframe tbody tr th:only-of-type {\n",
       "        vertical-align: middle;\n",
       "    }\n",
       "\n",
       "    .dataframe tbody tr th {\n",
       "        vertical-align: top;\n",
       "    }\n",
       "\n",
       "    .dataframe thead th {\n",
       "        text-align: right;\n",
       "    }\n",
       "</style>\n",
       "<table border=\"1\" class=\"dataframe\">\n",
       "  <thead>\n",
       "    <tr style=\"text-align: right;\">\n",
       "      <th></th>\n",
       "      <th>Company</th>\n",
       "      <th>TypeName</th>\n",
       "      <th>Ram</th>\n",
       "      <th>Memory</th>\n",
       "      <th>Gpu</th>\n",
       "      <th>OpSys</th>\n",
       "      <th>Weight</th>\n",
       "      <th>Price</th>\n",
       "      <th>Touchscreen</th>\n",
       "      <th>Ips</th>\n",
       "      <th>ppi</th>\n",
       "      <th>Cpu brand</th>\n",
       "    </tr>\n",
       "  </thead>\n",
       "  <tbody>\n",
       "    <tr>\n",
       "      <th>0</th>\n",
       "      <td>Apple</td>\n",
       "      <td>Ultrabook</td>\n",
       "      <td>8</td>\n",
       "      <td>128GB SSD</td>\n",
       "      <td>Intel Iris Plus Graphics 640</td>\n",
       "      <td>macOS</td>\n",
       "      <td>1.37</td>\n",
       "      <td>71378.6832</td>\n",
       "      <td>0</td>\n",
       "      <td>1</td>\n",
       "      <td>226.983005</td>\n",
       "      <td>Intel Core i5</td>\n",
       "    </tr>\n",
       "    <tr>\n",
       "      <th>1</th>\n",
       "      <td>Apple</td>\n",
       "      <td>Ultrabook</td>\n",
       "      <td>8</td>\n",
       "      <td>128GB Flash Storage</td>\n",
       "      <td>Intel HD Graphics 6000</td>\n",
       "      <td>macOS</td>\n",
       "      <td>1.34</td>\n",
       "      <td>47895.5232</td>\n",
       "      <td>0</td>\n",
       "      <td>0</td>\n",
       "      <td>127.677940</td>\n",
       "      <td>Intel Core i5</td>\n",
       "    </tr>\n",
       "    <tr>\n",
       "      <th>2</th>\n",
       "      <td>HP</td>\n",
       "      <td>Notebook</td>\n",
       "      <td>8</td>\n",
       "      <td>256GB SSD</td>\n",
       "      <td>Intel HD Graphics 620</td>\n",
       "      <td>No OS</td>\n",
       "      <td>1.86</td>\n",
       "      <td>30636.0000</td>\n",
       "      <td>0</td>\n",
       "      <td>0</td>\n",
       "      <td>141.211998</td>\n",
       "      <td>Intel Core i5</td>\n",
       "    </tr>\n",
       "    <tr>\n",
       "      <th>3</th>\n",
       "      <td>Apple</td>\n",
       "      <td>Ultrabook</td>\n",
       "      <td>16</td>\n",
       "      <td>512GB SSD</td>\n",
       "      <td>AMD Radeon Pro 455</td>\n",
       "      <td>macOS</td>\n",
       "      <td>1.83</td>\n",
       "      <td>135195.3360</td>\n",
       "      <td>0</td>\n",
       "      <td>1</td>\n",
       "      <td>220.534624</td>\n",
       "      <td>Intel Core i7</td>\n",
       "    </tr>\n",
       "    <tr>\n",
       "      <th>4</th>\n",
       "      <td>Apple</td>\n",
       "      <td>Ultrabook</td>\n",
       "      <td>8</td>\n",
       "      <td>256GB SSD</td>\n",
       "      <td>Intel Iris Plus Graphics 650</td>\n",
       "      <td>macOS</td>\n",
       "      <td>1.37</td>\n",
       "      <td>96095.8080</td>\n",
       "      <td>0</td>\n",
       "      <td>1</td>\n",
       "      <td>226.983005</td>\n",
       "      <td>Intel Core i5</td>\n",
       "    </tr>\n",
       "  </tbody>\n",
       "</table>\n",
       "</div>"
      ],
      "text/plain": [
       "  Company   TypeName  Ram               Memory                           Gpu  \\\n",
       "0   Apple  Ultrabook    8            128GB SSD  Intel Iris Plus Graphics 640   \n",
       "1   Apple  Ultrabook    8  128GB Flash Storage        Intel HD Graphics 6000   \n",
       "2      HP   Notebook    8            256GB SSD         Intel HD Graphics 620   \n",
       "3   Apple  Ultrabook   16            512GB SSD            AMD Radeon Pro 455   \n",
       "4   Apple  Ultrabook    8            256GB SSD  Intel Iris Plus Graphics 650   \n",
       "\n",
       "   OpSys  Weight        Price  Touchscreen  Ips         ppi      Cpu brand  \n",
       "0  macOS    1.37   71378.6832            0    1  226.983005  Intel Core i5  \n",
       "1  macOS    1.34   47895.5232            0    0  127.677940  Intel Core i5  \n",
       "2  No OS    1.86   30636.0000            0    0  141.211998  Intel Core i5  \n",
       "3  macOS    1.83  135195.3360            0    1  220.534624  Intel Core i7  \n",
       "4  macOS    1.37   96095.8080            0    1  226.983005  Intel Core i5  "
      ]
     },
     "execution_count": 54,
     "metadata": {},
     "output_type": "execute_result"
    }
   ],
   "source": [
    "df.head()"
   ]
  },
  {
   "cell_type": "code",
   "execution_count": 55,
   "id": "b6cd52b7",
   "metadata": {},
   "outputs": [
    {
     "data": {
      "text/plain": [
       "<Axes: xlabel='Ram'>"
      ]
     },
     "execution_count": 55,
     "metadata": {},
     "output_type": "execute_result"
    },
    {
     "data": {
      "image/png": "[encoded data removed]",
      "text/plain": [
       "<Figure size 640x480 with 1 Axes>"
      ]
     },
     "metadata": {},
     "output_type": "display_data"
    }
   ],
   "source": [
    "df['Ram'].value_counts().plot(kind='bar')"
   ]
  },
  {
   "cell_type": "code",
   "execution_count": 56,
   "id": "ca0e2e0b",
   "metadata": {},
   "outputs": [
    {
     "data": {
      "image/png": "[encoded data removed]",
      "text/plain": [
       "<Figure size 640x480 with 1 Axes>"
      ]
     },
     "metadata": {},
     "output_type": "display_data"
    }
   ],
   "source": [
    "sns.barplot(x=df['Ram'],y=df['Price'])\n",
    "plt.xticks(rotation='vertical')\n",
    "plt.show()"
   ]
  },
  {
   "cell_type": "code",
   "execution_count": 57,
   "id": "c4a1224b",
   "metadata": {},
   "outputs": [
    {
     "data": {
      "text/plain": [
       "Memory\n",
       "256GB SSD                        412\n",
       "1TB HDD                          223\n",
       "500GB HDD                        132\n",
       "512GB SSD                        118\n",
       "128GB SSD +  1TB HDD              94\n",
       "128GB SSD                         76\n",
       "256GB SSD +  1TB HDD              73\n",
       "32GB Flash Storage                38\n",
       "2TB HDD                           16\n",
       "64GB Flash Storage                15\n",
       "512GB SSD +  1TB HDD              14\n",
       "1TB SSD                           14\n",
       "256GB SSD +  2TB HDD              10\n",
       "1.0TB Hybrid                       9\n",
       "256GB Flash Storage                8\n",
       "16GB Flash Storage                 7\n",
       "32GB SSD                           6\n",
       "180GB SSD                          5\n",
       "128GB Flash Storage                4\n",
       "512GB SSD +  2TB HDD               3\n",
       "16GB SSD                           3\n",
       "512GB Flash Storage                2\n",
       "1TB SSD +  1TB HDD                 2\n",
       "256GB SSD +  500GB HDD             2\n",
       "128GB SSD +  2TB HDD               2\n",
       "256GB SSD +  256GB SSD             2\n",
       "512GB SSD +  256GB SSD             1\n",
       "512GB SSD +  512GB SSD             1\n",
       "64GB Flash Storage +  1TB HDD      1\n",
       "1TB HDD +  1TB HDD                 1\n",
       "32GB HDD                           1\n",
       "64GB SSD                           1\n",
       "128GB HDD                          1\n",
       "240GB SSD                          1\n",
       "8GB SSD                            1\n",
       "508GB Hybrid                       1\n",
       "1.0TB HDD                          1\n",
       "512GB SSD +  1.0TB Hybrid          1\n",
       "256GB SSD +  1.0TB Hybrid          1\n",
       "Name: count, dtype: int64"
      ]
     },
     "execution_count": 57,
     "metadata": {},
     "output_type": "execute_result"
    }
   ],
   "source": [
    "df['Memory'].value_counts()"
   ]
  },
  {
   "cell_type": "code",
   "execution_count": 58,
   "id": "2391ad9b",
   "metadata": {},
   "outputs": [],
   "source": [
    "import re\n",
    "\n",
    "df['Memory'] = df['Memory'].astype(str).replace('\\.0', '', regex=True)\n",
    "df[\"Memory\"] = df[\"Memory\"].str.replace('GB', '')\n",
    "df[\"Memory\"] = df[\"Memory\"].str.replace('TB', '000')\n",
    "new = df[\"Memory\"].str.split(\"+\", n=1, expand=True)\n",
    "\n",
    "df[\"first\"] = new[0]\n",
    "df[\"first\"] = df[\"first\"].str.strip()\n",
    "\n",
    "df[\"second\"] = new[1]\n",
    "\n",
    "df[\"Layer1HDD\"] = df[\"first\"].apply(lambda x: 1 if \"HDD\" in x else 0)\n",
    "df[\"Layer1SSD\"] = df[\"first\"].apply(lambda x: 1 if \"SSD\" in x else 0)\n",
    "df[\"Layer1Hybrid\"] = df[\"first\"].apply(lambda x: 1 if \"Hybrid\" in x else 0)\n",
    "df[\"Layer1Flash_Storage\"] = df[\"first\"].apply(lambda x: 1 if \"Flash Storage\" in x else 0)\n",
    "\n",
    "df['first'] = df['first'].str.extract('(\\d+)')  # Extract numeric part\n",
    "\n",
    "# Handle empty strings after removing non-numeric characters\n",
    "df['first'].replace('', '0', inplace=True)\n",
    "\n",
    "df[\"second\"].fillna(\"0\", inplace=True)\n",
    "\n",
    "df[\"Layer2HDD\"] = df[\"second\"].apply(lambda x: 1 if \"HDD\" in x else 0)\n",
    "df[\"Layer2SSD\"] = df[\"second\"].apply(lambda x: 1 if \"SSD\" in x else 0)\n",
    "df[\"Layer2Hybrid\"] = df[\"second\"].apply(lambda x: 1 if \"Hybrid\" in x else 0)\n",
    "df[\"Layer2Flash_Storage\"] = df[\"second\"].apply(lambda x: 1 if \"Flash Storage\" in x else 0)\n",
    "\n",
    "df['second'] = df['second'].str.extract('(\\d+)')  # Extract numeric part\n",
    "\n",
    "# Handle empty strings after removing non-numeric characters\n",
    "df['second'].replace('', '0', inplace=True)\n",
    "\n",
    "df[\"first\"] = df[\"first\"].astype(int)\n",
    "df[\"second\"] = df[\"second\"].astype(int)\n",
    "\n",
    "df[\"HDD\"] = (df[\"first\"] * df[\"Layer1HDD\"] + df[\"second\"] * df[\"Layer2HDD\"])\n",
    "df[\"SSD\"] = (df[\"first\"] * df[\"Layer1SSD\"] + df[\"second\"] * df[\"Layer2SSD\"])\n",
    "df[\"Hybrid\"] = (df[\"first\"] * df[\"Layer1Hybrid\"] + df[\"second\"] * df[\"Layer2Hybrid\"])\n",
    "df[\"Flash_Storage\"] = (df[\"first\"] * df[\"Layer1Flash_Storage\"] + df[\"second\"] * df[\"Layer2Flash_Storage\"])\n",
    "\n",
    "df.drop(columns=['first', 'second', 'Layer1HDD', 'Layer1SSD', 'Layer1Hybrid',\n",
    "                 'Layer1Flash_Storage', 'Layer2HDD', 'Layer2SSD', 'Layer2Hybrid',\n",
    "                 'Layer2Flash_Storage'], inplace=True)\n"
   ]
  },
  {
   "cell_type": "code",
   "execution_count": 59,
   "id": "919f2130",
   "metadata": {},
   "outputs": [
    {
     "data": {
      "text/html": [
       "<div>\n",
       "<style scoped>\n",
       "    .dataframe tbody tr th:only-of-type {\n",
       "        vertical-align: middle;\n",
       "    }\n",
       "\n",
       "    .dataframe tbody tr th {\n",
       "        vertical-align: top;\n",
       "    }\n",
       "\n",
       "    .dataframe thead th {\n",
       "        text-align: right;\n",
       "    }\n",
       "</style>\n",
       "<table border=\"1\" class=\"dataframe\">\n",
       "  <thead>\n",
       "    <tr style=\"text-align: right;\">\n",
       "      <th></th>\n",
       "      <th>Company</th>\n",
       "      <th>TypeName</th>\n",
       "      <th>Ram</th>\n",
       "      <th>Memory</th>\n",
       "      <th>Gpu</th>\n",
       "      <th>OpSys</th>\n",
       "      <th>Weight</th>\n",
       "      <th>Price</th>\n",
       "      <th>Touchscreen</th>\n",
       "      <th>Ips</th>\n",
       "      <th>ppi</th>\n",
       "      <th>Cpu brand</th>\n",
       "      <th>HDD</th>\n",
       "      <th>SSD</th>\n",
       "      <th>Hybrid</th>\n",
       "      <th>Flash_Storage</th>\n",
       "    </tr>\n",
       "  </thead>\n",
       "  <tbody>\n",
       "    <tr>\n",
       "      <th>288</th>\n",
       "      <td>Lenovo</td>\n",
       "      <td>Gaming</td>\n",
       "      <td>16</td>\n",
       "      <td>256 SSD +  1000 HDD</td>\n",
       "      <td>Nvidia GeForce GTX 1050 Ti</td>\n",
       "      <td>Windows 10</td>\n",
       "      <td>2.50</td>\n",
       "      <td>62817.120</td>\n",
       "      <td>0</td>\n",
       "      <td>1</td>\n",
       "      <td>141.211998</td>\n",
       "      <td>Intel Core i7</td>\n",
       "      <td>1000</td>\n",
       "      <td>256</td>\n",
       "      <td>0</td>\n",
       "      <td>0</td>\n",
       "    </tr>\n",
       "    <tr>\n",
       "      <th>1032</th>\n",
       "      <td>MSI</td>\n",
       "      <td>Gaming</td>\n",
       "      <td>8</td>\n",
       "      <td>128 SSD +  1000 HDD</td>\n",
       "      <td>Nvidia GeForce GTX 1050</td>\n",
       "      <td>Windows 10</td>\n",
       "      <td>2.70</td>\n",
       "      <td>63499.104</td>\n",
       "      <td>0</td>\n",
       "      <td>0</td>\n",
       "      <td>127.335675</td>\n",
       "      <td>Intel Core i7</td>\n",
       "      <td>1000</td>\n",
       "      <td>128</td>\n",
       "      <td>0</td>\n",
       "      <td>0</td>\n",
       "    </tr>\n",
       "    <tr>\n",
       "      <th>823</th>\n",
       "      <td>MSI</td>\n",
       "      <td>Gaming</td>\n",
       "      <td>8</td>\n",
       "      <td>256 SSD</td>\n",
       "      <td>Nvidia GeForce GTX 1050</td>\n",
       "      <td>Windows 10</td>\n",
       "      <td>2.40</td>\n",
       "      <td>63882.720</td>\n",
       "      <td>0</td>\n",
       "      <td>0</td>\n",
       "      <td>141.211998</td>\n",
       "      <td>Intel Core i5</td>\n",
       "      <td>0</td>\n",
       "      <td>256</td>\n",
       "      <td>0</td>\n",
       "      <td>0</td>\n",
       "    </tr>\n",
       "    <tr>\n",
       "      <th>951</th>\n",
       "      <td>Dell</td>\n",
       "      <td>Ultrabook</td>\n",
       "      <td>8</td>\n",
       "      <td>256 SSD</td>\n",
       "      <td>Intel HD Graphics 620</td>\n",
       "      <td>Windows 10</td>\n",
       "      <td>1.36</td>\n",
       "      <td>94572.000</td>\n",
       "      <td>0</td>\n",
       "      <td>0</td>\n",
       "      <td>157.350512</td>\n",
       "      <td>Intel Core i7</td>\n",
       "      <td>0</td>\n",
       "      <td>256</td>\n",
       "      <td>0</td>\n",
       "      <td>0</td>\n",
       "    </tr>\n",
       "    <tr>\n",
       "      <th>828</th>\n",
       "      <td>Acer</td>\n",
       "      <td>Netbook</td>\n",
       "      <td>4</td>\n",
       "      <td>32 Flash Storage</td>\n",
       "      <td>Intel HD Graphics 400</td>\n",
       "      <td>Chrome OS</td>\n",
       "      <td>1.35</td>\n",
       "      <td>18914.400</td>\n",
       "      <td>0</td>\n",
       "      <td>1</td>\n",
       "      <td>135.094211</td>\n",
       "      <td>Other Intel Processor</td>\n",
       "      <td>0</td>\n",
       "      <td>0</td>\n",
       "      <td>0</td>\n",
       "      <td>32</td>\n",
       "    </tr>\n",
       "  </tbody>\n",
       "</table>\n",
       "</div>"
      ],
      "text/plain": [
       "     Company   TypeName  Ram               Memory                         Gpu  \\\n",
       "288   Lenovo     Gaming   16  256 SSD +  1000 HDD  Nvidia GeForce GTX 1050 Ti   \n",
       "1032     MSI     Gaming    8  128 SSD +  1000 HDD     Nvidia GeForce GTX 1050   \n",
       "823      MSI     Gaming    8              256 SSD     Nvidia GeForce GTX 1050   \n",
       "951     Dell  Ultrabook    8              256 SSD       Intel HD Graphics 620   \n",
       "828     Acer    Netbook    4     32 Flash Storage       Intel HD Graphics 400   \n",
       "\n",
       "           OpSys  Weight      Price  Touchscreen  Ips         ppi  \\\n",
       "288   Windows 10    2.50  62817.120            0    1  141.211998   \n",
       "1032  Windows 10    2.70  63499.104            0    0  127.335675   \n",
       "823   Windows 10    2.40  63882.720            0    0  141.211998   \n",
       "951   Windows 10    1.36  94572.000            0    0  157.350512   \n",
       "828    Chrome OS    1.35  18914.400            0    1  135.094211   \n",
       "\n",
       "                  Cpu brand   HDD  SSD  Hybrid  Flash_Storage  \n",
       "288           Intel Core i7  1000  256       0              0  \n",
       "1032          Intel Core i7  1000  128       0              0  \n",
       "823           Intel Core i5     0  256       0              0  \n",
       "951           Intel Core i7     0  256       0              0  \n",
       "828   Other Intel Processor     0    0       0             32  "
      ]
     },
     "execution_count": 59,
     "metadata": {},
     "output_type": "execute_result"
    }
   ],
   "source": [
    "df.sample(5)"
   ]
  },
  {
   "cell_type": "code",
   "execution_count": 60,
   "id": "79b1c60f",
   "metadata": {},
   "outputs": [],
   "source": [
    "df.drop(columns=['Memory'],inplace=True)"
   ]
  },
  {
   "cell_type": "code",
   "execution_count": 61,
   "id": "cf1a2da5",
   "metadata": {},
   "outputs": [
    {
     "data": {
      "text/html": [
       "<div>\n",
       "<style scoped>\n",
       "    .dataframe tbody tr th:only-of-type {\n",
       "        vertical-align: middle;\n",
       "    }\n",
       "\n",
       "    .dataframe tbody tr th {\n",
       "        vertical-align: top;\n",
       "    }\n",
       "\n",
       "    .dataframe thead th {\n",
       "        text-align: right;\n",
       "    }\n",
       "</style>\n",
       "<table border=\"1\" class=\"dataframe\">\n",
       "  <thead>\n",
       "    <tr style=\"text-align: right;\">\n",
       "      <th></th>\n",
       "      <th>Company</th>\n",
       "      <th>TypeName</th>\n",
       "      <th>Ram</th>\n",
       "      <th>Gpu</th>\n",
       "      <th>OpSys</th>\n",
       "      <th>Weight</th>\n",
       "      <th>Price</th>\n",
       "      <th>Touchscreen</th>\n",
       "      <th>Ips</th>\n",
       "      <th>ppi</th>\n",
       "      <th>Cpu brand</th>\n",
       "      <th>HDD</th>\n",
       "      <th>SSD</th>\n",
       "      <th>Hybrid</th>\n",
       "      <th>Flash_Storage</th>\n",
       "    </tr>\n",
       "  </thead>\n",
       "  <tbody>\n",
       "    <tr>\n",
       "      <th>0</th>\n",
       "      <td>Apple</td>\n",
       "      <td>Ultrabook</td>\n",
       "      <td>8</td>\n",
       "      <td>Intel Iris Plus Graphics 640</td>\n",
       "      <td>macOS</td>\n",
       "      <td>1.37</td>\n",
       "      <td>71378.6832</td>\n",
       "      <td>0</td>\n",
       "      <td>1</td>\n",
       "      <td>226.983005</td>\n",
       "      <td>Intel Core i5</td>\n",
       "      <td>0</td>\n",
       "      <td>128</td>\n",
       "      <td>0</td>\n",
       "      <td>0</td>\n",
       "    </tr>\n",
       "    <tr>\n",
       "      <th>1</th>\n",
       "      <td>Apple</td>\n",
       "      <td>Ultrabook</td>\n",
       "      <td>8</td>\n",
       "      <td>Intel HD Graphics 6000</td>\n",
       "      <td>macOS</td>\n",
       "      <td>1.34</td>\n",
       "      <td>47895.5232</td>\n",
       "      <td>0</td>\n",
       "      <td>0</td>\n",
       "      <td>127.677940</td>\n",
       "      <td>Intel Core i5</td>\n",
       "      <td>0</td>\n",
       "      <td>0</td>\n",
       "      <td>0</td>\n",
       "      <td>128</td>\n",
       "    </tr>\n",
       "    <tr>\n",
       "      <th>2</th>\n",
       "      <td>HP</td>\n",
       "      <td>Notebook</td>\n",
       "      <td>8</td>\n",
       "      <td>Intel HD Graphics 620</td>\n",
       "      <td>No OS</td>\n",
       "      <td>1.86</td>\n",
       "      <td>30636.0000</td>\n",
       "      <td>0</td>\n",
       "      <td>0</td>\n",
       "      <td>141.211998</td>\n",
       "      <td>Intel Core i5</td>\n",
       "      <td>0</td>\n",
       "      <td>256</td>\n",
       "      <td>0</td>\n",
       "      <td>0</td>\n",
       "    </tr>\n",
       "    <tr>\n",
       "      <th>3</th>\n",
       "      <td>Apple</td>\n",
       "      <td>Ultrabook</td>\n",
       "      <td>16</td>\n",
       "      <td>AMD Radeon Pro 455</td>\n",
       "      <td>macOS</td>\n",
       "      <td>1.83</td>\n",
       "      <td>135195.3360</td>\n",
       "      <td>0</td>\n",
       "      <td>1</td>\n",
       "      <td>220.534624</td>\n",
       "      <td>Intel Core i7</td>\n",
       "      <td>0</td>\n",
       "      <td>512</td>\n",
       "      <td>0</td>\n",
       "      <td>0</td>\n",
       "    </tr>\n",
       "    <tr>\n",
       "      <th>4</th>\n",
       "      <td>Apple</td>\n",
       "      <td>Ultrabook</td>\n",
       "      <td>8</td>\n",
       "      <td>Intel Iris Plus Graphics 650</td>\n",
       "      <td>macOS</td>\n",
       "      <td>1.37</td>\n",
       "      <td>96095.8080</td>\n",
       "      <td>0</td>\n",
       "      <td>1</td>\n",
       "      <td>226.983005</td>\n",
       "      <td>Intel Core i5</td>\n",
       "      <td>0</td>\n",
       "      <td>256</td>\n",
       "      <td>0</td>\n",
       "      <td>0</td>\n",
       "    </tr>\n",
       "  </tbody>\n",
       "</table>\n",
       "</div>"
      ],
      "text/plain": [
       "  Company   TypeName  Ram                           Gpu  OpSys  Weight  \\\n",
       "0   Apple  Ultrabook    8  Intel Iris Plus Graphics 640  macOS    1.37   \n",
       "1   Apple  Ultrabook    8        Intel HD Graphics 6000  macOS    1.34   \n",
       "2      HP   Notebook    8         Intel HD Graphics 620  No OS    1.86   \n",
       "3   Apple  Ultrabook   16            AMD Radeon Pro 455  macOS    1.83   \n",
       "4   Apple  Ultrabook    8  Intel Iris Plus Graphics 650  macOS    1.37   \n",
       "\n",
       "         Price  Touchscreen  Ips         ppi      Cpu brand  HDD  SSD  Hybrid  \\\n",
       "0   71378.6832            0    1  226.983005  Intel Core i5    0  128       0   \n",
       "1   47895.5232            0    0  127.677940  Intel Core i5    0    0       0   \n",
       "2   30636.0000            0    0  141.211998  Intel Core i5    0  256       0   \n",
       "3  135195.3360            0    1  220.534624  Intel Core i7    0  512       0   \n",
       "4   96095.8080            0    1  226.983005  Intel Core i5    0  256       0   \n",
       "\n",
       "   Flash_Storage  \n",
       "0              0  \n",
       "1            128  \n",
       "2              0  \n",
       "3              0  \n",
       "4              0  "
      ]
     },
     "execution_count": 61,
     "metadata": {},
     "output_type": "execute_result"
    }
   ],
   "source": [
    "df.head()"
   ]
  },
  {
   "cell_type": "code",
   "execution_count": 62,
   "id": "a0797800",
   "metadata": {},
   "outputs": [
    {
     "data": {
      "text/plain": [
       "Ram              0.743007\n",
       "Weight           0.210370\n",
       "Price            1.000000\n",
       "Touchscreen      0.191226\n",
       "Ips              0.252208\n",
       "ppi              0.473487\n",
       "HDD             -0.096441\n",
       "SSD              0.670799\n",
       "Hybrid           0.007989\n",
       "Flash_Storage   -0.040511\n",
       "Name: Price, dtype: float64"
      ]
     },
     "execution_count": 62,
     "metadata": {},
     "output_type": "execute_result"
    }
   ],
   "source": [
    "df.corr(numeric_only=True)['Price']"
   ]
  },
  {
   "cell_type": "code",
   "execution_count": 63,
   "id": "845e8723",
   "metadata": {},
   "outputs": [],
   "source": [
    "df.drop(columns=['Hybrid','Flash_Storage'],inplace=True)"
   ]
  },
  {
   "cell_type": "code",
   "execution_count": 64,
   "id": "5e069ba6",
   "metadata": {},
   "outputs": [
    {
     "data": {
      "text/html": [
       "<div>\n",
       "<style scoped>\n",
       "    .dataframe tbody tr th:only-of-type {\n",
       "        vertical-align: middle;\n",
       "    }\n",
       "\n",
       "    .dataframe tbody tr th {\n",
       "        vertical-align: top;\n",
       "    }\n",
       "\n",
       "    .dataframe thead th {\n",
       "        text-align: right;\n",
       "    }\n",
       "</style>\n",
       "<table border=\"1\" class=\"dataframe\">\n",
       "  <thead>\n",
       "    <tr style=\"text-align: right;\">\n",
       "      <th></th>\n",
       "      <th>Company</th>\n",
       "      <th>TypeName</th>\n",
       "      <th>Ram</th>\n",
       "      <th>Gpu</th>\n",
       "      <th>OpSys</th>\n",
       "      <th>Weight</th>\n",
       "      <th>Price</th>\n",
       "      <th>Touchscreen</th>\n",
       "      <th>Ips</th>\n",
       "      <th>ppi</th>\n",
       "      <th>Cpu brand</th>\n",
       "      <th>HDD</th>\n",
       "      <th>SSD</th>\n",
       "    </tr>\n",
       "  </thead>\n",
       "  <tbody>\n",
       "    <tr>\n",
       "      <th>0</th>\n",
       "      <td>Apple</td>\n",
       "      <td>Ultrabook</td>\n",
       "      <td>8</td>\n",
       "      <td>Intel Iris Plus Graphics 640</td>\n",
       "      <td>macOS</td>\n",
       "      <td>1.37</td>\n",
       "      <td>71378.6832</td>\n",
       "      <td>0</td>\n",
       "      <td>1</td>\n",
       "      <td>226.983005</td>\n",
       "      <td>Intel Core i5</td>\n",
       "      <td>0</td>\n",
       "      <td>128</td>\n",
       "    </tr>\n",
       "    <tr>\n",
       "      <th>1</th>\n",
       "      <td>Apple</td>\n",
       "      <td>Ultrabook</td>\n",
       "      <td>8</td>\n",
       "      <td>Intel HD Graphics 6000</td>\n",
       "      <td>macOS</td>\n",
       "      <td>1.34</td>\n",
       "      <td>47895.5232</td>\n",
       "      <td>0</td>\n",
       "      <td>0</td>\n",
       "      <td>127.677940</td>\n",
       "      <td>Intel Core i5</td>\n",
       "      <td>0</td>\n",
       "      <td>0</td>\n",
       "    </tr>\n",
       "    <tr>\n",
       "      <th>2</th>\n",
       "      <td>HP</td>\n",
       "      <td>Notebook</td>\n",
       "      <td>8</td>\n",
       "      <td>Intel HD Graphics 620</td>\n",
       "      <td>No OS</td>\n",
       "      <td>1.86</td>\n",
       "      <td>30636.0000</td>\n",
       "      <td>0</td>\n",
       "      <td>0</td>\n",
       "      <td>141.211998</td>\n",
       "      <td>Intel Core i5</td>\n",
       "      <td>0</td>\n",
       "      <td>256</td>\n",
       "    </tr>\n",
       "    <tr>\n",
       "      <th>3</th>\n",
       "      <td>Apple</td>\n",
       "      <td>Ultrabook</td>\n",
       "      <td>16</td>\n",
       "      <td>AMD Radeon Pro 455</td>\n",
       "      <td>macOS</td>\n",
       "      <td>1.83</td>\n",
       "      <td>135195.3360</td>\n",
       "      <td>0</td>\n",
       "      <td>1</td>\n",
       "      <td>220.534624</td>\n",
       "      <td>Intel Core i7</td>\n",
       "      <td>0</td>\n",
       "      <td>512</td>\n",
       "    </tr>\n",
       "    <tr>\n",
       "      <th>4</th>\n",
       "      <td>Apple</td>\n",
       "      <td>Ultrabook</td>\n",
       "      <td>8</td>\n",
       "      <td>Intel Iris Plus Graphics 650</td>\n",
       "      <td>macOS</td>\n",
       "      <td>1.37</td>\n",
       "      <td>96095.8080</td>\n",
       "      <td>0</td>\n",
       "      <td>1</td>\n",
       "      <td>226.983005</td>\n",
       "      <td>Intel Core i5</td>\n",
       "      <td>0</td>\n",
       "      <td>256</td>\n",
       "    </tr>\n",
       "  </tbody>\n",
       "</table>\n",
       "</div>"
      ],
      "text/plain": [
       "  Company   TypeName  Ram                           Gpu  OpSys  Weight  \\\n",
       "0   Apple  Ultrabook    8  Intel Iris Plus Graphics 640  macOS    1.37   \n",
       "1   Apple  Ultrabook    8        Intel HD Graphics 6000  macOS    1.34   \n",
       "2      HP   Notebook    8         Intel HD Graphics 620  No OS    1.86   \n",
       "3   Apple  Ultrabook   16            AMD Radeon Pro 455  macOS    1.83   \n",
       "4   Apple  Ultrabook    8  Intel Iris Plus Graphics 650  macOS    1.37   \n",
       "\n",
       "         Price  Touchscreen  Ips         ppi      Cpu brand  HDD  SSD  \n",
       "0   71378.6832            0    1  226.983005  Intel Core i5    0  128  \n",
       "1   47895.5232            0    0  127.677940  Intel Core i5    0    0  \n",
       "2   30636.0000            0    0  141.211998  Intel Core i5    0  256  \n",
       "3  135195.3360            0    1  220.534624  Intel Core i7    0  512  \n",
       "4   96095.8080            0    1  226.983005  Intel Core i5    0  256  "
      ]
     },
     "execution_count": 64,
     "metadata": {},
     "output_type": "execute_result"
    }
   ],
   "source": [
    "df.head()"
   ]
  },
  {
   "cell_type": "code",
   "execution_count": 65,
   "id": "65722933",
   "metadata": {},
   "outputs": [
    {
     "data": {
      "text/plain": [
       "Gpu\n",
       "Intel HD Graphics 620      281\n",
       "Intel HD Graphics 520      185\n",
       "Intel UHD Graphics 620      68\n",
       "Nvidia GeForce GTX 1050     66\n",
       "Nvidia GeForce GTX 1060     48\n",
       "                          ... \n",
       "AMD Radeon R5 520            1\n",
       "AMD Radeon R7                1\n",
       "Intel HD Graphics 540        1\n",
       "AMD Radeon 540               1\n",
       "ARM Mali T860 MP4            1\n",
       "Name: count, Length: 110, dtype: int64"
      ]
     },
     "execution_count": 65,
     "metadata": {},
     "output_type": "execute_result"
    }
   ],
   "source": [
    "df['Gpu'].value_counts()"
   ]
  },
  {
   "cell_type": "code",
   "execution_count": 66,
   "id": "75b44cba",
   "metadata": {},
   "outputs": [],
   "source": [
    "df['Gpu brand'] = df['Gpu'].apply(lambda x:x.split()[0])"
   ]
  },
  {
   "cell_type": "code",
   "execution_count": 67,
   "id": "4ca7c61a",
   "metadata": {},
   "outputs": [
    {
     "data": {
      "text/html": [
       "<div>\n",
       "<style scoped>\n",
       "    .dataframe tbody tr th:only-of-type {\n",
       "        vertical-align: middle;\n",
       "    }\n",
       "\n",
       "    .dataframe tbody tr th {\n",
       "        vertical-align: top;\n",
       "    }\n",
       "\n",
       "    .dataframe thead th {\n",
       "        text-align: right;\n",
       "    }\n",
       "</style>\n",
       "<table border=\"1\" class=\"dataframe\">\n",
       "  <thead>\n",
       "    <tr style=\"text-align: right;\">\n",
       "      <th></th>\n",
       "      <th>Company</th>\n",
       "      <th>TypeName</th>\n",
       "      <th>Ram</th>\n",
       "      <th>Gpu</th>\n",
       "      <th>OpSys</th>\n",
       "      <th>Weight</th>\n",
       "      <th>Price</th>\n",
       "      <th>Touchscreen</th>\n",
       "      <th>Ips</th>\n",
       "      <th>ppi</th>\n",
       "      <th>Cpu brand</th>\n",
       "      <th>HDD</th>\n",
       "      <th>SSD</th>\n",
       "      <th>Gpu brand</th>\n",
       "    </tr>\n",
       "  </thead>\n",
       "  <tbody>\n",
       "    <tr>\n",
       "      <th>0</th>\n",
       "      <td>Apple</td>\n",
       "      <td>Ultrabook</td>\n",
       "      <td>8</td>\n",
       "      <td>Intel Iris Plus Graphics 640</td>\n",
       "      <td>macOS</td>\n",
       "      <td>1.37</td>\n",
       "      <td>71378.6832</td>\n",
       "      <td>0</td>\n",
       "      <td>1</td>\n",
       "      <td>226.983005</td>\n",
       "      <td>Intel Core i5</td>\n",
       "      <td>0</td>\n",
       "      <td>128</td>\n",
       "      <td>Intel</td>\n",
       "    </tr>\n",
       "    <tr>\n",
       "      <th>1</th>\n",
       "      <td>Apple</td>\n",
       "      <td>Ultrabook</td>\n",
       "      <td>8</td>\n",
       "      <td>Intel HD Graphics 6000</td>\n",
       "      <td>macOS</td>\n",
       "      <td>1.34</td>\n",
       "      <td>47895.5232</td>\n",
       "      <td>0</td>\n",
       "      <td>0</td>\n",
       "      <td>127.677940</td>\n",
       "      <td>Intel Core i5</td>\n",
       "      <td>0</td>\n",
       "      <td>0</td>\n",
       "      <td>Intel</td>\n",
       "    </tr>\n",
       "    <tr>\n",
       "      <th>2</th>\n",
       "      <td>HP</td>\n",
       "      <td>Notebook</td>\n",
       "      <td>8</td>\n",
       "      <td>Intel HD Graphics 620</td>\n",
       "      <td>No OS</td>\n",
       "      <td>1.86</td>\n",
       "      <td>30636.0000</td>\n",
       "      <td>0</td>\n",
       "      <td>0</td>\n",
       "      <td>141.211998</td>\n",
       "      <td>Intel Core i5</td>\n",
       "      <td>0</td>\n",
       "      <td>256</td>\n",
       "      <td>Intel</td>\n",
       "    </tr>\n",
       "    <tr>\n",
       "      <th>3</th>\n",
       "      <td>Apple</td>\n",
       "      <td>Ultrabook</td>\n",
       "      <td>16</td>\n",
       "      <td>AMD Radeon Pro 455</td>\n",
       "      <td>macOS</td>\n",
       "      <td>1.83</td>\n",
       "      <td>135195.3360</td>\n",
       "      <td>0</td>\n",
       "      <td>1</td>\n",
       "      <td>220.534624</td>\n",
       "      <td>Intel Core i7</td>\n",
       "      <td>0</td>\n",
       "      <td>512</td>\n",
       "      <td>AMD</td>\n",
       "    </tr>\n",
       "    <tr>\n",
       "      <th>4</th>\n",
       "      <td>Apple</td>\n",
       "      <td>Ultrabook</td>\n",
       "      <td>8</td>\n",
       "      <td>Intel Iris Plus Graphics 650</td>\n",
       "      <td>macOS</td>\n",
       "      <td>1.37</td>\n",
       "      <td>96095.8080</td>\n",
       "      <td>0</td>\n",
       "      <td>1</td>\n",
       "      <td>226.983005</td>\n",
       "      <td>Intel Core i5</td>\n",
       "      <td>0</td>\n",
       "      <td>256</td>\n",
       "      <td>Intel</td>\n",
       "    </tr>\n",
       "  </tbody>\n",
       "</table>\n",
       "</div>"
      ],
      "text/plain": [
       "  Company   TypeName  Ram                           Gpu  OpSys  Weight  \\\n",
       "0   Apple  Ultrabook    8  Intel Iris Plus Graphics 640  macOS    1.37   \n",
       "1   Apple  Ultrabook    8        Intel HD Graphics 6000  macOS    1.34   \n",
       "2      HP   Notebook    8         Intel HD Graphics 620  No OS    1.86   \n",
       "3   Apple  Ultrabook   16            AMD Radeon Pro 455  macOS    1.83   \n",
       "4   Apple  Ultrabook    8  Intel Iris Plus Graphics 650  macOS    1.37   \n",
       "\n",
       "         Price  Touchscreen  Ips         ppi      Cpu brand  HDD  SSD  \\\n",
       "0   71378.6832            0    1  226.983005  Intel Core i5    0  128   \n",
       "1   47895.5232            0    0  127.677940  Intel Core i5    0    0   \n",
       "2   30636.0000            0    0  141.211998  Intel Core i5    0  256   \n",
       "3  135195.3360            0    1  220.534624  Intel Core i7    0  512   \n",
       "4   96095.8080            0    1  226.983005  Intel Core i5    0  256   \n",
       "\n",
       "  Gpu brand  \n",
       "0     Intel  \n",
       "1     Intel  \n",
       "2     Intel  \n",
       "3       AMD  \n",
       "4     Intel  "
      ]
     },
     "execution_count": 67,
     "metadata": {},
     "output_type": "execute_result"
    }
   ],
   "source": [
    "df.head()"
   ]
  },
  {
   "cell_type": "code",
   "execution_count": 68,
   "id": "558506dd",
   "metadata": {},
   "outputs": [
    {
     "data": {
      "text/plain": [
       "Gpu brand\n",
       "Intel     722\n",
       "Nvidia    400\n",
       "AMD       180\n",
       "ARM         1\n",
       "Name: count, dtype: int64"
      ]
     },
     "execution_count": 68,
     "metadata": {},
     "output_type": "execute_result"
    }
   ],
   "source": [
    "df['Gpu brand'].value_counts()"
   ]
  },
  {
   "cell_type": "code",
   "execution_count": 69,
   "id": "39d984fd",
   "metadata": {},
   "outputs": [],
   "source": [
    "df = df[df['Gpu brand'] != 'ARM']"
   ]
  },
  {
   "cell_type": "code",
   "execution_count": 70,
   "id": "7bd66b54",
   "metadata": {},
   "outputs": [
    {
     "data": {
      "text/plain": [
       "Gpu brand\n",
       "Intel     722\n",
       "Nvidia    400\n",
       "AMD       180\n",
       "Name: count, dtype: int64"
      ]
     },
     "execution_count": 70,
     "metadata": {},
     "output_type": "execute_result"
    }
   ],
   "source": [
    "df['Gpu brand'].value_counts()"
   ]
  },
  {
   "cell_type": "code",
   "execution_count": 71,
   "id": "a102cfaa",
   "metadata": {},
   "outputs": [
    {
     "data": {
      "image/png": "[encoded data removed]",
      "text/plain": [
       "<Figure size 640x480 with 1 Axes>"
      ]
     },
     "metadata": {},
     "output_type": "display_data"
    }
   ],
   "source": [
    "sns.barplot(x=df['Gpu brand'],y=df['Price'],estimator=np.median)\n",
    "plt.xticks(rotation='vertical')\n",
    "plt.show()"
   ]
  },
  {
   "cell_type": "code",
   "execution_count": 72,
   "id": "233a8672",
   "metadata": {},
   "outputs": [],
   "source": [
    "df.drop(columns=['Gpu'],inplace=True)"
   ]
  },
  {
   "cell_type": "code",
   "execution_count": 73,
   "id": "995b12b3",
   "metadata": {},
   "outputs": [
    {
     "data": {
      "text/html": [
       "<div>\n",
       "<style scoped>\n",
       "    .dataframe tbody tr th:only-of-type {\n",
       "        vertical-align: middle;\n",
       "    }\n",
       "\n",
       "    .dataframe tbody tr th {\n",
       "        vertical-align: top;\n",
       "    }\n",
       "\n",
       "    .dataframe thead th {\n",
       "        text-align: right;\n",
       "    }\n",
       "</style>\n",
       "<table border=\"1\" class=\"dataframe\">\n",
       "  <thead>\n",
       "    <tr style=\"text-align: right;\">\n",
       "      <th></th>\n",
       "      <th>Company</th>\n",
       "      <th>TypeName</th>\n",
       "      <th>Ram</th>\n",
       "      <th>OpSys</th>\n",
       "      <th>Weight</th>\n",
       "      <th>Price</th>\n",
       "      <th>Touchscreen</th>\n",
       "      <th>Ips</th>\n",
       "      <th>ppi</th>\n",
       "      <th>Cpu brand</th>\n",
       "      <th>HDD</th>\n",
       "      <th>SSD</th>\n",
       "      <th>Gpu brand</th>\n",
       "    </tr>\n",
       "  </thead>\n",
       "  <tbody>\n",
       "    <tr>\n",
       "      <th>0</th>\n",
       "      <td>Apple</td>\n",
       "      <td>Ultrabook</td>\n",
       "      <td>8</td>\n",
       "      <td>macOS</td>\n",
       "      <td>1.37</td>\n",
       "      <td>71378.6832</td>\n",
       "      <td>0</td>\n",
       "      <td>1</td>\n",
       "      <td>226.983005</td>\n",
       "      <td>Intel Core i5</td>\n",
       "      <td>0</td>\n",
       "      <td>128</td>\n",
       "      <td>Intel</td>\n",
       "    </tr>\n",
       "    <tr>\n",
       "      <th>1</th>\n",
       "      <td>Apple</td>\n",
       "      <td>Ultrabook</td>\n",
       "      <td>8</td>\n",
       "      <td>macOS</td>\n",
       "      <td>1.34</td>\n",
       "      <td>47895.5232</td>\n",
       "      <td>0</td>\n",
       "      <td>0</td>\n",
       "      <td>127.677940</td>\n",
       "      <td>Intel Core i5</td>\n",
       "      <td>0</td>\n",
       "      <td>0</td>\n",
       "      <td>Intel</td>\n",
       "    </tr>\n",
       "    <tr>\n",
       "      <th>2</th>\n",
       "      <td>HP</td>\n",
       "      <td>Notebook</td>\n",
       "      <td>8</td>\n",
       "      <td>No OS</td>\n",
       "      <td>1.86</td>\n",
       "      <td>30636.0000</td>\n",
       "      <td>0</td>\n",
       "      <td>0</td>\n",
       "      <td>141.211998</td>\n",
       "      <td>Intel Core i5</td>\n",
       "      <td>0</td>\n",
       "      <td>256</td>\n",
       "      <td>Intel</td>\n",
       "    </tr>\n",
       "    <tr>\n",
       "      <th>3</th>\n",
       "      <td>Apple</td>\n",
       "      <td>Ultrabook</td>\n",
       "      <td>16</td>\n",
       "      <td>macOS</td>\n",
       "      <td>1.83</td>\n",
       "      <td>135195.3360</td>\n",
       "      <td>0</td>\n",
       "      <td>1</td>\n",
       "      <td>220.534624</td>\n",
       "      <td>Intel Core i7</td>\n",
       "      <td>0</td>\n",
       "      <td>512</td>\n",
       "      <td>AMD</td>\n",
       "    </tr>\n",
       "    <tr>\n",
       "      <th>4</th>\n",
       "      <td>Apple</td>\n",
       "      <td>Ultrabook</td>\n",
       "      <td>8</td>\n",
       "      <td>macOS</td>\n",
       "      <td>1.37</td>\n",
       "      <td>96095.8080</td>\n",
       "      <td>0</td>\n",
       "      <td>1</td>\n",
       "      <td>226.983005</td>\n",
       "      <td>Intel Core i5</td>\n",
       "      <td>0</td>\n",
       "      <td>256</td>\n",
       "      <td>Intel</td>\n",
       "    </tr>\n",
       "  </tbody>\n",
       "</table>\n",
       "</div>"
      ],
      "text/plain": [
       "  Company   TypeName  Ram  OpSys  Weight        Price  Touchscreen  Ips  \\\n",
       "0   Apple  Ultrabook    8  macOS    1.37   71378.6832            0    1   \n",
       "1   Apple  Ultrabook    8  macOS    1.34   47895.5232            0    0   \n",
       "2      HP   Notebook    8  No OS    1.86   30636.0000            0    0   \n",
       "3   Apple  Ultrabook   16  macOS    1.83  135195.3360            0    1   \n",
       "4   Apple  Ultrabook    8  macOS    1.37   96095.8080            0    1   \n",
       "\n",
       "          ppi      Cpu brand  HDD  SSD Gpu brand  \n",
       "0  226.983005  Intel Core i5    0  128     Intel  \n",
       "1  127.677940  Intel Core i5    0    0     Intel  \n",
       "2  141.211998  Intel Core i5    0  256     Intel  \n",
       "3  220.534624  Intel Core i7    0  512       AMD  \n",
       "4  226.983005  Intel Core i5    0  256     Intel  "
      ]
     },
     "execution_count": 73,
     "metadata": {},
     "output_type": "execute_result"
    }
   ],
   "source": [
    "df.head()"
   ]
  },
  {
   "cell_type": "code",
   "execution_count": 74,
   "id": "87ea542b",
   "metadata": {},
   "outputs": [
    {
     "data": {
      "text/plain": [
       "OpSys\n",
       "Windows 10      1072\n",
       "No OS             66\n",
       "Linux             62\n",
       "Windows 7         45\n",
       "Chrome OS         26\n",
       "macOS             13\n",
       "Mac OS X           8\n",
       "Windows 10 S       8\n",
       "Android            2\n",
       "Name: count, dtype: int64"
      ]
     },
     "execution_count": 74,
     "metadata": {},
     "output_type": "execute_result"
    }
   ],
   "source": [
    "df['OpSys'].value_counts()"
   ]
  },
  {
   "cell_type": "code",
   "execution_count": 75,
   "id": "14cbb277",
   "metadata": {},
   "outputs": [
    {
     "data": {
      "image/png": "[encoded data removed]",
      "text/plain": [
       "<Figure size 640x480 with 1 Axes>"
      ]
     },
     "metadata": {},
     "output_type": "display_data"
    }
   ],
   "source": [
    "sns.barplot(x=df['OpSys'],y=df['Price'])\n",
    "plt.xticks(rotation='vertical')\n",
    "plt.show()"
   ]
  },
  {
   "cell_type": "code",
   "execution_count": 76,
   "id": "14d789f5",
   "metadata": {},
   "outputs": [],
   "source": [
    "def cat_os(inp):\n",
    "    if inp == 'Windows 10' or inp == 'Windows 7' or inp == 'Windows 10 S':\n",
    "        return 'Windows'\n",
    "    elif inp == 'macOS' or inp == 'Mac OS X':\n",
    "        return 'Mac'\n",
    "    else:\n",
    "        return 'Others/No OS/Linux'"
   ]
  },
  {
   "cell_type": "code",
   "execution_count": 77,
   "id": "fc8e7750",
   "metadata": {},
   "outputs": [],
   "source": [
    "df['os'] = df['OpSys'].apply(cat_os)"
   ]
  },
  {
   "cell_type": "code",
   "execution_count": 78,
   "id": "11c5a038",
   "metadata": {},
   "outputs": [
    {
     "data": {
      "text/html": [
       "<div>\n",
       "<style scoped>\n",
       "    .dataframe tbody tr th:only-of-type {\n",
       "        vertical-align: middle;\n",
       "    }\n",
       "\n",
       "    .dataframe tbody tr th {\n",
       "        vertical-align: top;\n",
       "    }\n",
       "\n",
       "    .dataframe thead th {\n",
       "        text-align: right;\n",
       "    }\n",
       "</style>\n",
       "<table border=\"1\" class=\"dataframe\">\n",
       "  <thead>\n",
       "    <tr style=\"text-align: right;\">\n",
       "      <th></th>\n",
       "      <th>Company</th>\n",
       "      <th>TypeName</th>\n",
       "      <th>Ram</th>\n",
       "      <th>OpSys</th>\n",
       "      <th>Weight</th>\n",
       "      <th>Price</th>\n",
       "      <th>Touchscreen</th>\n",
       "      <th>Ips</th>\n",
       "      <th>ppi</th>\n",
       "      <th>Cpu brand</th>\n",
       "      <th>HDD</th>\n",
       "      <th>SSD</th>\n",
       "      <th>Gpu brand</th>\n",
       "      <th>os</th>\n",
       "    </tr>\n",
       "  </thead>\n",
       "  <tbody>\n",
       "    <tr>\n",
       "      <th>0</th>\n",
       "      <td>Apple</td>\n",
       "      <td>Ultrabook</td>\n",
       "      <td>8</td>\n",
       "      <td>macOS</td>\n",
       "      <td>1.37</td>\n",
       "      <td>71378.6832</td>\n",
       "      <td>0</td>\n",
       "      <td>1</td>\n",
       "      <td>226.983005</td>\n",
       "      <td>Intel Core i5</td>\n",
       "      <td>0</td>\n",
       "      <td>128</td>\n",
       "      <td>Intel</td>\n",
       "      <td>Mac</td>\n",
       "    </tr>\n",
       "    <tr>\n",
       "      <th>1</th>\n",
       "      <td>Apple</td>\n",
       "      <td>Ultrabook</td>\n",
       "      <td>8</td>\n",
       "      <td>macOS</td>\n",
       "      <td>1.34</td>\n",
       "      <td>47895.5232</td>\n",
       "      <td>0</td>\n",
       "      <td>0</td>\n",
       "      <td>127.677940</td>\n",
       "      <td>Intel Core i5</td>\n",
       "      <td>0</td>\n",
       "      <td>0</td>\n",
       "      <td>Intel</td>\n",
       "      <td>Mac</td>\n",
       "    </tr>\n",
       "    <tr>\n",
       "      <th>2</th>\n",
       "      <td>HP</td>\n",
       "      <td>Notebook</td>\n",
       "      <td>8</td>\n",
       "      <td>No OS</td>\n",
       "      <td>1.86</td>\n",
       "      <td>30636.0000</td>\n",
       "      <td>0</td>\n",
       "      <td>0</td>\n",
       "      <td>141.211998</td>\n",
       "      <td>Intel Core i5</td>\n",
       "      <td>0</td>\n",
       "      <td>256</td>\n",
       "      <td>Intel</td>\n",
       "      <td>Others/No OS/Linux</td>\n",
       "    </tr>\n",
       "    <tr>\n",
       "      <th>3</th>\n",
       "      <td>Apple</td>\n",
       "      <td>Ultrabook</td>\n",
       "      <td>16</td>\n",
       "      <td>macOS</td>\n",
       "      <td>1.83</td>\n",
       "      <td>135195.3360</td>\n",
       "      <td>0</td>\n",
       "      <td>1</td>\n",
       "      <td>220.534624</td>\n",
       "      <td>Intel Core i7</td>\n",
       "      <td>0</td>\n",
       "      <td>512</td>\n",
       "      <td>AMD</td>\n",
       "      <td>Mac</td>\n",
       "    </tr>\n",
       "    <tr>\n",
       "      <th>4</th>\n",
       "      <td>Apple</td>\n",
       "      <td>Ultrabook</td>\n",
       "      <td>8</td>\n",
       "      <td>macOS</td>\n",
       "      <td>1.37</td>\n",
       "      <td>96095.8080</td>\n",
       "      <td>0</td>\n",
       "      <td>1</td>\n",
       "      <td>226.983005</td>\n",
       "      <td>Intel Core i5</td>\n",
       "      <td>0</td>\n",
       "      <td>256</td>\n",
       "      <td>Intel</td>\n",
       "      <td>Mac</td>\n",
       "    </tr>\n",
       "  </tbody>\n",
       "</table>\n",
       "</div>"
      ],
      "text/plain": [
       "  Company   TypeName  Ram  OpSys  Weight        Price  Touchscreen  Ips  \\\n",
       "0   Apple  Ultrabook    8  macOS    1.37   71378.6832            0    1   \n",
       "1   Apple  Ultrabook    8  macOS    1.34   47895.5232            0    0   \n",
       "2      HP   Notebook    8  No OS    1.86   30636.0000            0    0   \n",
       "3   Apple  Ultrabook   16  macOS    1.83  135195.3360            0    1   \n",
       "4   Apple  Ultrabook    8  macOS    1.37   96095.8080            0    1   \n",
       "\n",
       "          ppi      Cpu brand  HDD  SSD Gpu brand                  os  \n",
       "0  226.983005  Intel Core i5    0  128     Intel                 Mac  \n",
       "1  127.677940  Intel Core i5    0    0     Intel                 Mac  \n",
       "2  141.211998  Intel Core i5    0  256     Intel  Others/No OS/Linux  \n",
       "3  220.534624  Intel Core i7    0  512       AMD                 Mac  \n",
       "4  226.983005  Intel Core i5    0  256     Intel                 Mac  "
      ]
     },
     "execution_count": 78,
     "metadata": {},
     "output_type": "execute_result"
    }
   ],
   "source": [
    "df.head()"
   ]
  },
  {
   "cell_type": "code",
   "execution_count": 79,
   "id": "a283996d",
   "metadata": {},
   "outputs": [],
   "source": [
    "df.drop(columns=['OpSys'],inplace=True)"
   ]
  },
  {
   "cell_type": "code",
   "execution_count": 80,
   "id": "9b43fbf7",
   "metadata": {},
   "outputs": [
    {
     "data": {
      "image/png": "[encoded data removed]",
      "text/plain": [
       "<Figure size 640x480 with 1 Axes>"
      ]
     },
     "metadata": {},
     "output_type": "display_data"
    }
   ],
   "source": [
    "sns.barplot(x=df['os'],y=df['Price'])\n",
    "plt.xticks(rotation='vertical')\n",
    "plt.show()"
   ]
  },
  {
   "cell_type": "code",
   "execution_count": 81,
   "id": "1d2865dd",
   "metadata": {},
   "outputs": [
    {
     "name": "stderr",
     "output_type": "stream",
     "text": [
      "/var/folders/jm/l7z1pz590c340yqzvk57pbw00000gn/T/ipykernel_74347/1125578356.py:1: UserWarning: \n",
      "\n",
      "`distplot` is a deprecated function and will be removed in seaborn v0.14.0.\n",
      "\n",
      "Please adapt your code to use either `displot` (a figure-level function with\n",
      "similar flexibility) or `histplot` (an axes-level function for histograms).\n",
      "\n",
      "For a guide to updating your code to use the new functions, please see\n",
      "https://gist.github.com/mwaskom/de44147ed2974457ad6372750bbe5751\n",
      "\n",
      "  sns.distplot(df['Weight'])\n"
     ]
    },
    {
     "data": {
      "text/plain": [
       "<Axes: xlabel='Weight', ylabel='Density'>"
      ]
     },
     "execution_count": 81,
     "metadata": {},
     "output_type": "execute_result"
    },
    {
     "data": {
      "image/png": "[encoded data removed]",
      "text/plain": [
       "<Figure size 640x480 with 1 Axes>"
      ]
     },
     "metadata": {},
     "output_type": "display_data"
    }
   ],
   "source": [
    "sns.distplot(df['Weight'])"
   ]
  },
  {
   "cell_type": "code",
   "execution_count": 82,
   "id": "5cb512c6",
   "metadata": {},
   "outputs": [
    {
     "data": {
      "text/plain": [
       "<Axes: xlabel='Weight', ylabel='Price'>"
      ]
     },
     "execution_count": 82,
     "metadata": {},
     "output_type": "execute_result"
    },
    {
     "data": {
      "image/png": "[encoded data removed]",
      "text/plain": [
       "<Figure size 640x480 with 1 Axes>"
      ]
     },
     "metadata": {},
     "output_type": "display_data"
    }
   ],
   "source": [
    "sns.scatterplot(x=df['Weight'],y=df['Price'])"
   ]
  },
  {
   "cell_type": "code",
   "execution_count": 83,
   "id": "993c3e5d",
   "metadata": {},
   "outputs": [
    {
     "data": {
      "text/plain": [
       "Ram            0.742905\n",
       "Weight         0.209867\n",
       "Price          1.000000\n",
       "Touchscreen    0.192917\n",
       "Ips            0.253320\n",
       "ppi            0.475368\n",
       "HDD           -0.096891\n",
       "SSD            0.670660\n",
       "Name: Price, dtype: float64"
      ]
     },
     "execution_count": 83,
     "metadata": {},
     "output_type": "execute_result"
    }
   ],
   "source": [
    "df.corr(numeric_only=True)['Price']"
   ]
  },
  {
   "cell_type": "code",
   "execution_count": 84,
   "id": "95f097f3",
   "metadata": {},
   "outputs": [
    {
     "data": {
      "text/plain": [
       "<Axes: >"
      ]
     },
     "execution_count": 84,
     "metadata": {},
     "output_type": "execute_result"
    },
    {
     "data": {
      "image/png": "[encoded data removed]",
      "text/plain": [
       "<Figure size 640x480 with 2 Axes>"
      ]
     },
     "metadata": {},
     "output_type": "display_data"
    }
   ],
   "source": [
    "sns.heatmap(df.corr(numeric_only=True))"
   ]
  },
  {
   "cell_type": "code",
   "execution_count": 85,
   "id": "3aaf8bc8",
   "metadata": {},
   "outputs": [
    {
     "name": "stderr",
     "output_type": "stream",
     "text": [
      "/var/folders/jm/l7z1pz590c340yqzvk57pbw00000gn/T/ipykernel_74347/3556049916.py:1: UserWarning: \n",
      "\n",
      "`distplot` is a deprecated function and will be removed in seaborn v0.14.0.\n",
      "\n",
      "Please adapt your code to use either `displot` (a figure-level function with\n",
      "similar flexibility) or `histplot` (an axes-level function for histograms).\n",
      "\n",
      "For a guide to updating your code to use the new functions, please see\n",
      "https://gist.github.com/mwaskom/de44147ed2974457ad6372750bbe5751\n",
      "\n",
      "  sns.distplot(np.log(df['Price']))\n"
     ]
    },
    {
     "data": {
      "text/plain": [
       "<Axes: xlabel='Price', ylabel='Density'>"
      ]
     },
     "execution_count": 85,
     "metadata": {},
     "output_type": "execute_result"
    },
    {
     "data": {
      "image/png": "[encoded data removed]",
      "text/plain": [
       "<Figure size 640x480 with 1 Axes>"
      ]
     },
     "metadata": {},
     "output_type": "display_data"
    }
   ],
   "source": [
    "sns.distplot(np.log(df['Price']))"
   ]
  },
  {
   "cell_type": "code",
   "execution_count": 86,
   "id": "8f1293c0",
   "metadata": {},
   "outputs": [],
   "source": [
    "X = df.drop(columns=['Price'])\n",
    "y = np.log(df['Price'])"
   ]
  },
  {
   "cell_type": "code",
   "execution_count": 87,
   "id": "8f7fb4b3",
   "metadata": {},
   "outputs": [
    {
     "data": {
      "text/html": [
       "<div>\n",
       "<style scoped>\n",
       "    .dataframe tbody tr th:only-of-type {\n",
       "        vertical-align: middle;\n",
       "    }\n",
       "\n",
       "    .dataframe tbody tr th {\n",
       "        vertical-align: top;\n",
       "    }\n",
       "\n",
       "    .dataframe thead th {\n",
       "        text-align: right;\n",
       "    }\n",
       "</style>\n",
       "<table border=\"1\" class=\"dataframe\">\n",
       "  <thead>\n",
       "    <tr style=\"text-align: right;\">\n",
       "      <th></th>\n",
       "      <th>Company</th>\n",
       "      <th>TypeName</th>\n",
       "      <th>Ram</th>\n",
       "      <th>Weight</th>\n",
       "      <th>Touchscreen</th>\n",
       "      <th>Ips</th>\n",
       "      <th>ppi</th>\n",
       "      <th>Cpu brand</th>\n",
       "      <th>HDD</th>\n",
       "      <th>SSD</th>\n",
       "      <th>Gpu brand</th>\n",
       "      <th>os</th>\n",
       "    </tr>\n",
       "  </thead>\n",
       "  <tbody>\n",
       "    <tr>\n",
       "      <th>0</th>\n",
       "      <td>Apple</td>\n",
       "      <td>Ultrabook</td>\n",
       "      <td>8</td>\n",
       "      <td>1.37</td>\n",
       "      <td>0</td>\n",
       "      <td>1</td>\n",
       "      <td>226.983005</td>\n",
       "      <td>Intel Core i5</td>\n",
       "      <td>0</td>\n",
       "      <td>128</td>\n",
       "      <td>Intel</td>\n",
       "      <td>Mac</td>\n",
       "    </tr>\n",
       "    <tr>\n",
       "      <th>1</th>\n",
       "      <td>Apple</td>\n",
       "      <td>Ultrabook</td>\n",
       "      <td>8</td>\n",
       "      <td>1.34</td>\n",
       "      <td>0</td>\n",
       "      <td>0</td>\n",
       "      <td>127.677940</td>\n",
       "      <td>Intel Core i5</td>\n",
       "      <td>0</td>\n",
       "      <td>0</td>\n",
       "      <td>Intel</td>\n",
       "      <td>Mac</td>\n",
       "    </tr>\n",
       "    <tr>\n",
       "      <th>2</th>\n",
       "      <td>HP</td>\n",
       "      <td>Notebook</td>\n",
       "      <td>8</td>\n",
       "      <td>1.86</td>\n",
       "      <td>0</td>\n",
       "      <td>0</td>\n",
       "      <td>141.211998</td>\n",
       "      <td>Intel Core i5</td>\n",
       "      <td>0</td>\n",
       "      <td>256</td>\n",
       "      <td>Intel</td>\n",
       "      <td>Others/No OS/Linux</td>\n",
       "    </tr>\n",
       "    <tr>\n",
       "      <th>3</th>\n",
       "      <td>Apple</td>\n",
       "      <td>Ultrabook</td>\n",
       "      <td>16</td>\n",
       "      <td>1.83</td>\n",
       "      <td>0</td>\n",
       "      <td>1</td>\n",
       "      <td>220.534624</td>\n",
       "      <td>Intel Core i7</td>\n",
       "      <td>0</td>\n",
       "      <td>512</td>\n",
       "      <td>AMD</td>\n",
       "      <td>Mac</td>\n",
       "    </tr>\n",
       "    <tr>\n",
       "      <th>4</th>\n",
       "      <td>Apple</td>\n",
       "      <td>Ultrabook</td>\n",
       "      <td>8</td>\n",
       "      <td>1.37</td>\n",
       "      <td>0</td>\n",
       "      <td>1</td>\n",
       "      <td>226.983005</td>\n",
       "      <td>Intel Core i5</td>\n",
       "      <td>0</td>\n",
       "      <td>256</td>\n",
       "      <td>Intel</td>\n",
       "      <td>Mac</td>\n",
       "    </tr>\n",
       "    <tr>\n",
       "      <th>...</th>\n",
       "      <td>...</td>\n",
       "      <td>...</td>\n",
       "      <td>...</td>\n",
       "      <td>...</td>\n",
       "      <td>...</td>\n",
       "      <td>...</td>\n",
       "      <td>...</td>\n",
       "      <td>...</td>\n",
       "      <td>...</td>\n",
       "      <td>...</td>\n",
       "      <td>...</td>\n",
       "      <td>...</td>\n",
       "    </tr>\n",
       "    <tr>\n",
       "      <th>1298</th>\n",
       "      <td>Lenovo</td>\n",
       "      <td>2 in 1 Convertible</td>\n",
       "      <td>4</td>\n",
       "      <td>1.80</td>\n",
       "      <td>1</td>\n",
       "      <td>1</td>\n",
       "      <td>157.350512</td>\n",
       "      <td>Intel Core i7</td>\n",
       "      <td>0</td>\n",
       "      <td>128</td>\n",
       "      <td>Intel</td>\n",
       "      <td>Windows</td>\n",
       "    </tr>\n",
       "    <tr>\n",
       "      <th>1299</th>\n",
       "      <td>Lenovo</td>\n",
       "      <td>2 in 1 Convertible</td>\n",
       "      <td>16</td>\n",
       "      <td>1.30</td>\n",
       "      <td>1</td>\n",
       "      <td>1</td>\n",
       "      <td>276.053530</td>\n",
       "      <td>Intel Core i7</td>\n",
       "      <td>0</td>\n",
       "      <td>512</td>\n",
       "      <td>Intel</td>\n",
       "      <td>Windows</td>\n",
       "    </tr>\n",
       "    <tr>\n",
       "      <th>1300</th>\n",
       "      <td>Lenovo</td>\n",
       "      <td>Notebook</td>\n",
       "      <td>2</td>\n",
       "      <td>1.50</td>\n",
       "      <td>0</td>\n",
       "      <td>0</td>\n",
       "      <td>111.935204</td>\n",
       "      <td>Other Intel Processor</td>\n",
       "      <td>0</td>\n",
       "      <td>0</td>\n",
       "      <td>Intel</td>\n",
       "      <td>Windows</td>\n",
       "    </tr>\n",
       "    <tr>\n",
       "      <th>1301</th>\n",
       "      <td>HP</td>\n",
       "      <td>Notebook</td>\n",
       "      <td>6</td>\n",
       "      <td>2.19</td>\n",
       "      <td>0</td>\n",
       "      <td>0</td>\n",
       "      <td>100.454670</td>\n",
       "      <td>Intel Core i7</td>\n",
       "      <td>1000</td>\n",
       "      <td>0</td>\n",
       "      <td>AMD</td>\n",
       "      <td>Windows</td>\n",
       "    </tr>\n",
       "    <tr>\n",
       "      <th>1302</th>\n",
       "      <td>Asus</td>\n",
       "      <td>Notebook</td>\n",
       "      <td>4</td>\n",
       "      <td>2.20</td>\n",
       "      <td>0</td>\n",
       "      <td>0</td>\n",
       "      <td>100.454670</td>\n",
       "      <td>Other Intel Processor</td>\n",
       "      <td>500</td>\n",
       "      <td>0</td>\n",
       "      <td>Intel</td>\n",
       "      <td>Windows</td>\n",
       "    </tr>\n",
       "  </tbody>\n",
       "</table>\n",
       "<p>1302 rows × 12 columns</p>\n",
       "</div>"
      ],
      "text/plain": [
       "     Company            TypeName  Ram  Weight  Touchscreen  Ips         ppi  \\\n",
       "0      Apple           Ultrabook    8    1.37            0    1  226.983005   \n",
       "1      Apple           Ultrabook    8    1.34            0    0  127.677940   \n",
       "2         HP            Notebook    8    1.86            0    0  141.211998   \n",
       "3      Apple           Ultrabook   16    1.83            0    1  220.534624   \n",
       "4      Apple           Ultrabook    8    1.37            0    1  226.983005   \n",
       "...      ...                 ...  ...     ...          ...  ...         ...   \n",
       "1298  Lenovo  2 in 1 Convertible    4    1.80            1    1  157.350512   \n",
       "1299  Lenovo  2 in 1 Convertible   16    1.30            1    1  276.053530   \n",
       "1300  Lenovo            Notebook    2    1.50            0    0  111.935204   \n",
       "1301      HP            Notebook    6    2.19            0    0  100.454670   \n",
       "1302    Asus            Notebook    4    2.20            0    0  100.454670   \n",
       "\n",
       "                  Cpu brand   HDD  SSD Gpu brand                  os  \n",
       "0             Intel Core i5     0  128     Intel                 Mac  \n",
       "1             Intel Core i5     0    0     Intel                 Mac  \n",
       "2             Intel Core i5     0  256     Intel  Others/No OS/Linux  \n",
       "3             Intel Core i7     0  512       AMD                 Mac  \n",
       "4             Intel Core i5     0  256     Intel                 Mac  \n",
       "...                     ...   ...  ...       ...                 ...  \n",
       "1298          Intel Core i7     0  128     Intel             Windows  \n",
       "1299          Intel Core i7     0  512     Intel             Windows  \n",
       "1300  Other Intel Processor     0    0     Intel             Windows  \n",
       "1301          Intel Core i7  1000    0       AMD             Windows  \n",
       "1302  Other Intel Processor   500    0     Intel             Windows  \n",
       "\n",
       "[1302 rows x 12 columns]"
      ]
     },
     "execution_count": 87,
     "metadata": {},
     "output_type": "execute_result"
    }
   ],
   "source": [
    "X"
   ]
  },
  {
   "cell_type": "code",
   "execution_count": 88,
   "id": "9f66cd48",
   "metadata": {},
   "outputs": [
    {
     "data": {
      "text/plain": [
       "0       11.175755\n",
       "1       10.776777\n",
       "2       10.329931\n",
       "3       11.814476\n",
       "4       11.473101\n",
       "          ...    \n",
       "1298    10.433899\n",
       "1299    11.288115\n",
       "1300     9.409283\n",
       "1301    10.614129\n",
       "1302     9.886358\n",
       "Name: Price, Length: 1302, dtype: float64"
      ]
     },
     "execution_count": 88,
     "metadata": {},
     "output_type": "execute_result"
    }
   ],
   "source": [
    "y"
   ]
  },
  {
   "cell_type": "code",
   "execution_count": 89,
   "id": "60a0aaf0",
   "metadata": {},
   "outputs": [],
   "source": [
    "from sklearn.model_selection import train_test_split\n",
    "X_train,X_test,y_train,y_test = train_test_split(X,y,test_size=0.15,random_state=2)"
   ]
  },
  {
   "cell_type": "code",
   "execution_count": 90,
   "id": "3e665d44",
   "metadata": {},
   "outputs": [
    {
     "data": {
      "text/html": [
       "<div>\n",
       "<style scoped>\n",
       "    .dataframe tbody tr th:only-of-type {\n",
       "        vertical-align: middle;\n",
       "    }\n",
       "\n",
       "    .dataframe tbody tr th {\n",
       "        vertical-align: top;\n",
       "    }\n",
       "\n",
       "    .dataframe thead th {\n",
       "        text-align: right;\n",
       "    }\n",
       "</style>\n",
       "<table border=\"1\" class=\"dataframe\">\n",
       "  <thead>\n",
       "    <tr style=\"text-align: right;\">\n",
       "      <th></th>\n",
       "      <th>Company</th>\n",
       "      <th>TypeName</th>\n",
       "      <th>Ram</th>\n",
       "      <th>Weight</th>\n",
       "      <th>Touchscreen</th>\n",
       "      <th>Ips</th>\n",
       "      <th>ppi</th>\n",
       "      <th>Cpu brand</th>\n",
       "      <th>HDD</th>\n",
       "      <th>SSD</th>\n",
       "      <th>Gpu brand</th>\n",
       "      <th>os</th>\n",
       "    </tr>\n",
       "  </thead>\n",
       "  <tbody>\n",
       "    <tr>\n",
       "      <th>183</th>\n",
       "      <td>Toshiba</td>\n",
       "      <td>Notebook</td>\n",
       "      <td>8</td>\n",
       "      <td>2.00</td>\n",
       "      <td>0</td>\n",
       "      <td>0</td>\n",
       "      <td>100.454670</td>\n",
       "      <td>Intel Core i5</td>\n",
       "      <td>0</td>\n",
       "      <td>128</td>\n",
       "      <td>Intel</td>\n",
       "      <td>Windows</td>\n",
       "    </tr>\n",
       "    <tr>\n",
       "      <th>1141</th>\n",
       "      <td>MSI</td>\n",
       "      <td>Gaming</td>\n",
       "      <td>8</td>\n",
       "      <td>2.40</td>\n",
       "      <td>0</td>\n",
       "      <td>0</td>\n",
       "      <td>141.211998</td>\n",
       "      <td>Intel Core i7</td>\n",
       "      <td>1000</td>\n",
       "      <td>128</td>\n",
       "      <td>Nvidia</td>\n",
       "      <td>Windows</td>\n",
       "    </tr>\n",
       "    <tr>\n",
       "      <th>1049</th>\n",
       "      <td>Asus</td>\n",
       "      <td>Netbook</td>\n",
       "      <td>4</td>\n",
       "      <td>1.20</td>\n",
       "      <td>0</td>\n",
       "      <td>0</td>\n",
       "      <td>135.094211</td>\n",
       "      <td>Other Intel Processor</td>\n",
       "      <td>0</td>\n",
       "      <td>0</td>\n",
       "      <td>Intel</td>\n",
       "      <td>Others/No OS/Linux</td>\n",
       "    </tr>\n",
       "    <tr>\n",
       "      <th>1020</th>\n",
       "      <td>Dell</td>\n",
       "      <td>2 in 1 Convertible</td>\n",
       "      <td>4</td>\n",
       "      <td>2.08</td>\n",
       "      <td>1</td>\n",
       "      <td>1</td>\n",
       "      <td>141.211998</td>\n",
       "      <td>Intel Core i3</td>\n",
       "      <td>1000</td>\n",
       "      <td>0</td>\n",
       "      <td>Intel</td>\n",
       "      <td>Windows</td>\n",
       "    </tr>\n",
       "    <tr>\n",
       "      <th>878</th>\n",
       "      <td>Dell</td>\n",
       "      <td>Notebook</td>\n",
       "      <td>4</td>\n",
       "      <td>2.18</td>\n",
       "      <td>0</td>\n",
       "      <td>0</td>\n",
       "      <td>141.211998</td>\n",
       "      <td>Intel Core i5</td>\n",
       "      <td>1000</td>\n",
       "      <td>128</td>\n",
       "      <td>Nvidia</td>\n",
       "      <td>Windows</td>\n",
       "    </tr>\n",
       "    <tr>\n",
       "      <th>...</th>\n",
       "      <td>...</td>\n",
       "      <td>...</td>\n",
       "      <td>...</td>\n",
       "      <td>...</td>\n",
       "      <td>...</td>\n",
       "      <td>...</td>\n",
       "      <td>...</td>\n",
       "      <td>...</td>\n",
       "      <td>...</td>\n",
       "      <td>...</td>\n",
       "      <td>...</td>\n",
       "      <td>...</td>\n",
       "    </tr>\n",
       "    <tr>\n",
       "      <th>466</th>\n",
       "      <td>Acer</td>\n",
       "      <td>Notebook</td>\n",
       "      <td>4</td>\n",
       "      <td>2.20</td>\n",
       "      <td>0</td>\n",
       "      <td>0</td>\n",
       "      <td>100.454670</td>\n",
       "      <td>Intel Core i3</td>\n",
       "      <td>500</td>\n",
       "      <td>0</td>\n",
       "      <td>Nvidia</td>\n",
       "      <td>Windows</td>\n",
       "    </tr>\n",
       "    <tr>\n",
       "      <th>299</th>\n",
       "      <td>Asus</td>\n",
       "      <td>Ultrabook</td>\n",
       "      <td>16</td>\n",
       "      <td>1.63</td>\n",
       "      <td>0</td>\n",
       "      <td>0</td>\n",
       "      <td>141.211998</td>\n",
       "      <td>Intel Core i7</td>\n",
       "      <td>0</td>\n",
       "      <td>512</td>\n",
       "      <td>Nvidia</td>\n",
       "      <td>Windows</td>\n",
       "    </tr>\n",
       "    <tr>\n",
       "      <th>493</th>\n",
       "      <td>Acer</td>\n",
       "      <td>Notebook</td>\n",
       "      <td>8</td>\n",
       "      <td>2.20</td>\n",
       "      <td>0</td>\n",
       "      <td>0</td>\n",
       "      <td>100.454670</td>\n",
       "      <td>AMD Processor</td>\n",
       "      <td>1000</td>\n",
       "      <td>0</td>\n",
       "      <td>AMD</td>\n",
       "      <td>Windows</td>\n",
       "    </tr>\n",
       "    <tr>\n",
       "      <th>527</th>\n",
       "      <td>Lenovo</td>\n",
       "      <td>Notebook</td>\n",
       "      <td>8</td>\n",
       "      <td>2.20</td>\n",
       "      <td>0</td>\n",
       "      <td>0</td>\n",
       "      <td>100.454670</td>\n",
       "      <td>Intel Core i3</td>\n",
       "      <td>2000</td>\n",
       "      <td>0</td>\n",
       "      <td>Nvidia</td>\n",
       "      <td>Others/No OS/Linux</td>\n",
       "    </tr>\n",
       "    <tr>\n",
       "      <th>1193</th>\n",
       "      <td>Apple</td>\n",
       "      <td>Ultrabook</td>\n",
       "      <td>8</td>\n",
       "      <td>0.92</td>\n",
       "      <td>0</td>\n",
       "      <td>1</td>\n",
       "      <td>226.415547</td>\n",
       "      <td>Other Intel Processor</td>\n",
       "      <td>0</td>\n",
       "      <td>0</td>\n",
       "      <td>Intel</td>\n",
       "      <td>Mac</td>\n",
       "    </tr>\n",
       "  </tbody>\n",
       "</table>\n",
       "<p>1106 rows × 12 columns</p>\n",
       "</div>"
      ],
      "text/plain": [
       "      Company            TypeName  Ram  Weight  Touchscreen  Ips         ppi  \\\n",
       "183   Toshiba            Notebook    8    2.00            0    0  100.454670   \n",
       "1141      MSI              Gaming    8    2.40            0    0  141.211998   \n",
       "1049     Asus             Netbook    4    1.20            0    0  135.094211   \n",
       "1020     Dell  2 in 1 Convertible    4    2.08            1    1  141.211998   \n",
       "878      Dell            Notebook    4    2.18            0    0  141.211998   \n",
       "...       ...                 ...  ...     ...          ...  ...         ...   \n",
       "466      Acer            Notebook    4    2.20            0    0  100.454670   \n",
       "299      Asus           Ultrabook   16    1.63            0    0  141.211998   \n",
       "493      Acer            Notebook    8    2.20            0    0  100.454670   \n",
       "527    Lenovo            Notebook    8    2.20            0    0  100.454670   \n",
       "1193    Apple           Ultrabook    8    0.92            0    1  226.415547   \n",
       "\n",
       "                  Cpu brand   HDD  SSD Gpu brand                  os  \n",
       "183           Intel Core i5     0  128     Intel             Windows  \n",
       "1141          Intel Core i7  1000  128    Nvidia             Windows  \n",
       "1049  Other Intel Processor     0    0     Intel  Others/No OS/Linux  \n",
       "1020          Intel Core i3  1000    0     Intel             Windows  \n",
       "878           Intel Core i5  1000  128    Nvidia             Windows  \n",
       "...                     ...   ...  ...       ...                 ...  \n",
       "466           Intel Core i3   500    0    Nvidia             Windows  \n",
       "299           Intel Core i7     0  512    Nvidia             Windows  \n",
       "493           AMD Processor  1000    0       AMD             Windows  \n",
       "527           Intel Core i3  2000    0    Nvidia  Others/No OS/Linux  \n",
       "1193  Other Intel Processor     0    0     Intel                 Mac  \n",
       "\n",
       "[1106 rows x 12 columns]"
      ]
     },
     "execution_count": 90,
     "metadata": {},
     "output_type": "execute_result"
    }
   ],
   "source": [
    "X_train"
   ]
  },
  {
   "cell_type": "code",
   "execution_count": 91,
   "id": "87288c45",
   "metadata": {},
   "outputs": [],
   "source": [
    "from sklearn.compose import ColumnTransformer\n",
    "from sklearn.pipeline import Pipeline\n",
    "from sklearn.preprocessing import OneHotEncoder\n",
    "from sklearn.metrics import r2_score,mean_absolute_error"
   ]
  },
  {
   "cell_type": "code",
   "execution_count": 92,
   "id": "e83816b2",
   "metadata": {},
   "outputs": [],
   "source": [
    "from sklearn.linear_model import LinearRegression,Ridge,Lasso\n",
    "from sklearn.neighbors import KNeighborsRegressor\n",
    "from sklearn.tree import DecisionTreeRegressor\n",
    "from sklearn.ensemble import RandomForestRegressor,GradientBoostingRegressor,AdaBoostRegressor,ExtraTreesRegressor\n",
    "from sklearn.svm import SVR\n",
    "from xgboost import XGBRegressor"
   ]
  },
  {
   "cell_type": "markdown",
   "id": "a9b9b064",
   "metadata": {},
   "source": [
    "### Linear regression"
   ]
  },
  {
   "cell_type": "code",
   "execution_count": 93,
   "id": "62d1c597",
   "metadata": {},
   "outputs": [
    {
     "name": "stdout",
     "output_type": "stream",
     "text": [
      "R2 score 0.8073277448418642\n",
      "MAE 0.21017827976428846\n"
     ]
    },
    {
     "name": "stderr",
     "output_type": "stream",
     "text": [
      "/Users/rsahani/Library/Python/3.9/lib/python/site-packages/sklearn/preprocessing/_encoders.py:975: FutureWarning: `sparse` was renamed to `sparse_output` in version 1.2 and will be removed in 1.4. `sparse_output` is ignored unless you leave `sparse` to its default value.\n",
      "  warnings.warn(\n"
     ]
    }
   ],
   "source": [
    "step1 = ColumnTransformer(transformers=[\n",
    "    ('col_tnf',OneHotEncoder(sparse=False,drop='first'),[0,1,7,10,11])\n",
    "],remainder='passthrough')\n",
    "\n",
    "step2 = LinearRegression()\n",
    "\n",
    "pipe = Pipeline([\n",
    "    ('step1',step1),\n",
    "    ('step2',step2)\n",
    "])\n",
    "\n",
    "pipe.fit(X_train,y_train)\n",
    "\n",
    "y_pred = pipe.predict(X_test)\n",
    "\n",
    "print('R2 score',r2_score(y_test,y_pred))\n",
    "print('MAE',mean_absolute_error(y_test,y_pred))"
   ]
  },
  {
   "cell_type": "markdown",
   "id": "a2792084",
   "metadata": {},
   "source": [
    "### Ridge Regression"
   ]
  },
  {
   "cell_type": "code",
   "execution_count": 94,
   "id": "b0636174",
   "metadata": {},
   "outputs": [
    {
     "name": "stdout",
     "output_type": "stream",
     "text": [
      "R2 score 0.8127331031311809\n",
      "MAE 0.20926802242582968\n"
     ]
    },
    {
     "name": "stderr",
     "output_type": "stream",
     "text": [
      "/Users/rsahani/Library/Python/3.9/lib/python/site-packages/sklearn/preprocessing/_encoders.py:975: FutureWarning: `sparse` was renamed to `sparse_output` in version 1.2 and will be removed in 1.4. `sparse_output` is ignored unless you leave `sparse` to its default value.\n",
      "  warnings.warn(\n"
     ]
    }
   ],
   "source": [
    "step1 = ColumnTransformer(transformers=[\n",
    "    ('col_tnf',OneHotEncoder(sparse=False,drop='first'),[0,1,7,10,11])\n",
    "],remainder='passthrough')\n",
    "\n",
    "step2 = Ridge(alpha=10)\n",
    "\n",
    "pipe = Pipeline([\n",
    "    ('step1',step1),\n",
    "    ('step2',step2)\n",
    "])\n",
    "\n",
    "pipe.fit(X_train,y_train)\n",
    "\n",
    "y_pred = pipe.predict(X_test)\n",
    "\n",
    "print('R2 score',r2_score(y_test,y_pred))\n",
    "print('MAE',mean_absolute_error(y_test,y_pred))"
   ]
  },
  {
   "cell_type": "markdown",
   "id": "f962da33",
   "metadata": {},
   "source": [
    "### Lasso Regression"
   ]
  },
  {
   "cell_type": "code",
   "execution_count": 95,
   "id": "7569a253",
   "metadata": {},
   "outputs": [
    {
     "name": "stderr",
     "output_type": "stream",
     "text": [
      "/Users/rsahani/Library/Python/3.9/lib/python/site-packages/sklearn/preprocessing/_encoders.py:975: FutureWarning: `sparse` was renamed to `sparse_output` in version 1.2 and will be removed in 1.4. `sparse_output` is ignored unless you leave `sparse` to its default value.\n",
      "  warnings.warn(\n"
     ]
    },
    {
     "name": "stdout",
     "output_type": "stream",
     "text": [
      "R2 score 0.8071853945317103\n",
      "MAE 0.21114361613472576\n"
     ]
    }
   ],
   "source": [
    "step1 = ColumnTransformer(transformers=[\n",
    "    ('col_tnf',OneHotEncoder(sparse=False,drop='first'),[0,1,7,10,11])\n",
    "],remainder='passthrough')\n",
    "\n",
    "step2 = Lasso(alpha=0.001)\n",
    "\n",
    "pipe = Pipeline([\n",
    "    ('step1',step1),\n",
    "    ('step2',step2)\n",
    "])\n",
    "\n",
    "pipe.fit(X_train,y_train)\n",
    "\n",
    "y_pred = pipe.predict(X_test)\n",
    "\n",
    "print('R2 score',r2_score(y_test,y_pred))\n",
    "print('MAE',mean_absolute_error(y_test,y_pred))"
   ]
  },
  {
   "cell_type": "markdown",
   "id": "ecd73f96",
   "metadata": {},
   "source": [
    "### KNN"
   ]
  },
  {
   "cell_type": "code",
   "execution_count": 96,
   "id": "387fb985",
   "metadata": {},
   "outputs": [
    {
     "name": "stderr",
     "output_type": "stream",
     "text": [
      "/Users/rsahani/Library/Python/3.9/lib/python/site-packages/sklearn/preprocessing/_encoders.py:975: FutureWarning: `sparse` was renamed to `sparse_output` in version 1.2 and will be removed in 1.4. `sparse_output` is ignored unless you leave `sparse` to its default value.\n",
      "  warnings.warn(\n"
     ]
    },
    {
     "name": "stdout",
     "output_type": "stream",
     "text": [
      "R2 score 0.803148868705085\n",
      "MAE 0.19264883332948868\n"
     ]
    }
   ],
   "source": [
    "step1 = ColumnTransformer(transformers=[\n",
    "    ('col_tnf',OneHotEncoder(sparse=False,drop='first'),[0,1,7,10,11])\n",
    "],remainder='passthrough')\n",
    "\n",
    "step2 = KNeighborsRegressor(n_neighbors=3)\n",
    "\n",
    "pipe = Pipeline([\n",
    "    ('step1',step1),\n",
    "    ('step2',step2)\n",
    "])\n",
    "\n",
    "pipe.fit(X_train,y_train)\n",
    "\n",
    "y_pred = pipe.predict(X_test)\n",
    "\n",
    "print('R2 score',r2_score(y_test,y_pred))\n",
    "print('MAE',mean_absolute_error(y_test,y_pred))"
   ]
  },
  {
   "cell_type": "markdown",
   "id": "5401e577",
   "metadata": {},
   "source": [
    "### Decision Tree"
   ]
  },
  {
   "cell_type": "code",
   "execution_count": 97,
   "id": "767f57d9",
   "metadata": {},
   "outputs": [
    {
     "name": "stdout",
     "output_type": "stream",
     "text": [
      "R2 score 0.837971077492413\n",
      "MAE 0.18324497426904066\n"
     ]
    },
    {
     "name": "stderr",
     "output_type": "stream",
     "text": [
      "/Users/rsahani/Library/Python/3.9/lib/python/site-packages/sklearn/preprocessing/_encoders.py:975: FutureWarning: `sparse` was renamed to `sparse_output` in version 1.2 and will be removed in 1.4. `sparse_output` is ignored unless you leave `sparse` to its default value.\n",
      "  warnings.warn(\n"
     ]
    }
   ],
   "source": [
    "step1 = ColumnTransformer(transformers=[\n",
    "    ('col_tnf',OneHotEncoder(sparse=False,drop='first'),[0,1,7,10,11])\n",
    "],remainder='passthrough')\n",
    "\n",
    "step2 = DecisionTreeRegressor(max_depth=8)\n",
    "\n",
    "pipe = Pipeline([\n",
    "    ('step1',step1),\n",
    "    ('step2',step2)\n",
    "])\n",
    "\n",
    "pipe.fit(X_train,y_train)\n",
    "\n",
    "y_pred = pipe.predict(X_test)\n",
    "\n",
    "print('R2 score',r2_score(y_test,y_pred))\n",
    "print('MAE',mean_absolute_error(y_test,y_pred))"
   ]
  },
  {
   "cell_type": "markdown",
   "id": "68197776",
   "metadata": {},
   "source": [
    "### SVM"
   ]
  },
  {
   "cell_type": "code",
   "execution_count": 98,
   "id": "da16c784",
   "metadata": {},
   "outputs": [
    {
     "name": "stderr",
     "output_type": "stream",
     "text": [
      "/Users/rsahani/Library/Python/3.9/lib/python/site-packages/sklearn/preprocessing/_encoders.py:975: FutureWarning: `sparse` was renamed to `sparse_output` in version 1.2 and will be removed in 1.4. `sparse_output` is ignored unless you leave `sparse` to its default value.\n",
      "  warnings.warn(\n"
     ]
    },
    {
     "name": "stdout",
     "output_type": "stream",
     "text": [
      "R2 score 0.8083180902277604\n",
      "MAE 0.20239059427278586\n"
     ]
    }
   ],
   "source": [
    "step1 = ColumnTransformer(transformers=[\n",
    "    ('col_tnf',OneHotEncoder(sparse=False,drop='first'),[0,1,7,10,11])\n",
    "],remainder='passthrough')\n",
    "\n",
    "step2 = SVR(kernel='rbf',C=10000,epsilon=0.1)\n",
    "\n",
    "pipe = Pipeline([\n",
    "    ('step1',step1),\n",
    "    ('step2',step2)\n",
    "])\n",
    "\n",
    "pipe.fit(X_train,y_train)\n",
    "\n",
    "y_pred = pipe.predict(X_test)\n",
    "\n",
    "print('R2 score',r2_score(y_test,y_pred))\n",
    "print('MAE',mean_absolute_error(y_test,y_pred))"
   ]
  },
  {
   "cell_type": "markdown",
   "id": "896ba19b",
   "metadata": {},
   "source": [
    "### Random Forest"
   ]
  },
  {
   "cell_type": "code",
   "execution_count": 99,
   "id": "18175591",
   "metadata": {},
   "outputs": [
    {
     "name": "stdout",
     "output_type": "stream",
     "text": [
      "R2 score 0.8873402378382488\n",
      "MAE 0.15860130110457718\n"
     ]
    },
    {
     "name": "stderr",
     "output_type": "stream",
     "text": [
      "/Users/rsahani/Library/Python/3.9/lib/python/site-packages/sklearn/preprocessing/_encoders.py:975: FutureWarning: `sparse` was renamed to `sparse_output` in version 1.2 and will be removed in 1.4. `sparse_output` is ignored unless you leave `sparse` to its default value.\n",
      "  warnings.warn(\n"
     ]
    }
   ],
   "source": [
    "step1 = ColumnTransformer(transformers=[\n",
    "    ('col_tnf',OneHotEncoder(sparse=False,drop='first'),[0,1,7,10,11])\n",
    "],remainder='passthrough')\n",
    "\n",
    "step2 = RandomForestRegressor(n_estimators=100,\n",
    "                              random_state=3,\n",
    "                              max_samples=0.5,\n",
    "                              max_features=0.75,\n",
    "                              max_depth=15)\n",
    "\n",
    "pipe = Pipeline([\n",
    "    ('step1',step1),\n",
    "    ('step2',step2)\n",
    "])\n",
    "\n",
    "pipe.fit(X_train,y_train)\n",
    "\n",
    "y_pred = pipe.predict(X_test)\n",
    "\n",
    "print('R2 score',r2_score(y_test,y_pred))\n",
    "print('MAE',mean_absolute_error(y_test,y_pred))"
   ]
  },
  {
   "cell_type": "markdown",
   "id": "c5a515a1",
   "metadata": {},
   "source": [
    "### ExtraTrees"
   ]
  },
  {
   "cell_type": "code",
   "execution_count": 100,
   "id": "e392786d",
   "metadata": {},
   "outputs": [
    {
     "name": "stderr",
     "output_type": "stream",
     "text": [
      "/Users/rsahani/Library/Python/3.9/lib/python/site-packages/sklearn/preprocessing/_encoders.py:975: FutureWarning: `sparse` was renamed to `sparse_output` in version 1.2 and will be removed in 1.4. `sparse_output` is ignored unless you leave `sparse` to its default value.\n",
      "  warnings.warn(\n"
     ]
    },
    {
     "name": "stdout",
     "output_type": "stream",
     "text": [
      "R2 score 0.8855517589132932\n",
      "MAE 0.15799654683982242\n"
     ]
    }
   ],
   "source": [
    "step1 = ColumnTransformer(transformers=[\n",
    "    ('col_tnf',OneHotEncoder(sparse=False,drop='first'),[0,1,7,10,11])\n",
    "],remainder='passthrough')\n",
    "\n",
    "step2 = ExtraTreesRegressor(n_estimators=100,\n",
    "                            random_state=3,\n",
    "                            bootstrap=True,  # Set bootstrap to True\n",
    "                            max_features=0.75,\n",
    "                            max_depth=15)\n",
    "\n",
    "\n",
    "pipe = Pipeline([\n",
    "    ('step1',step1),\n",
    "    ('step2',step2)\n",
    "])\n",
    "\n",
    "pipe.fit(X_train,y_train)\n",
    "\n",
    "y_pred = pipe.predict(X_test)\n",
    "\n",
    "print('R2 score',r2_score(y_test,y_pred))\n",
    "print('MAE',mean_absolute_error(y_test,y_pred))"
   ]
  },
  {
   "cell_type": "markdown",
   "id": "f0e21fc7",
   "metadata": {},
   "source": [
    "### AdaBoost"
   ]
  },
  {
   "cell_type": "code",
   "execution_count": 101,
   "id": "ec362923",
   "metadata": {},
   "outputs": [
    {
     "name": "stdout",
     "output_type": "stream",
     "text": [
      "R2 score 0.7961588058709139\n",
      "MAE 0.22774961213362344\n"
     ]
    },
    {
     "name": "stderr",
     "output_type": "stream",
     "text": [
      "/Users/rsahani/Library/Python/3.9/lib/python/site-packages/sklearn/preprocessing/_encoders.py:975: FutureWarning: `sparse` was renamed to `sparse_output` in version 1.2 and will be removed in 1.4. `sparse_output` is ignored unless you leave `sparse` to its default value.\n",
      "  warnings.warn(\n"
     ]
    }
   ],
   "source": [
    "step1 = ColumnTransformer(transformers=[\n",
    "    ('col_tnf',OneHotEncoder(sparse=False,drop='first'),[0,1,7,10,11])\n",
    "],remainder='passthrough')\n",
    "\n",
    "step2 = AdaBoostRegressor(n_estimators=15,learning_rate=1.0)\n",
    "\n",
    "pipe = Pipeline([\n",
    "    ('step1',step1),\n",
    "    ('step2',step2)\n",
    "])\n",
    "\n",
    "pipe.fit(X_train,y_train)\n",
    "\n",
    "y_pred = pipe.predict(X_test)\n",
    "\n",
    "print('R2 score',r2_score(y_test,y_pred))\n",
    "print('MAE',mean_absolute_error(y_test,y_pred))"
   ]
  },
  {
   "cell_type": "markdown",
   "id": "5803b293",
   "metadata": {},
   "source": [
    "### Gradient Boost"
   ]
  },
  {
   "cell_type": "code",
   "execution_count": 102,
   "id": "c1c75c73",
   "metadata": {},
   "outputs": [
    {
     "name": "stderr",
     "output_type": "stream",
     "text": [
      "/Users/rsahani/Library/Python/3.9/lib/python/site-packages/sklearn/preprocessing/_encoders.py:975: FutureWarning: `sparse` was renamed to `sparse_output` in version 1.2 and will be removed in 1.4. `sparse_output` is ignored unless you leave `sparse` to its default value.\n",
      "  warnings.warn(\n"
     ]
    },
    {
     "name": "stdout",
     "output_type": "stream",
     "text": [
      "R2 score 0.8810741353117456\n",
      "MAE 0.15960767588144278\n"
     ]
    }
   ],
   "source": [
    "step1 = ColumnTransformer(transformers=[\n",
    "    ('col_tnf',OneHotEncoder(sparse=False,drop='first'),[0,1,7,10,11])\n",
    "],remainder='passthrough')\n",
    "\n",
    "step2 = GradientBoostingRegressor(n_estimators=500)\n",
    "\n",
    "pipe = Pipeline([\n",
    "    ('step1',step1),\n",
    "    ('step2',step2)\n",
    "])\n",
    "\n",
    "pipe.fit(X_train,y_train)\n",
    "\n",
    "y_pred = pipe.predict(X_test)\n",
    "\n",
    "print('R2 score',r2_score(y_test,y_pred))\n",
    "print('MAE',mean_absolute_error(y_test,y_pred))"
   ]
  },
  {
   "cell_type": "markdown",
   "id": "90e671f3",
   "metadata": {},
   "source": [
    "### XgBoost"
   ]
  },
  {
   "cell_type": "code",
   "execution_count": 103,
   "id": "a957c398",
   "metadata": {},
   "outputs": [
    {
     "name": "stdout",
     "output_type": "stream",
     "text": [
      "R2 score 0.8771404806375557\n",
      "MAE 0.16262936288951352\n"
     ]
    },
    {
     "name": "stderr",
     "output_type": "stream",
     "text": [
      "/Users/rsahani/Library/Python/3.9/lib/python/site-packages/sklearn/preprocessing/_encoders.py:975: FutureWarning: `sparse` was renamed to `sparse_output` in version 1.2 and will be removed in 1.4. `sparse_output` is ignored unless you leave `sparse` to its default value.\n",
      "  warnings.warn(\n"
     ]
    }
   ],
   "source": [
    "step1 = ColumnTransformer(transformers=[\n",
    "    ('col_tnf',OneHotEncoder(sparse=False,drop='first'),[0,1,7,10,11])\n",
    "],remainder='passthrough')\n",
    "\n",
    "step2 = XGBRegressor(n_estimators=45,max_depth=5,learning_rate=0.5)\n",
    "\n",
    "pipe = Pipeline([\n",
    "    ('step1',step1),\n",
    "    ('step2',step2)\n",
    "])\n",
    "\n",
    "pipe.fit(X_train,y_train)\n",
    "\n",
    "y_pred = pipe.predict(X_test)\n",
    "\n",
    "print('R2 score',r2_score(y_test,y_pred))\n",
    "print('MAE',mean_absolute_error(y_test,y_pred))"
   ]
  },
  {
   "cell_type": "markdown",
   "id": "7814b634",
   "metadata": {},
   "source": [
    "### Voting Regressor"
   ]
  },
  {
   "cell_type": "code",
   "execution_count": 104,
   "id": "e69ed5dc",
   "metadata": {},
   "outputs": [
    {
     "name": "stderr",
     "output_type": "stream",
     "text": [
      "/Users/rsahani/Library/Python/3.9/lib/python/site-packages/sklearn/preprocessing/_encoders.py:975: FutureWarning: `sparse` was renamed to `sparse_output` in version 1.2 and will be removed in 1.4. `sparse_output` is ignored unless you leave `sparse` to its default value.\n",
      "  warnings.warn(\n"
     ]
    },
    {
     "name": "stdout",
     "output_type": "stream",
     "text": [
      "R2 score 0.8894038079395967\n",
      "MAE 0.15821539885169486\n"
     ]
    }
   ],
   "source": [
    "from sklearn.ensemble import VotingRegressor,StackingRegressor\n",
    "\n",
    "step1 = ColumnTransformer(transformers=[\n",
    "    ('col_tnf',OneHotEncoder(sparse=False,drop='first'),[0,1,7,10,11])\n",
    "],remainder='passthrough')\n",
    "\n",
    "\n",
    "rf = RandomForestRegressor(n_estimators=350,random_state=3,max_samples=0.5,max_features=0.75,max_depth=15)\n",
    "gbdt = GradientBoostingRegressor(n_estimators=100,max_features=0.5)\n",
    "xgb = XGBRegressor(n_estimators=25,learning_rate=0.3,max_depth=5)\n",
    "et = ExtraTreesRegressor(n_estimators=100, random_state=3, max_features=0.75, max_depth=10)\n",
    "\n",
    "\n",
    "step2 = VotingRegressor([('rf', rf), ('gbdt', gbdt), ('xgb',xgb), ('et',et)],weights=[5,1,1,1])\n",
    "\n",
    "pipe = Pipeline([\n",
    "    ('step1',step1),\n",
    "    ('step2',step2)\n",
    "])\n",
    "\n",
    "pipe.fit(X_train,y_train)\n",
    "\n",
    "y_pred = pipe.predict(X_test)\n",
    "\n",
    "print('R2 score',r2_score(y_test,y_pred))\n",
    "print('MAE',mean_absolute_error(y_test,y_pred))"
   ]
  },
  {
   "cell_type": "markdown",
   "id": "27e01d9f",
   "metadata": {},
   "source": [
    "### Stacking"
   ]
  },
  {
   "cell_type": "code",
   "execution_count": 105,
   "id": "6a5f1f62",
   "metadata": {},
   "outputs": [
    {
     "name": "stderr",
     "output_type": "stream",
     "text": [
      "/Users/rsahani/Library/Python/3.9/lib/python/site-packages/sklearn/preprocessing/_encoders.py:975: FutureWarning: `sparse` was renamed to `sparse_output` in version 1.2 and will be removed in 1.4. `sparse_output` is ignored unless you leave `sparse` to its default value.\n",
      "  warnings.warn(\n"
     ]
    },
    {
     "name": "stdout",
     "output_type": "stream",
     "text": [
      "R2 score 0.8785682020486181\n",
      "MAE 0.16601960780442945\n"
     ]
    }
   ],
   "source": [
    "from sklearn.ensemble import VotingRegressor,StackingRegressor\n",
    "\n",
    "step1 = ColumnTransformer(transformers=[\n",
    "    ('col_tnf',OneHotEncoder(sparse=False,drop='first'),[0,1,7,10,11])\n",
    "],remainder='passthrough')\n",
    "\n",
    "\n",
    "estimators = [\n",
    "    ('rf', RandomForestRegressor(n_estimators=350,random_state=3,max_samples=0.5,max_features=0.75,max_depth=15)),\n",
    "    ('gbdt',GradientBoostingRegressor(n_estimators=100,max_features=0.5)),\n",
    "    ('xgb', XGBRegressor(n_estimators=25,learning_rate=0.3,max_depth=5))\n",
    "]\n",
    "\n",
    "step2 = StackingRegressor(estimators=estimators, final_estimator=Ridge(alpha=100))\n",
    "\n",
    "pipe = Pipeline([\n",
    "    ('step1',step1),\n",
    "    ('step2',step2)\n",
    "])\n",
    "\n",
    "pipe.fit(X_train,y_train)\n",
    "\n",
    "y_pred = pipe.predict(X_test)\n",
    "\n",
    "print('R2 score',r2_score(y_test,y_pred))\n",
    "print('MAE',mean_absolute_error(y_test,y_pred))"
   ]
  },
  {
   "cell_type": "markdown",
   "id": "d4e6d7be",
   "metadata": {},
   "source": [
    "### Exporting the Model"
   ]
  },
  {
   "cell_type": "code",
   "execution_count": 106,
   "id": "d35eb7b6",
   "metadata": {},
   "outputs": [],
   "source": [
    "import pickle\n",
    "\n",
    "pickle.dump(df,open('df.pkl','wb'))\n",
    "pickle.dump(pipe,open('pipe.pkl','wb'))"
   ]
  },
  {
   "cell_type": "code",
   "execution_count": 107,
   "id": "2bd94cb7",
   "metadata": {},
   "outputs": [
    {
     "data": {
      "text/html": [
       "<div>\n",
       "<style scoped>\n",
       "    .dataframe tbody tr th:only-of-type {\n",
       "        vertical-align: middle;\n",
       "    }\n",
       "\n",
       "    .dataframe tbody tr th {\n",
       "        vertical-align: top;\n",
       "    }\n",
       "\n",
       "    .dataframe thead th {\n",
       "        text-align: right;\n",
       "    }\n",
       "</style>\n",
       "<table border=\"1\" class=\"dataframe\">\n",
       "  <thead>\n",
       "    <tr style=\"text-align: right;\">\n",
       "      <th></th>\n",
       "      <th>Company</th>\n",
       "      <th>TypeName</th>\n",
       "      <th>Ram</th>\n",
       "      <th>Weight</th>\n",
       "      <th>Price</th>\n",
       "      <th>Touchscreen</th>\n",
       "      <th>Ips</th>\n",
       "      <th>ppi</th>\n",
       "      <th>Cpu brand</th>\n",
       "      <th>HDD</th>\n",
       "      <th>SSD</th>\n",
       "      <th>Gpu brand</th>\n",
       "      <th>os</th>\n",
       "    </tr>\n",
       "  </thead>\n",
       "  <tbody>\n",
       "    <tr>\n",
       "      <th>0</th>\n",
       "      <td>Apple</td>\n",
       "      <td>Ultrabook</td>\n",
       "      <td>8</td>\n",
       "      <td>1.37</td>\n",
       "      <td>71378.6832</td>\n",
       "      <td>0</td>\n",
       "      <td>1</td>\n",
       "      <td>226.983005</td>\n",
       "      <td>Intel Core i5</td>\n",
       "      <td>0</td>\n",
       "      <td>128</td>\n",
       "      <td>Intel</td>\n",
       "      <td>Mac</td>\n",
       "    </tr>\n",
       "    <tr>\n",
       "      <th>1</th>\n",
       "      <td>Apple</td>\n",
       "      <td>Ultrabook</td>\n",
       "      <td>8</td>\n",
       "      <td>1.34</td>\n",
       "      <td>47895.5232</td>\n",
       "      <td>0</td>\n",
       "      <td>0</td>\n",
       "      <td>127.677940</td>\n",
       "      <td>Intel Core i5</td>\n",
       "      <td>0</td>\n",
       "      <td>0</td>\n",
       "      <td>Intel</td>\n",
       "      <td>Mac</td>\n",
       "    </tr>\n",
       "    <tr>\n",
       "      <th>2</th>\n",
       "      <td>HP</td>\n",
       "      <td>Notebook</td>\n",
       "      <td>8</td>\n",
       "      <td>1.86</td>\n",
       "      <td>30636.0000</td>\n",
       "      <td>0</td>\n",
       "      <td>0</td>\n",
       "      <td>141.211998</td>\n",
       "      <td>Intel Core i5</td>\n",
       "      <td>0</td>\n",
       "      <td>256</td>\n",
       "      <td>Intel</td>\n",
       "      <td>Others/No OS/Linux</td>\n",
       "    </tr>\n",
       "    <tr>\n",
       "      <th>3</th>\n",
       "      <td>Apple</td>\n",
       "      <td>Ultrabook</td>\n",
       "      <td>16</td>\n",
       "      <td>1.83</td>\n",
       "      <td>135195.3360</td>\n",
       "      <td>0</td>\n",
       "      <td>1</td>\n",
       "      <td>220.534624</td>\n",
       "      <td>Intel Core i7</td>\n",
       "      <td>0</td>\n",
       "      <td>512</td>\n",
       "      <td>AMD</td>\n",
       "      <td>Mac</td>\n",
       "    </tr>\n",
       "    <tr>\n",
       "      <th>4</th>\n",
       "      <td>Apple</td>\n",
       "      <td>Ultrabook</td>\n",
       "      <td>8</td>\n",
       "      <td>1.37</td>\n",
       "      <td>96095.8080</td>\n",
       "      <td>0</td>\n",
       "      <td>1</td>\n",
       "      <td>226.983005</td>\n",
       "      <td>Intel Core i5</td>\n",
       "      <td>0</td>\n",
       "      <td>256</td>\n",
       "      <td>Intel</td>\n",
       "      <td>Mac</td>\n",
       "    </tr>\n",
       "    <tr>\n",
       "      <th>...</th>\n",
       "      <td>...</td>\n",
       "      <td>...</td>\n",
       "      <td>...</td>\n",
       "      <td>...</td>\n",
       "      <td>...</td>\n",
       "      <td>...</td>\n",
       "      <td>...</td>\n",
       "      <td>...</td>\n",
       "      <td>...</td>\n",
       "      <td>...</td>\n",
       "      <td>...</td>\n",
       "      <td>...</td>\n",
       "      <td>...</td>\n",
       "    </tr>\n",
       "    <tr>\n",
       "      <th>1298</th>\n",
       "      <td>Lenovo</td>\n",
       "      <td>2 in 1 Convertible</td>\n",
       "      <td>4</td>\n",
       "      <td>1.80</td>\n",
       "      <td>33992.6400</td>\n",
       "      <td>1</td>\n",
       "      <td>1</td>\n",
       "      <td>157.350512</td>\n",
       "      <td>Intel Core i7</td>\n",
       "      <td>0</td>\n",
       "      <td>128</td>\n",
       "      <td>Intel</td>\n",
       "      <td>Windows</td>\n",
       "    </tr>\n",
       "    <tr>\n",
       "      <th>1299</th>\n",
       "      <td>Lenovo</td>\n",
       "      <td>2 in 1 Convertible</td>\n",
       "      <td>16</td>\n",
       "      <td>1.30</td>\n",
       "      <td>79866.7200</td>\n",
       "      <td>1</td>\n",
       "      <td>1</td>\n",
       "      <td>276.053530</td>\n",
       "      <td>Intel Core i7</td>\n",
       "      <td>0</td>\n",
       "      <td>512</td>\n",
       "      <td>Intel</td>\n",
       "      <td>Windows</td>\n",
       "    </tr>\n",
       "    <tr>\n",
       "      <th>1300</th>\n",
       "      <td>Lenovo</td>\n",
       "      <td>Notebook</td>\n",
       "      <td>2</td>\n",
       "      <td>1.50</td>\n",
       "      <td>12201.1200</td>\n",
       "      <td>0</td>\n",
       "      <td>0</td>\n",
       "      <td>111.935204</td>\n",
       "      <td>Other Intel Processor</td>\n",
       "      <td>0</td>\n",
       "      <td>0</td>\n",
       "      <td>Intel</td>\n",
       "      <td>Windows</td>\n",
       "    </tr>\n",
       "    <tr>\n",
       "      <th>1301</th>\n",
       "      <td>HP</td>\n",
       "      <td>Notebook</td>\n",
       "      <td>6</td>\n",
       "      <td>2.19</td>\n",
       "      <td>40705.9200</td>\n",
       "      <td>0</td>\n",
       "      <td>0</td>\n",
       "      <td>100.454670</td>\n",
       "      <td>Intel Core i7</td>\n",
       "      <td>1000</td>\n",
       "      <td>0</td>\n",
       "      <td>AMD</td>\n",
       "      <td>Windows</td>\n",
       "    </tr>\n",
       "    <tr>\n",
       "      <th>1302</th>\n",
       "      <td>Asus</td>\n",
       "      <td>Notebook</td>\n",
       "      <td>4</td>\n",
       "      <td>2.20</td>\n",
       "      <td>19660.3200</td>\n",
       "      <td>0</td>\n",
       "      <td>0</td>\n",
       "      <td>100.454670</td>\n",
       "      <td>Other Intel Processor</td>\n",
       "      <td>500</td>\n",
       "      <td>0</td>\n",
       "      <td>Intel</td>\n",
       "      <td>Windows</td>\n",
       "    </tr>\n",
       "  </tbody>\n",
       "</table>\n",
       "<p>1302 rows × 13 columns</p>\n",
       "</div>"
      ],
      "text/plain": [
       "     Company            TypeName  Ram  Weight        Price  Touchscreen  Ips  \\\n",
       "0      Apple           Ultrabook    8    1.37   71378.6832            0    1   \n",
       "1      Apple           Ultrabook    8    1.34   47895.5232            0    0   \n",
       "2         HP            Notebook    8    1.86   30636.0000            0    0   \n",
       "3      Apple           Ultrabook   16    1.83  135195.3360            0    1   \n",
       "4      Apple           Ultrabook    8    1.37   96095.8080            0    1   \n",
       "...      ...                 ...  ...     ...          ...          ...  ...   \n",
       "1298  Lenovo  2 in 1 Convertible    4    1.80   33992.6400            1    1   \n",
       "1299  Lenovo  2 in 1 Convertible   16    1.30   79866.7200            1    1   \n",
       "1300  Lenovo            Notebook    2    1.50   12201.1200            0    0   \n",
       "1301      HP            Notebook    6    2.19   40705.9200            0    0   \n",
       "1302    Asus            Notebook    4    2.20   19660.3200            0    0   \n",
       "\n",
       "             ppi              Cpu brand   HDD  SSD Gpu brand  \\\n",
       "0     226.983005          Intel Core i5     0  128     Intel   \n",
       "1     127.677940          Intel Core i5     0    0     Intel   \n",
       "2     141.211998          Intel Core i5     0  256     Intel   \n",
       "3     220.534624          Intel Core i7     0  512       AMD   \n",
       "4     226.983005          Intel Core i5     0  256     Intel   \n",
       "...          ...                    ...   ...  ...       ...   \n",
       "1298  157.350512          Intel Core i7     0  128     Intel   \n",
       "1299  276.053530          Intel Core i7     0  512     Intel   \n",
       "1300  111.935204  Other Intel Processor     0    0     Intel   \n",
       "1301  100.454670          Intel Core i7  1000    0       AMD   \n",
       "1302  100.454670  Other Intel Processor   500    0     Intel   \n",
       "\n",
       "                      os  \n",
       "0                    Mac  \n",
       "1                    Mac  \n",
       "2     Others/No OS/Linux  \n",
       "3                    Mac  \n",
       "4                    Mac  \n",
       "...                  ...  \n",
       "1298             Windows  \n",
       "1299             Windows  \n",
       "1300             Windows  \n",
       "1301             Windows  \n",
       "1302             Windows  \n",
       "\n",
       "[1302 rows x 13 columns]"
      ]
     },
     "execution_count": 107,
     "metadata": {},
     "output_type": "execute_result"
    }
   ],
   "source": [
    "df"
   ]
  },
  {
   "cell_type": "code",
   "execution_count": 108,
   "id": "64618e65",
   "metadata": {},
   "outputs": [
    {
     "data": {
      "text/html": [
       "<div>\n",
       "<style scoped>\n",
       "    .dataframe tbody tr th:only-of-type {\n",
       "        vertical-align: middle;\n",
       "    }\n",
       "\n",
       "    .dataframe tbody tr th {\n",
       "        vertical-align: top;\n",
       "    }\n",
       "\n",
       "    .dataframe thead th {\n",
       "        text-align: right;\n",
       "    }\n",
       "</style>\n",
       "<table border=\"1\" class=\"dataframe\">\n",
       "  <thead>\n",
       "    <tr style=\"text-align: right;\">\n",
       "      <th></th>\n",
       "      <th>Company</th>\n",
       "      <th>TypeName</th>\n",
       "      <th>Ram</th>\n",
       "      <th>Weight</th>\n",
       "      <th>Touchscreen</th>\n",
       "      <th>Ips</th>\n",
       "      <th>ppi</th>\n",
       "      <th>Cpu brand</th>\n",
       "      <th>HDD</th>\n",
       "      <th>SSD</th>\n",
       "      <th>Gpu brand</th>\n",
       "      <th>os</th>\n",
       "    </tr>\n",
       "  </thead>\n",
       "  <tbody>\n",
       "    <tr>\n",
       "      <th>183</th>\n",
       "      <td>Toshiba</td>\n",
       "      <td>Notebook</td>\n",
       "      <td>8</td>\n",
       "      <td>2.00</td>\n",
       "      <td>0</td>\n",
       "      <td>0</td>\n",
       "      <td>100.454670</td>\n",
       "      <td>Intel Core i5</td>\n",
       "      <td>0</td>\n",
       "      <td>128</td>\n",
       "      <td>Intel</td>\n",
       "      <td>Windows</td>\n",
       "    </tr>\n",
       "    <tr>\n",
       "      <th>1141</th>\n",
       "      <td>MSI</td>\n",
       "      <td>Gaming</td>\n",
       "      <td>8</td>\n",
       "      <td>2.40</td>\n",
       "      <td>0</td>\n",
       "      <td>0</td>\n",
       "      <td>141.211998</td>\n",
       "      <td>Intel Core i7</td>\n",
       "      <td>1000</td>\n",
       "      <td>128</td>\n",
       "      <td>Nvidia</td>\n",
       "      <td>Windows</td>\n",
       "    </tr>\n",
       "    <tr>\n",
       "      <th>1049</th>\n",
       "      <td>Asus</td>\n",
       "      <td>Netbook</td>\n",
       "      <td>4</td>\n",
       "      <td>1.20</td>\n",
       "      <td>0</td>\n",
       "      <td>0</td>\n",
       "      <td>135.094211</td>\n",
       "      <td>Other Intel Processor</td>\n",
       "      <td>0</td>\n",
       "      <td>0</td>\n",
       "      <td>Intel</td>\n",
       "      <td>Others/No OS/Linux</td>\n",
       "    </tr>\n",
       "    <tr>\n",
       "      <th>1020</th>\n",
       "      <td>Dell</td>\n",
       "      <td>2 in 1 Convertible</td>\n",
       "      <td>4</td>\n",
       "      <td>2.08</td>\n",
       "      <td>1</td>\n",
       "      <td>1</td>\n",
       "      <td>141.211998</td>\n",
       "      <td>Intel Core i3</td>\n",
       "      <td>1000</td>\n",
       "      <td>0</td>\n",
       "      <td>Intel</td>\n",
       "      <td>Windows</td>\n",
       "    </tr>\n",
       "    <tr>\n",
       "      <th>878</th>\n",
       "      <td>Dell</td>\n",
       "      <td>Notebook</td>\n",
       "      <td>4</td>\n",
       "      <td>2.18</td>\n",
       "      <td>0</td>\n",
       "      <td>0</td>\n",
       "      <td>141.211998</td>\n",
       "      <td>Intel Core i5</td>\n",
       "      <td>1000</td>\n",
       "      <td>128</td>\n",
       "      <td>Nvidia</td>\n",
       "      <td>Windows</td>\n",
       "    </tr>\n",
       "    <tr>\n",
       "      <th>...</th>\n",
       "      <td>...</td>\n",
       "      <td>...</td>\n",
       "      <td>...</td>\n",
       "      <td>...</td>\n",
       "      <td>...</td>\n",
       "      <td>...</td>\n",
       "      <td>...</td>\n",
       "      <td>...</td>\n",
       "      <td>...</td>\n",
       "      <td>...</td>\n",
       "      <td>...</td>\n",
       "      <td>...</td>\n",
       "    </tr>\n",
       "    <tr>\n",
       "      <th>466</th>\n",
       "      <td>Acer</td>\n",
       "      <td>Notebook</td>\n",
       "      <td>4</td>\n",
       "      <td>2.20</td>\n",
       "      <td>0</td>\n",
       "      <td>0</td>\n",
       "      <td>100.454670</td>\n",
       "      <td>Intel Core i3</td>\n",
       "      <td>500</td>\n",
       "      <td>0</td>\n",
       "      <td>Nvidia</td>\n",
       "      <td>Windows</td>\n",
       "    </tr>\n",
       "    <tr>\n",
       "      <th>299</th>\n",
       "      <td>Asus</td>\n",
       "      <td>Ultrabook</td>\n",
       "      <td>16</td>\n",
       "      <td>1.63</td>\n",
       "      <td>0</td>\n",
       "      <td>0</td>\n",
       "      <td>141.211998</td>\n",
       "      <td>Intel Core i7</td>\n",
       "      <td>0</td>\n",
       "      <td>512</td>\n",
       "      <td>Nvidia</td>\n",
       "      <td>Windows</td>\n",
       "    </tr>\n",
       "    <tr>\n",
       "      <th>493</th>\n",
       "      <td>Acer</td>\n",
       "      <td>Notebook</td>\n",
       "      <td>8</td>\n",
       "      <td>2.20</td>\n",
       "      <td>0</td>\n",
       "      <td>0</td>\n",
       "      <td>100.454670</td>\n",
       "      <td>AMD Processor</td>\n",
       "      <td>1000</td>\n",
       "      <td>0</td>\n",
       "      <td>AMD</td>\n",
       "      <td>Windows</td>\n",
       "    </tr>\n",
       "    <tr>\n",
       "      <th>527</th>\n",
       "      <td>Lenovo</td>\n",
       "      <td>Notebook</td>\n",
       "      <td>8</td>\n",
       "      <td>2.20</td>\n",
       "      <td>0</td>\n",
       "      <td>0</td>\n",
       "      <td>100.454670</td>\n",
       "      <td>Intel Core i3</td>\n",
       "      <td>2000</td>\n",
       "      <td>0</td>\n",
       "      <td>Nvidia</td>\n",
       "      <td>Others/No OS/Linux</td>\n",
       "    </tr>\n",
       "    <tr>\n",
       "      <th>1193</th>\n",
       "      <td>Apple</td>\n",
       "      <td>Ultrabook</td>\n",
       "      <td>8</td>\n",
       "      <td>0.92</td>\n",
       "      <td>0</td>\n",
       "      <td>1</td>\n",
       "      <td>226.415547</td>\n",
       "      <td>Other Intel Processor</td>\n",
       "      <td>0</td>\n",
       "      <td>0</td>\n",
       "      <td>Intel</td>\n",
       "      <td>Mac</td>\n",
       "    </tr>\n",
       "  </tbody>\n",
       "</table>\n",
       "<p>1106 rows × 12 columns</p>\n",
       "</div>"
      ],
      "text/plain": [
       "      Company            TypeName  Ram  Weight  Touchscreen  Ips         ppi  \\\n",
       "183   Toshiba            Notebook    8    2.00            0    0  100.454670   \n",
       "1141      MSI              Gaming    8    2.40            0    0  141.211998   \n",
       "1049     Asus             Netbook    4    1.20            0    0  135.094211   \n",
       "1020     Dell  2 in 1 Convertible    4    2.08            1    1  141.211998   \n",
       "878      Dell            Notebook    4    2.18            0    0  141.211998   \n",
       "...       ...                 ...  ...     ...          ...  ...         ...   \n",
       "466      Acer            Notebook    4    2.20            0    0  100.454670   \n",
       "299      Asus           Ultrabook   16    1.63            0    0  141.211998   \n",
       "493      Acer            Notebook    8    2.20            0    0  100.454670   \n",
       "527    Lenovo            Notebook    8    2.20            0    0  100.454670   \n",
       "1193    Apple           Ultrabook    8    0.92            0    1  226.415547   \n",
       "\n",
       "                  Cpu brand   HDD  SSD Gpu brand                  os  \n",
       "183           Intel Core i5     0  128     Intel             Windows  \n",
       "1141          Intel Core i7  1000  128    Nvidia             Windows  \n",
       "1049  Other Intel Processor     0    0     Intel  Others/No OS/Linux  \n",
       "1020          Intel Core i3  1000    0     Intel             Windows  \n",
       "878           Intel Core i5  1000  128    Nvidia             Windows  \n",
       "...                     ...   ...  ...       ...                 ...  \n",
       "466           Intel Core i3   500    0    Nvidia             Windows  \n",
       "299           Intel Core i7     0  512    Nvidia             Windows  \n",
       "493           AMD Processor  1000    0       AMD             Windows  \n",
       "527           Intel Core i3  2000    0    Nvidia  Others/No OS/Linux  \n",
       "1193  Other Intel Processor     0    0     Intel                 Mac  \n",
       "\n",
       "[1106 rows x 12 columns]"
      ]
     },
     "execution_count": 108,
     "metadata": {},
     "output_type": "execute_result"
    }
   ],
   "source": [
    "X_train"
   ]
  },
  {
   "cell_type": "code",
   "execution_count": null,
   "id": "55367c9e",
   "metadata": {},
   "outputs": [],
   "source": []
  },
  {
   "cell_type": "code",
   "execution_count": null,
   "id": "ac3c3da3",
   "metadata": {},
   "outputs": [],
   "source": []
  }
 ],
 "metadata": {
  "kernelspec": {
   "display_name": "Python 3",
   "language": "python",
   "name": "python3"
  },
  "language_info": {
   "codemirror_mode": {
    "name": "ipython",
    "version": 3
   },
   "file_extension": ".py",
   "mimetype": "text/x-python",
   "name": "python",
   "nbconvert_exporter": "python",
   "pygments_lexer": "ipython3",
   "version": "3.9.6"
  }
 },
 "nbformat": 4,
 "nbformat_minor": 5
}
